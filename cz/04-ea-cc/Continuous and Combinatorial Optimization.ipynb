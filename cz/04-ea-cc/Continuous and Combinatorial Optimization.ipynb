{
 "cells": [
  {
   "cell_type": "markdown",
   "metadata": {},
   "source": [
    "# Continuous Optimization\n",
    "\n",
    "Tentokrát použijeme knihovnu `deap` library pro implementaci evolučního algoritmu pro 1) spojitou optimalizaci a 2) kombinatorickou optimalizaci. Hlavní výhoda `deap`u je, že spoustu genetických operátorů pro tyto problémy je tam naimplementováno.\n",
    "\n",
    "Začneme se spojitou optimalizací a navrhneme algoritmus, který optimalizuje (hledá min.) zadanou funkci - pro nás tzv. [Rastrigin funkce](https://en.wikipedia.org/wiki/Rastrigin_function), často používaná pro vyhodnocení optimalizačních algoritmů.\n",
    "\n",
    "Taková funkce by se např. pomocí gradient descentu optimalizovala *velmi* špatně, protože má spoustu lokálních optim. Stejně tak by činili problémy sedlové body. Evoluční algoritmy se pro tento typ problémů skvěle hodí."
   ]
  },
  {
   "cell_type": "code",
   "execution_count": 1,
   "metadata": {},
   "outputs": [],
   "source": [
    "import random\n",
    "\n",
    "from deap import base\n",
    "from deap import creator\n",
    "from deap import tools\n",
    "\n",
    "IND_DIM = 20\n",
    "LOWER_BOUND = -5.12\n",
    "UPPER_BOUND = 5.12\n",
    "\n",
    "creator.create(\"FitnessMin\", base.Fitness, weights=(-1.0,))     # fitness for minimization - notice the negative weight\n",
    "creator.create(\"Individual\", list, fitness=creator.FitnessMin)  # create class for individuals - derived from list and uses the fitness defined above\n",
    "\n",
    "toolbox = base.Toolbox()\n",
    "toolbox.register(\"attr_val\", random.uniform, LOWER_BOUND, UPPER_BOUND)             # generates a single random number between 0 and 1\n",
    "toolbox.register(\"individual\", tools.initRepeat, creator.Individual, toolbox.attr_val, IND_DIM)\n",
    "toolbox.register(\"population\", tools.initRepeat, list, toolbox.individual)"
   ]
  },
  {
   "cell_type": "markdown",
   "metadata": {},
   "source": [
    "Podíváme se, jak fungují metody z toolboxu:"
   ]
  },
  {
   "cell_type": "code",
   "execution_count": 2,
   "metadata": {},
   "outputs": [
    {
     "name": "stdout",
     "output_type": "stream",
     "text": [
      "attr_val: 4.582811182484689\n",
      "individual: [-0.3736382439316932, 4.869394348939568, 2.659806769539454, -1.6207804204265766, 3.160824604370492]\n",
      "individual length:  20\n",
      "\n",
      "population(5): [[3.0453554185302965, -3.1757856591069027, 1.8581180703649833, -2.4262375483915513, -0.512105022829469, -4.0579477199203255, -1.7746567231294432, 1.970598636843599, 2.074440579250858, 1.277261367407223, 0.8214613314393127, -2.878680787817988, 4.214454636931303, -2.56356795426094, -2.2786424178969535, 4.79348105747282, 1.8568609721008809, -4.371242593516585, 0.5970119283053403, -0.34616792680728814], [-1.3905768564877268, -1.6372424247975905, 3.0605757309991324, 1.1320555576585356, 1.3345101896814358, -0.9246858016659152, -2.0829476318444167, -4.101883184437773, -1.0471556977970815, 1.753087973454444, -2.6001595900519567, 1.3619123507540767, -1.154014570251492, -4.961827919709188, 2.671568460250187, 2.180039730737426, 2.3684021829265633, 0.34049578606209785, -0.8482087383830965, 1.61621824019982], [-3.3764754620142776, 3.8873222599883386, 3.8799473858554387, 3.023976723048169, -3.3795407563224535, 3.9071675428493373, -4.312749701051529, -2.9073539194012517, 5.038434838621774, -1.160991447985308, 3.2316548398018226, -2.3219052194498024, 3.557192840310143, -4.285914448530094, -3.715089245156406, -3.4909862103881997, -2.693264715490708, 0.6906555166210842, 1.1407916468473607, 4.335233348861524], [-1.243413951779818, 0.7339714544947098, -1.6845899172182248, -3.3575021152964517, -4.8809741746955035, 3.5159821423170525, 1.7760782018597006, -3.1770490376045215, 3.359983877212838, 3.672293258862646, -2.9637578778540785, -1.6250603743304906, 5.026551855934122, 1.7299096010857298, -2.72620335872452, -1.812331735517105, 1.4784070314588451, 4.267141705047716, -2.5995750280086884, 1.0231996139407418], [-4.901936926594784, 0.1803429253857134, 4.714366852929968, -3.6284977381693047, -1.8396028010065608, -3.377418836759082, 2.794552441542276, 1.338729320227369, -1.831356334950565, -2.50104582047157, 1.5731171546757832, -3.861530551578154, 4.526894725945607, -1.5587973340348005, -2.180426159121763, 3.648954448401059, 1.760491322182074, -0.36136300365894947, -4.567877827664374, -3.3244908430706355]]\n"
     ]
    }
   ],
   "source": [
    "print(\"attr_val:\", toolbox.attr_val())\n",
    "print(\"individual:\", toolbox.individual()[:5]) # plot first 5 elements of the individual\n",
    "print(\"individual length: \", len(toolbox.individual()))\n",
    "print()\n",
    "print(\"population(5):\", toolbox.population(5))  # list of lists"
   ]
  },
  {
   "cell_type": "markdown",
   "metadata": {},
   "source": [
    "Nyní si zadefinujeme genetické operátory:"
   ]
  },
  {
   "cell_type": "code",
   "execution_count": 4,
   "metadata": {},
   "outputs": [],
   "source": [
    "toolbox.register(\"mate\", tools.cxTwoPoint)\n",
    "toolbox.register(\"mutate\", tools.mutGaussian, mu=0, sigma=0.1, indpb=0.05)\n",
    "toolbox.register(\"select\", tools.selTournament, tournsize=2)"
   ]
  },
  {
   "cell_type": "markdown",
   "metadata": {},
   "source": [
    "...a fitness funkci"
   ]
  },
  {
   "cell_type": "code",
   "execution_count": 6,
   "metadata": {},
   "outputs": [],
   "source": [
    "import math\n",
    "def rastrigin(ind):\n",
    "    return 10*len(ind) + sum([(x**2 - 10 * math.cos(2 * math.pi * x)) for x in ind]),\n",
    "\n",
    "toolbox.register(\"evaluate\", rastrigin)"
   ]
  },
  {
   "cell_type": "markdown",
   "metadata": {},
   "source": [
    "Dáme všechno dohromady a spustíme evoluci"
   ]
  },
  {
   "cell_type": "code",
   "execution_count": 9,
   "metadata": {},
   "outputs": [
    {
     "name": "stdout",
     "output_type": "stream",
     "text": [
      "[[0.0008089145083495957, -0.992457216482603, -0.9940609895032952, -0.006075619131771359, -1.9900548597796228, -2.986720508091607, -0.99672136198589, -1.9925181925248612, 0.001022025217669609, 0.0002308026847227876, 0.99302147277469, -2.9816863109641454, -1.9882923641185437, -0.9940358337318982, -2.9834317318790937, 1.9895877803174236, -1.997970481038191, -2.984445452999534, -1.9893438516386948, -0.9939777599697934]] 65.69586093961917\n"
     ]
    }
   ],
   "source": [
    "from deap import algorithms\n",
    "import numpy as np\n",
    "\n",
    "s = tools.Statistics(lambda x: x.fitness.values[0])\n",
    "s.register(\"mean\", np.mean)\n",
    "s.register(\"max\", max)\n",
    "s.register(\"min\", min)\n",
    "\n",
    "hof = tools.HallOfFame(1)  # best individual\n",
    "\n",
    "cxpb = 0.8\n",
    "mutpb = 0.2\n",
    "\n",
    "pop = toolbox.population(100)\n",
    "pop, log = algorithms.eaMuPlusLambda(pop, toolbox, mu=100, lambda_=100, cxpb=cxpb, mutpb=mutpb, ngen=500, stats=s, halloffame=hof, verbose=False)\n",
    "\n",
    "print(hof, hof[0].fitness.values[0])"
   ]
  },
  {
   "cell_type": "markdown",
   "metadata": {},
   "source": [
    "### Side quest 1\n",
    "- plot min/max/mean fitness values using `log` and matplotlib"
   ]
  },
  {
   "cell_type": "code",
   "execution_count": null,
   "metadata": {},
   "outputs": [],
   "source": []
  },
  {
   "cell_type": "markdown",
   "metadata": {},
   "source": [
    "## Task 1\n",
    "- Zkuste si pohrát s parametry algoritmu (popřípadě pozměňte algoritmus) tak, abyste se přiblížili optimálnímu řešení.\n",
    "- Pro přehled možných genetických operátorů/variant genetických algorimů se podívejte do dokumentace k `deap`u.\n",
    "- Můžete to zkoušet zde, anebo pomocí python filu v repu\n",
    "\n",
    "Optimum funkce by mělo být 0 a nejlepší jedinec by měl mít samé 0.\n",
    "\n",
    "Níže jsou příklady kódu jak zaznamenávat výsledky pro různá nastavení. Dobré je si parametry, které měním, zadefinovat jako proměnné, pak je můžu zapisovat do dictu nebo listu"
   ]
  },
  {
   "cell_type": "code",
   "execution_count": null,
   "metadata": {},
   "outputs": [],
   "source": [
    "# Example 1 how to track results in a jupyter ntb\n",
    "# (be careful to not overwrite results! Define them somewhere at the top of the file)\n",
    "results = {}\n",
    "\n",
    "# one result per setting\n",
    "results[f\"cxpb-{cxpb}_mutpb-{mutpb}\"] = hof[0].fitness.values[0]"
   ]
  },
  {
   "cell_type": "code",
   "execution_count": null,
   "metadata": {},
   "outputs": [],
   "source": [
    "# Example 2 how to track results in a jupyter ntb\n",
    "\n",
    "results = []\n",
    "\n",
    "# **** do EA here, log results ****\n",
    "results.append({'seed': random_seed, \"cxpb\": cxpb, \"mutpb\": mutpb, \"result\": result})\n",
    "\n",
    "# I can also create a pandas dataframe and save it to csv!\n",
    "import pandas as pd\n",
    "\n",
    "results = pd.DataFrame(results)\n",
    "results.to_csv('res.csv')"
   ]
  },
  {
   "cell_type": "code",
   "execution_count": null,
   "metadata": {},
   "outputs": [],
   "source": [
    "# illustration how to log function choices\n",
    "cx_zoo = {\"twopoint\": tools.cxTwoPoint, \"dummy\": lambda x, y: x}\n",
    "\n",
    "toolbox.register(\"mate\", cxzoo[\"twopoint\"])\n",
    "\n",
    "# then in logging...\n",
    "# results.append({'cx': 'twopoint', \"result\": result})"
   ]
  },
  {
   "cell_type": "code",
   "execution_count": null,
   "metadata": {},
   "outputs": [],
   "source": []
  },
  {
   "cell_type": "code",
   "execution_count": 10,
   "metadata": {},
   "outputs": [
    {
     "data": {
      "text/plain": [
       "['cx_0.1.json', 'cx_0.5.json', 'cx_0.25.json', 'cx_0.7.json']"
      ]
     },
     "execution_count": 10,
     "metadata": {},
     "output_type": "execute_result"
    }
   ],
   "source": [
    "# results processing from python files\n",
    "\n",
    "import os\n",
    "import json\n",
    "import pandas as pd\n",
    "\n",
    "os.listdir('results')"
   ]
  },
  {
   "cell_type": "code",
   "execution_count": 11,
   "metadata": {},
   "outputs": [
    {
     "data": {
      "text/html": [
       "<div>\n",
       "<style scoped>\n",
       "    .dataframe tbody tr th:only-of-type {\n",
       "        vertical-align: middle;\n",
       "    }\n",
       "\n",
       "    .dataframe tbody tr th {\n",
       "        vertical-align: top;\n",
       "    }\n",
       "\n",
       "    .dataframe thead th {\n",
       "        text-align: right;\n",
       "    }\n",
       "</style>\n",
       "<table border=\"1\" class=\"dataframe\">\n",
       "  <thead>\n",
       "    <tr style=\"text-align: right;\">\n",
       "      <th></th>\n",
       "      <th>name</th>\n",
       "      <th>pop_size</th>\n",
       "      <th>cxpb</th>\n",
       "      <th>result</th>\n",
       "    </tr>\n",
       "  </thead>\n",
       "  <tbody>\n",
       "    <tr>\n",
       "      <th>0</th>\n",
       "      <td>cx_0.1</td>\n",
       "      <td>100</td>\n",
       "      <td>0.10</td>\n",
       "      <td>81.652314</td>\n",
       "    </tr>\n",
       "    <tr>\n",
       "      <th>1</th>\n",
       "      <td>cx_0.5</td>\n",
       "      <td>100</td>\n",
       "      <td>0.50</td>\n",
       "      <td>47.793220</td>\n",
       "    </tr>\n",
       "    <tr>\n",
       "      <th>2</th>\n",
       "      <td>cx_0.25</td>\n",
       "      <td>100</td>\n",
       "      <td>0.25</td>\n",
       "      <td>107.494415</td>\n",
       "    </tr>\n",
       "    <tr>\n",
       "      <th>3</th>\n",
       "      <td>cx_0.7</td>\n",
       "      <td>100</td>\n",
       "      <td>0.70</td>\n",
       "      <td>64.683693</td>\n",
       "    </tr>\n",
       "  </tbody>\n",
       "</table>\n",
       "</div>"
      ],
      "text/plain": [
       "      name  pop_size  cxpb      result\n",
       "0   cx_0.1       100  0.10   81.652314\n",
       "1   cx_0.5       100  0.50   47.793220\n",
       "2  cx_0.25       100  0.25  107.494415\n",
       "3   cx_0.7       100  0.70   64.683693"
      ]
     },
     "execution_count": 11,
     "metadata": {},
     "output_type": "execute_result"
    }
   ],
   "source": [
    "run_df = []\n",
    "\n",
    "for fname in os.listdir('results'):\n",
    "    with open(os.path.join('results', fname), 'r') as f:\n",
    "        run_data = json.load(f)\n",
    "    \n",
    "    name = os.path.splitext(fname)[0]\n",
    "    run_data = {'name': name, **run_data}  # so that name is the first column\n",
    "    run_df.append(run_data)\n",
    "    \n",
    "run_df = pd.DataFrame(run_df)\n",
    "run_df"
   ]
  },
  {
   "cell_type": "code",
   "execution_count": null,
   "metadata": {},
   "outputs": [],
   "source": []
  },
  {
   "cell_type": "markdown",
   "metadata": {},
   "source": [
    "# Kombinatorická optimalizace (Travelling Salesman Problem)\n",
    "\n",
    "Nyní použijeme EA pro vyřešení problému obchodního cestujícího (z anglického názvu - TSP).\n",
    "Opět použijeme `deap`. \n",
    "\n",
    "Nejdřív vygenerujeme náhodně body v rovině, pak budeme hledat nejkratší cyklus, který je navštíví."
   ]
  },
  {
   "cell_type": "code",
   "execution_count": 19,
   "metadata": {},
   "outputs": [
    {
     "data": {
      "image/png": "[encoded data removed]",
      "text/plain": [
       "<Figure size 432x288 with 1 Axes>"
      ]
     },
     "metadata": {
      "needs_background": "light"
     },
     "output_type": "display_data"
    }
   ],
   "source": [
    "NUM_CITIES = 50\n",
    "\n",
    "points = np.random.uniform(size=(NUM_CITIES, 2))\n",
    "\n",
    "import matplotlib.pyplot as plt\n",
    "plt.scatter(points[:,0], points[:,1])\n",
    "\n",
    "creator.create(\"FitnessMinTSP\", base.Fitness, weights=(-1.0,))     # fitness for minimization - notice the negative weight\n",
    "creator.create(\"IndividualTSP\", list, fitness=creator.FitnessMinTSP)  # create class for individuals - derived from list and uses the fitness defined above\n",
    "\n",
    "toolboxTSP = base.Toolbox()\n",
    "toolboxTSP.register(\"indices\", random.sample, range(NUM_CITIES), NUM_CITIES)\n",
    "toolboxTSP.register(\"individual\", tools.initIterate, creator.Individual, toolboxTSP.indices) # initIterate can be used to initialize individual from any iterable object\n",
    "toolboxTSP.register(\"population\", tools.initRepeat, list, toolboxTSP.individual)"
   ]
  },
  {
   "cell_type": "markdown",
   "metadata": {},
   "source": [
    "Zase se podíváme na funkce v toolboxu:"
   ]
  },
  {
   "cell_type": "code",
   "execution_count": 20,
   "metadata": {},
   "outputs": [
    {
     "name": "stdout",
     "output_type": "stream",
     "text": [
      "indices: [48, 23, 20, 2, 49, 19, 21, 27, 35, 3, 13, 14, 17, 30, 29, 5, 40, 32, 0, 7, 12, 10, 16, 44, 42, 6, 18, 28, 33, 31, 34, 43, 37, 1, 4, 9, 11, 25, 47, 38, 15, 8, 22, 46, 24, 26, 36, 45, 39, 41]\n",
      "individual: [10, 11, 48, 3, 19, 22, 24, 17, 21, 23, 16, 39, 0, 13, 40, 18, 33, 27, 9, 35, 4, 8, 20, 12, 43, 29, 47, 15, 34, 32, 41, 14, 2, 30, 44, 38, 25, 26, 46, 31, 36, 7, 37, 42, 5, 6, 1, 28, 45, 49]\n"
     ]
    }
   ],
   "source": [
    "print(\"indices:\", toolboxTSP.indices())\n",
    "print(\"individual:\", toolboxTSP.individual())"
   ]
  },
  {
   "cell_type": "markdown",
   "metadata": {},
   "source": [
    "Naimplementujeme fitness funkci -- sumu Euclidovských vzdáleností mezi sousedícími body v cyklu."
   ]
  },
  {
   "cell_type": "code",
   "execution_count": 40,
   "metadata": {},
   "outputs": [],
   "source": [
    "def fitness(ind, points):\n",
    "    ordered = points[ind]\n",
    "    fit = 0\n",
    "    for s, e in zip(ordered, ordered[1:]):\n",
    "        fit += np.linalg.norm(s - e)\n",
    "    fit += np.linalg.norm(ordered[0] - ordered[-1])\n",
    "    return fit,\n",
    "\n",
    "toolboxTSP.register(\"evaluate\", fitness, points=points)\n",
    "toolboxTSP.register(\"mate\", tools.cxOrdered)\n",
    "toolboxTSP.register(\"mutate\", tools.mutShuffleIndexes, indpb=0.05)\n",
    "toolboxTSP.register(\"select\", tools.selTournament, tournsize=2)"
   ]
  },
  {
   "cell_type": "markdown",
   "metadata": {},
   "source": [
    "Spustíme algoritmus"
   ]
  },
  {
   "cell_type": "code",
   "execution_count": 50,
   "metadata": {},
   "outputs": [],
   "source": [
    "pop = toolboxTSP.population(n=100)\n",
    "hof = tools.HallOfFame(1)\n",
    "stats = tools.Statistics(lambda ind: ind.fitness.values)\n",
    "stats.register(\"avg\", np.mean)\n",
    "stats.register(\"std\", np.std)\n",
    "stats.register(\"min\", np.min)\n",
    "stats.register(\"max\", np.max)\n",
    "    \n",
    "pop, log = algorithms.eaMuPlusLambda(pop, toolboxTSP, mu=200, lambda_=500, cxpb=0.8, mutpb=0.2, ngen=500, stats=stats, halloffame=hof, verbose=False)"
   ]
  },
  {
   "cell_type": "markdown",
   "metadata": {},
   "source": [
    "Vyplotíme nejlepší řešení (v plotu nebudeme mít hranu mezi posledním a prvním vrcholem, ale ve fitness se to počítá správně)."
   ]
  },
  {
   "cell_type": "code",
   "execution_count": 51,
   "metadata": {},
   "outputs": [
    {
     "data": {
      "text/plain": [
       "[<matplotlib.lines.Line2D at 0x7f16f2aa0280>]"
      ]
     },
     "execution_count": 51,
     "metadata": {},
     "output_type": "execute_result"
    },
    {
     "data": {
      "image/png": "[encoded data removed]",
      "text/plain": [
       "<Figure size 432x288 with 1 Axes>"
      ]
     },
     "metadata": {
      "needs_background": "light"
     },
     "output_type": "display_data"
    }
   ],
   "source": [
    "plt.scatter(points[:,0], points[:,1])\n",
    "plt.plot(points[hof[0]][:,0], points[hof[0]][:,1])"
   ]
  },
  {
   "cell_type": "code",
   "execution_count": 52,
   "metadata": {},
   "outputs": [
    {
     "name": "stdout",
     "output_type": "stream",
     "text": [
      "6.005114049090767\n"
     ]
    }
   ],
   "source": [
    "print(hof[0].fitness.values[0])"
   ]
  },
  {
   "cell_type": "markdown",
   "metadata": {},
   "source": [
    "## Task 2\n",
    "- Pohrajte si s nastavením algoritmu pro řešení TSP (stejně jako předtím, zkustě měnit parametry a/nebo operátory z `deap`u)\n",
    "- Co se stane, když zvýšíme počet vrcholů?"
   ]
  },
  {
   "cell_type": "code",
   "execution_count": null,
   "metadata": {},
   "outputs": [],
   "source": []
  }
 ],
 "metadata": {
  "kernelspec": {
   "display_name": "Python 3 (ipykernel)",
   "language": "python",
   "name": "python3"
  },
  "language_info": {
   "codemirror_mode": {
    "name": "ipython",
    "version": 3
   },
   "file_extension": ".py",
   "mimetype": "text/x-python",
   "name": "python",
   "nbconvert_exporter": "python",
   "pygments_lexer": "ipython3",
   "version": "3.8.10"
  }
 },
 "nbformat": 4,
 "nbformat_minor": 4
}
