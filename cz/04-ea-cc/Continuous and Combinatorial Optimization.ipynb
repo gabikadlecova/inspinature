{
 "cells": [
  {
   "cell_type": "markdown",
   "metadata": {},
   "source": [
    "# Continuous Optimization\n",
    "\n",
    "Tentokrát použijeme knihovnu `deap` library pro implementaci evolučního algoritmu pro 1) spojitou optimalizaci a 2) kombinatorickou optimalizaci. Hlavní výhoda `deap`u je, že spoustu genetických operátorů pro tyto problémy je tam naimplementováno.\n",
    "\n",
    "Začneme se spojitou optimalizací a navrhneme algoritmus, který optimalizuje (hledá min.) zadanou funkci - pro nás tzv. [Rastrigin funkce](https://en.wikipedia.org/wiki/Rastrigin_function), často používaná pro vyhodnocení optimalizačních algoritmů.\n",
    "\n",
    "Taková funkce by se např. pomocí gradient descentu optimalizovala *velmi* špatně, protože má spoustu lokálních optim. Stejně tak by činili problémy sedlové body. Evoluční algoritmy se pro tento typ problémů skvěle hodí."
   ]
  },
  {
   "cell_type": "code",
   "execution_count": 2,
   "metadata": {},
   "outputs": [
    {
     "name": "stderr",
     "output_type": "stream",
     "text": [
      "/home/gabi/.env/lib/python3.8/site-packages/deap/creator.py:138: RuntimeWarning: A class named 'FitnessMin' has already been created and it will be overwritten. Consider deleting previous creation of that class or rename it.\n",
      "  warnings.warn(\"A class named '{0}' has already been created and it \"\n",
      "/home/gabi/.env/lib/python3.8/site-packages/deap/creator.py:138: RuntimeWarning: A class named 'Individual' has already been created and it will be overwritten. Consider deleting previous creation of that class or rename it.\n",
      "  warnings.warn(\"A class named '{0}' has already been created and it \"\n"
     ]
    }
   ],
   "source": [
    "import random\n",
    "\n",
    "from deap import base\n",
    "from deap import creator\n",
    "from deap import tools\n",
    "\n",
    "IND_DIM = 20\n",
    "LOWER_BOUND = -5.12\n",
    "UPPER_BOUND = 5.12\n",
    "\n",
    "creator.create(\"FitnessMin\", base.Fitness, weights=(-1.0,))     # fitness for minimization - notice the negative weight\n",
    "creator.create(\"Individual\", list, fitness=creator.FitnessMin)  # create class for individuals - derived from list and uses the fitness defined above\n",
    "\n",
    "toolbox = base.Toolbox()\n",
    "toolbox.register(\"attr_val\", random.uniform, LOWER_BOUND, UPPER_BOUND)             # generates a single random number between 0 and 1\n",
    "toolbox.register(\"individual\", tools.initRepeat, creator.Individual, toolbox.attr_val, IND_DIM)\n",
    "toolbox.register(\"population\", tools.initRepeat, list, toolbox.individual)"
   ]
  },
  {
   "cell_type": "markdown",
   "metadata": {},
   "source": [
    "Podíváme se, jak fungují metody z toolboxu:"
   ]
  },
  {
   "cell_type": "code",
   "execution_count": 8,
   "metadata": {},
   "outputs": [
    {
     "name": "stdout",
     "output_type": "stream",
     "text": [
      "attr_val: -4.04627505584982\n",
      "individual: [-2.6217510552566705, -1.672341920485933, -0.9278116190625054, 0.9340591321824716, 1.8238723971122894]\n",
      "individual length:  20\n",
      "\n",
      "population(5): [[4.652610914135191, -2.030191437300298, 4.587194257654434, 0.8259515029978628, 1.2054012481292151, 4.1866139671249405, -0.7898006262141903, -3.17576144122574, -3.145621349327415, -2.5075339632205895, -4.703967204100314, -3.803630875598368, -2.829518064161913, -2.1894704620990297, 1.3615385459081688, -1.2158491354792362, 3.127826503775503, 1.9628655092389993, 0.019628531719341424, -2.226181760964356], [-2.680646489172449, 0.47523294485424117, 3.9692116355602396, -2.5381829418224915, -2.7223526146150006, -0.014592226061317604, -4.9290742084909365, -2.5468754251332895, 0.4236244783239478, -2.2045465530620265, 3.341038820472039, 0.29448149378155364, 4.059927111909283, -2.3330650387497553, 0.8504908383592502, 3.533521066528489, 5.04593215223371, 5.084108164726142, 0.24341756407255932, 4.150324286147845], [-3.1490930869237834, 1.6659789191512617, 0.5511037292046934, -2.771758729900381, 0.9695550889905258, -1.0650116390588567, 4.230069753174386, -4.245177521769385, -2.524628769518837, -0.08497045460755537, 2.9071619459622413, -5.100152896243962, 4.218704652556528, 3.777156188230804, 0.7723612051140014, 1.9159508861577565, 0.6674579693382272, -4.71904865614577, -2.7223920915815496, 4.720787526410793], [0.25918336518292673, 4.862721108335431, -2.975089088022276, -3.524701428637538, 4.947718068611107, 1.2828516890639854, 3.0474260315197776, -0.25221177763813785, 4.672810588665954, -4.2326231953658775, 5.031870747813971, -5.100179785558512, -3.8879738030067177, 2.3304833858271072, -3.8116705360608627, 1.1178373757966957, 3.4181955036934903, 2.6117101477845397, -4.40266851313709, -1.5856888730645324], [3.9330870915356, -0.643732570396919, 3.2768507246673204, -1.474249981082206, 0.30798614049798534, -0.5972723833079883, -2.5391898781425914, -4.6864426073038175, 0.7325624927619829, -4.903932639029371, -2.5810978735779453, -4.7772069901892875, 4.85141795720791, 3.79042373736364, 4.300321423809714, -4.037887445180522, -2.1233889506830836, 3.2560665572426393, -2.475251490246237, 3.2632772034147406]]\n"
     ]
    }
   ],
   "source": [
    "print(\"attr_val:\", toolbox.attr_val())\n",
    "print(\"individual:\", toolbox.individual()[:5]) # plot first 5 elements of the individual\n",
    "print(\"individual length: \", len(toolbox.individual()))\n",
    "print()\n",
    "print(\"population(5):\", toolbox.population(5))  # list of lists"
   ]
  },
  {
   "cell_type": "markdown",
   "metadata": {},
   "source": [
    "Nyní si zadefinujeme genetické operátory:"
   ]
  },
  {
   "cell_type": "code",
   "execution_count": 12,
   "metadata": {},
   "outputs": [],
   "source": [
    "toolbox.register(\"mate\", tools.cxTwoPoint)\n",
    "toolbox.register(\"mutate\", tools.mutGaussian, mu=0, sigma=0.1, indpb=0.05)\n",
    "toolbox.register(\"select\", tools.selTournament, tournsize=2)"
   ]
  },
  {
   "cell_type": "markdown",
   "metadata": {},
   "source": [
    "...a fitness funkci"
   ]
  },
  {
   "cell_type": "code",
   "execution_count": 13,
   "metadata": {},
   "outputs": [],
   "source": [
    "import math\n",
    "def rastrigin(ind):\n",
    "    return 10*len(ind) + sum([(x**2 - 10 * math.cos(2 * math.pi * x)) for x in ind]),\n",
    "\n",
    "toolbox.register(\"evaluate\", rastrigin)"
   ]
  },
  {
   "cell_type": "markdown",
   "metadata": {},
   "source": [
    "Dáme všechno dohromady a spustíme evoluci"
   ]
  },
  {
   "cell_type": "code",
   "execution_count": 14,
   "metadata": {},
   "outputs": [
    {
     "name": "stdout",
     "output_type": "stream",
     "text": [
      "[[-0.9916935039231324, 0.0029105556883999295, -0.004992926399785873, 0.9970400396381818, -1.9899921881727136, -1.9869421601089305, -0.0010078821623671248, 0.0007329294633681583, 7.018972397785771e-05, -0.0017021244847657078, 1.9851998993520972, 0.0019556000125571325, -0.9941581971492124, 0.002902621003451412, 0.9922970136927635, 1.9913964329738372, -0.0006836615982304709, 0.0006587397605088514, -0.9879775344414052, 0.9957544548387648]] 21.92006266197663\n"
     ]
    }
   ],
   "source": [
    "from deap import algorithms\n",
    "import numpy as np\n",
    "\n",
    "s = tools.Statistics(lambda x: x.fitness.values[0])\n",
    "s.register(\"mean\", np.mean)\n",
    "s.register(\"max\", max)\n",
    "s.register(\"min\", min)\n",
    "\n",
    "hof = tools.HallOfFame(1)  # best individual\n",
    "\n",
    "cxpb = 0.8\n",
    "mutpb = 0.2\n",
    "\n",
    "pop = toolbox.population(100)\n",
    "pop, log = algorithms.eaMuPlusLambda(pop, toolbox, mu=100, lambda_=100, cxpb=cxpb, mutpb=mutpb, ngen=500, stats=s, halloffame=hof, verbose=False)\n",
    "\n",
    "print(hof, hof[0].fitness.values[0])"
   ]
  },
  {
   "cell_type": "markdown",
   "metadata": {},
   "source": [
    "### Side quest 1\n",
    "- plot min/max/mean fitness values using `log` and matplotlib"
   ]
  },
  {
   "cell_type": "code",
   "execution_count": null,
   "metadata": {},
   "outputs": [],
   "source": []
  },
  {
   "cell_type": "markdown",
   "metadata": {},
   "source": [
    "## Task 1\n",
    "- Zkuste si pohrát s parametry algoritmu (popřípadě pozměňte algoritmus) tak, abyste se přiblížili optimálnímu řešení.\n",
    "- Pro přehled možných genetických operátorů/variant genetických algorimů se podívejte do dokumentace k `deap`u.\n",
    "- Můžete to zkoušet zde, anebo pomocí python filu v repu\n",
    "\n",
    "Optimum funkce by mělo být 0 a nejlepší jedinec by měl mít samé 0.\n",
    "\n",
    "Níže jsou příklady kódu jak zaznamenávat výsledky pro různá nastavení. Dobré je si parametry, které měním, zadefinovat jako proměnné, pak je můžu zapisovat do dictu nebo listu"
   ]
  },
  {
   "cell_type": "code",
   "execution_count": null,
   "metadata": {},
   "outputs": [],
   "source": [
    "# Example 1 how to track results in a jupyter ntb\n",
    "# (be careful to not overwrite results! Define them somewhere at the top of the file)\n",
    "results = {}\n",
    "\n",
    "# one result per setting\n",
    "results[f\"cxpb-{cxpb}_mutpb-{mutpb}\"] = hof[0].fitness.values[0]"
   ]
  },
  {
   "cell_type": "code",
   "execution_count": null,
   "metadata": {},
   "outputs": [],
   "source": [
    "# Example 2 how to track results in a jupyter ntb\n",
    "\n",
    "results = []\n",
    "\n",
    "# **** do EA here, log results ****\n",
    "results.append({'seed': random_seed, \"cxpb\": cxpb, \"mutpb\": mutpb, \"result\": result})\n",
    "\n",
    "# I can also create a pandas dataframe and save it to csv!\n",
    "import pandas as pd\n",
    "\n",
    "results = pd.DataFrame(results)\n",
    "results.to_csv('res.csv')"
   ]
  },
  {
   "cell_type": "code",
   "execution_count": null,
   "metadata": {},
   "outputs": [],
   "source": [
    "# illustration how to log function choices\n",
    "cx_zoo = {\"twopoint\": tools.cxTwoPoint, \"dummy\": lambda x, y: x}\n",
    "\n",
    "toolbox.register(\"mate\", cxzoo[\"twopoint\"])\n",
    "\n",
    "# then in logging...\n",
    "# results.append({'cx': 'twopoint', \"result\": result})"
   ]
  },
  {
   "cell_type": "markdown",
   "metadata": {},
   "source": [
    "# Kombinatorická optimalizace (Travelling Salesman Problem)\n",
    "\n",
    "Nyní použijeme EA pro vyřešení problému obchodního cestujícího (z anglického názvu - TSP).\n",
    "Opět použijeme `deap`. \n",
    "\n",
    "Nejdřív vygenerujeme náhodně body v rovině, pak budeme hledat nejkratší cyklus, který je navštíví."
   ]
  },
  {
   "cell_type": "code",
   "execution_count": 19,
   "metadata": {},
   "outputs": [
    {
     "data": {
      "image/png": "[encoded data removed]",
      "text/plain": [
       "<Figure size 432x288 with 1 Axes>"
      ]
     },
     "metadata": {
      "needs_background": "light"
     },
     "output_type": "display_data"
    }
   ],
   "source": [
    "NUM_CITIES = 20\n",
    "\n",
    "points = np.random.uniform(size=(20, 2))\n",
    "\n",
    "import matplotlib.pyplot as plt\n",
    "plt.scatter(points[:,0], points[:,1])\n",
    "\n",
    "creator.create(\"FitnessMinTSP\", base.Fitness, weights=(-1.0,))     # fitness for minimization - notice the negative weight\n",
    "creator.create(\"IndividualTSP\", list, fitness=creator.FitnessMinTSP)  # create class for individuals - derived from list and uses the fitness defined above\n",
    "\n",
    "toolboxTSP = base.Toolbox()\n",
    "toolboxTSP.register(\"indices\", random.sample, range(NUM_CITIES), NUM_CITIES)\n",
    "toolboxTSP.register(\"individual\", tools.initIterate, creator.Individual, toolboxTSP.indices) # initIterate can be used to initialize individual from any iterable object\n",
    "toolboxTSP.register(\"population\", tools.initRepeat, list, toolboxTSP.individual)"
   ]
  },
  {
   "cell_type": "markdown",
   "metadata": {},
   "source": [
    "Zase se podíváme na funkce v toolboxu:"
   ]
  },
  {
   "cell_type": "code",
   "execution_count": 20,
   "metadata": {},
   "outputs": [
    {
     "name": "stdout",
     "output_type": "stream",
     "text": [
      "indices: [2, 16, 19, 5, 11, 17, 12, 9, 8, 15, 4, 6, 3, 14, 7, 18, 13, 10, 0, 1]\n",
      "individual: [14, 2, 9, 18, 1, 6, 0, 15, 17, 3, 11, 7, 8, 4, 16, 13, 19, 5, 10, 12]\n"
     ]
    }
   ],
   "source": [
    "print(\"indices:\", toolboxTSP.indices())\n",
    "print(\"individual:\", toolboxTSP.individual())"
   ]
  },
  {
   "cell_type": "markdown",
   "metadata": {},
   "source": [
    "Naimplementujeme fitness funkci -- sumu Euclidovských vzdáleností mezi sousedícími body v cyklu."
   ]
  },
  {
   "cell_type": "code",
   "execution_count": 22,
   "metadata": {},
   "outputs": [],
   "source": [
    "def fitness(ind, points):\n",
    "    ordered = points[ind]\n",
    "    fit = 0\n",
    "    for s, e in zip(ordered, ordered[1:]):\n",
    "        fit += np.linalg.norm(s - e)\n",
    "    fit += np.linalg.norm(ordered[0] - ordered[-1])\n",
    "    return fit,\n",
    "\n",
    "toolboxTSP.register(\"evaluate\", fitness, points=points)\n",
    "toolboxTSP.register(\"mate\", tools.cxOrdered)\n",
    "toolboxTSP.register(\"mutate\", tools.mutShuffleIndexes, indpb=0.05)\n",
    "toolboxTSP.register(\"select\", tools.selTournament, tournsize=2)"
   ]
  },
  {
   "cell_type": "markdown",
   "metadata": {},
   "source": [
    "Spustíme algoritmus"
   ]
  },
  {
   "cell_type": "code",
   "execution_count": 23,
   "metadata": {},
   "outputs": [],
   "source": [
    "pop = toolboxTSP.population(n=100)\n",
    "hof = tools.HallOfFame(1)\n",
    "stats = tools.Statistics(lambda ind: ind.fitness.values)\n",
    "stats.register(\"avg\", np.mean)\n",
    "stats.register(\"std\", np.std)\n",
    "stats.register(\"min\", np.min)\n",
    "stats.register(\"max\", np.max)\n",
    "    \n",
    "pop, log = algorithms.eaMuPlusLambda(pop, toolboxTSP, mu=100, lambda_=100, cxpb=0.8, mutpb=0.2, ngen=500, stats=stats, halloffame=hof, verbose=False)"
   ]
  },
  {
   "cell_type": "markdown",
   "metadata": {},
   "source": [
    "Vyplotíme nejlepší řešení (v plotu nebudeme mít hranu mezi posledním a prvním vrcholem, ale ve fitness se to počítá správně)."
   ]
  },
  {
   "cell_type": "code",
   "execution_count": 24,
   "metadata": {},
   "outputs": [
    {
     "data": {
      "text/plain": [
       "[<matplotlib.lines.Line2D at 0x7f0e11d87130>]"
      ]
     },
     "execution_count": 24,
     "metadata": {},
     "output_type": "execute_result"
    },
    {
     "data": {
      "image/png": "[encoded data removed]",
      "text/plain": [
       "<Figure size 432x288 with 1 Axes>"
      ]
     },
     "metadata": {
      "needs_background": "light"
     },
     "output_type": "display_data"
    }
   ],
   "source": [
    "plt.scatter(points[:,0], points[:,1])\n",
    "plt.plot(points[hof[0]][:,0], points[hof[0]][:,1])"
   ]
  },
  {
   "cell_type": "markdown",
   "metadata": {},
   "source": [
    "## Task 2\n",
    "- Pohrajte si s nastavením algoritmu pro řešení TSP (stejně jako předtím, zkustě měnit parametry a/nebo operátory z `deap`u)\n",
    "- Co se stane, když zvýšíme počet vrcholů?"
   ]
  },
  {
   "cell_type": "code",
   "execution_count": null,
   "metadata": {},
   "outputs": [],
   "source": []
  }
 ],
 "metadata": {
  "kernelspec": {
   "display_name": "Python 3 (ipykernel)",
   "language": "python",
   "name": "python3"
  },
  "language_info": {
   "codemirror_mode": {
    "name": "ipython",
    "version": 3
   },
   "file_extension": ".py",
   "mimetype": "text/x-python",
   "name": "python",
   "nbconvert_exporter": "python",
   "pygments_lexer": "ipython3",
   "version": "3.8.10"
  }
 },
 "nbformat": 4,
 "nbformat_minor": 4
}
