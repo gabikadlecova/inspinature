{
 "cells": [
  {
   "cell_type": "markdown",
   "metadata": {},
   "source": [
    "Na přednášce jsme viděli \"jednoduchý genetický algoritmus\" (SGA). Nyní použijeme tento algoritmus k řešení dvou jednoduchých problémů - OneMAX a subset sum.\n",
    "\n",
    "Nakonec ukážeme knihovnou `deap`, která může být použita pro implementaci složitějších evolučních algoritmů.\n",
    "\n",
    "Implementace je jednoduchá, začneme s high-level verzí algoritmu (vypadá v podstatě jako pseudo-kód)."
   ]
  },
  {
   "cell_type": "code",
   "execution_count": 1,
   "metadata": {},
   "outputs": [],
   "source": [
    "import numpy as np\n",
    "\n",
    "def evolution(pop_size, ind_size, max_gen, fitness, cx_pb = 0.8, mut_pb=0.1, per_bit_pb = 0.2):\n",
    "    population = random_population(pop_size, ind_size)\n",
    "    log = []\n",
    "    \n",
    "    for i in range(max_gen):\n",
    "        fit = [fitness(ind) for ind in population]\n",
    "        log.append(max(fit))\n",
    "        mating_pool = selection(population, fit, pop_size)\n",
    "        offspring = crossover(mating_pool, cx_pb)\n",
    "        offspring = mutation(offspring, mut_pb, per_bit_pb)\n",
    "        population = offspring[:] # shallow copy\n",
    "    \n",
    "    fit = list(map(fitness, population))\n",
    "    best = population[np.argmax(fit)]\n",
    "    return best, population, log"
   ]
  },
  {
   "cell_type": "markdown",
   "metadata": {},
   "source": [
    "Nyní je potřeba naimplementovat výše použité funkce. Začneme s inicializací náhodné populace jedninců. Jedinci budou seznamy 1 a 0."
   ]
  },
  {
   "cell_type": "code",
   "execution_count": 2,
   "metadata": {},
   "outputs": [
    {
     "data": {
      "text/plain": [
       "[[1, 1, 0, 0, 0, 1, 0, 1, 0, 1],\n",
       " [0, 0, 1, 0, 1, 0, 1, 1, 0, 0],\n",
       " [1, 1, 1, 0, 1, 1, 1, 1, 0, 0],\n",
       " [1, 1, 0, 0, 0, 1, 1, 1, 0, 1],\n",
       " [0, 0, 0, 0, 0, 0, 1, 0, 1, 1]]"
      ]
     },
     "execution_count": 2,
     "metadata": {},
     "output_type": "execute_result"
    }
   ],
   "source": [
    "import random\n",
    "\n",
    "def random_population(pop_size, ind_size):\n",
    "    pop = []\n",
    "    for _ in range(pop_size):\n",
    "        ind = [0 if random.random() < 0.5 else 1 for _ in range(ind_size)]\n",
    "        pop.append(ind)\n",
    "    \n",
    "    return pop\n",
    "\n",
    "random_population(5, 10)"
   ]
  },
  {
   "cell_type": "markdown",
   "metadata": {},
   "source": [
    "Dále naimplementujeme ruletovou selekci - knihovna `random` nám to hodně usnadní:"
   ]
  },
  {
   "cell_type": "code",
   "execution_count": 3,
   "metadata": {},
   "outputs": [],
   "source": [
    "import copy\n",
    "\n",
    "def selection(pop, fit, N):\n",
    "    return copy.deepcopy(random.choices(pop, weights=fit, k=N)) # make a deep copy so that\n",
    "                                                                # we have unique indivduals"
   ]
  },
  {
   "cell_type": "markdown",
   "metadata": {},
   "source": [
    "Zbývá jednobodové křížení a mutace, která mění náhodné bity (bit flip). Obě funkce berou za argument celou populaci."
   ]
  },
  {
   "cell_type": "code",
   "execution_count": 4,
   "metadata": {},
   "outputs": [
    {
     "name": "stdout",
     "output_type": "stream",
     "text": [
      "population\n",
      "[[0, 0, 0, 0, 0, 0, 0, 0, 0, 1],\n",
      " [0, 1, 0, 0, 0, 0, 1, 1, 0, 0],\n",
      " [0, 1, 1, 1, 0, 0, 1, 1, 0, 0],\n",
      " [0, 0, 1, 0, 1, 0, 0, 0, 0, 0],\n",
      " [0, 1, 0, 1, 0, 0, 1, 0, 1, 0],\n",
      " [0, 1, 0, 1, 1, 1, 0, 1, 0, 1]]\n",
      "after crossover\n",
      "[[0, 1, 0, 0, 0, 0, 1, 1, 0, 1],\n",
      " [0, 0, 0, 0, 0, 0, 0, 0, 0, 0],\n",
      " [0, 0, 1, 0, 1, 0, 0, 0, 0, 0],\n",
      " [0, 1, 1, 1, 0, 0, 1, 1, 0, 0],\n",
      " [0, 1, 0, 1, 1, 1, 0, 1, 1, 0],\n",
      " [0, 1, 0, 1, 0, 0, 1, 0, 0, 1]]\n",
      "after mutation\n",
      "[[0, 0, 1, 0, 0, 0, 0, 0, 0, 1],\n",
      " [0, 1, 0, 0, 1, 0, 1, 1, 0, 0],\n",
      " [0, 1, 1, 1, 0, 0, 1, 1, 0, 0],\n",
      " [1, 0, 1, 0, 0, 0, 1, 0, 0, 1],\n",
      " [0, 1, 1, 0, 1, 0, 1, 0, 0, 1],\n",
      " [1, 1, 0, 1, 1, 1, 0, 1, 0, 0]]\n"
     ]
    }
   ],
   "source": [
    "def crossover(pop, cx_pb = 0.8):\n",
    "    new_pop = []\n",
    "    for i in range(len(pop)//2):\n",
    "        \n",
    "        o1 = copy.deepcopy(pop[2*i])\n",
    "        o2 = copy.deepcopy(pop[2*i + 1])\n",
    "        \n",
    "        if random.random() < cx_pb: # crossover probability\n",
    "            point = random.randrange(0, len(o1))\n",
    "            o2_start = o2[:point]\n",
    "            o2[:point] = o1[:point]\n",
    "            o1[:point] = o2_start[:]\n",
    "        \n",
    "        new_pop.append(o1)\n",
    "        new_pop.append(o2)\n",
    "    \n",
    "    return new_pop\n",
    "\n",
    "def mutation(pop, mut_pb = 0.1, per_bit_pb = 0.2):\n",
    "    new_pop = []\n",
    "    for ind in pop:\n",
    "        \n",
    "        o = copy.deepcopy(ind)\n",
    "        \n",
    "        if random.random() < mut_pb: # mutation probability\n",
    "            o = [1-x if random.random() < per_bit_pb else x for x in o] # change the bit to the othex value with per_bit_pb probability\n",
    "        \n",
    "        new_pop.append(o)\n",
    "    \n",
    "    return new_pop\n",
    "\n",
    "import pprint\n",
    "pop = random_population(6, 10)\n",
    "print('population')\n",
    "pprint.pprint(pop)\n",
    "print('after crossover')\n",
    "pprint.pprint(crossover(pop))\n",
    "print('after mutation')\n",
    "pprint.pprint(mutation(pop, mut_pb=1.0))"
   ]
  },
  {
   "cell_type": "markdown",
   "metadata": {},
   "source": [
    "To je vše co v algoritmu potřebujeme. Zbývá už jen fitness funkce pro daný problém. V OneMAX problému chceme co nejvíce jedniček - fitness tedy bude počet 1 v jedinci."
   ]
  },
  {
   "cell_type": "code",
   "execution_count": 5,
   "metadata": {},
   "outputs": [
    {
     "name": "stdout",
     "output_type": "stream",
     "text": [
      "([1, 0, 0, 0, 0, 0, 1, 0, 1, 1], 4)\n",
      "([0, 1, 0, 0, 1, 0, 1, 0, 0, 0], 3)\n",
      "([0, 1, 1, 0, 1, 0, 1, 0, 1, 1], 6)\n",
      "([0, 1, 0, 0, 0, 1, 0, 1, 0, 0], 3)\n",
      "([1, 1, 0, 1, 0, 0, 1, 1, 1, 0], 6)\n",
      "([0, 1, 1, 0, 0, 1, 0, 1, 1, 0], 5)\n"
     ]
    }
   ],
   "source": [
    "def onemax(ind):\n",
    "    return sum(ind)\n",
    "\n",
    "pop = random_population(6, 10)\n",
    "fit = [onemax(ind) for ind in pop]\n",
    "for i,f in zip(pop, fit):\n",
    "    print((i, f))"
   ]
  },
  {
   "cell_type": "markdown",
   "metadata": {},
   "source": [
    "Nyní pustíme a vyhodnotíme algoritmus!"
   ]
  },
  {
   "cell_type": "code",
   "execution_count": 6,
   "metadata": {},
   "outputs": [],
   "source": [
    "best, pop, log = evolution(pop_size = 100, ind_size = 50, max_gen = 50, fitness = onemax)"
   ]
  },
  {
   "cell_type": "code",
   "execution_count": 7,
   "metadata": {},
   "outputs": [
    {
     "name": "stdout",
     "output_type": "stream",
     "text": [
      "best fitness:  42\n",
      "best:  [1, 1, 1, 1, 1, 1, 0, 1, 1, 1, 1, 1, 1, 0, 1, 1, 1, 1, 1, 1, 1, 0, 1, 0, 1, 1, 1, 1, 1, 1, 1, 1, 1, 1, 1, 1, 1, 0, 1, 1, 1, 1, 0, 0, 1, 1, 1, 1, 1, 0]\n"
     ]
    },
    {
     "data": {
      "image/png": "[encoded data removed]",
      "text/plain": [
       "<Figure size 432x288 with 1 Axes>"
      ]
     },
     "metadata": {
      "needs_background": "light"
     },
     "output_type": "display_data"
    }
   ],
   "source": [
    "print('best fitness: ', onemax(best))\n",
    "print('best: ', best)\n",
    "\n",
    "\n",
    "%matplotlib inline\n",
    "import matplotlib.pyplot as plt\n",
    "\n",
    "plt.plot(log)\n",
    "plt.ylabel('Fitness')\n",
    "plt.xlabel('Generation')\n",
    "plt.show()"
   ]
  },
  {
   "cell_type": "markdown",
   "metadata": {},
   "source": [
    "## A teď vy!\n",
    "\n",
    "Upravte algoritmus výše tak, aby řešil subset sum problem. Tedy - nalezněte podmožinu zadané množiny tak, aby suma jejích hodnot byla rovna danému číslu. My řešíme navíc optimalizační verzi problému - snažíme se minimalizovat rozdíl mezi sumou podmnožiny a danou hodnotou.\n",
    "\n",
    "Instanci problému si vygenerujeme náhodně:"
   ]
  },
  {
   "cell_type": "code",
   "execution_count": 8,
   "metadata": {},
   "outputs": [
    {
     "name": "stdout",
     "output_type": "stream",
     "text": [
      "6119 [141, 131, 102, 124, 101, 139, 114, 102, 127, 141, 142, 109, 141, 112, 142, 103, 109, 133, 114, 120, 135, 143, 132, 100, 115, 116, 100, 106, 138, 111, 123, 142, 116, 134, 119, 114, 129, 144, 124, 126, 129, 100, 101, 113, 142, 103, 146, 124, 126, 115, 147, 115, 105, 119, 102, 142, 144, 127, 140, 102, 147, 142, 149, 144, 111, 123, 118, 116, 146, 120, 118, 138, 112, 133, 119, 145, 110, 100, 130, 112, 108, 102, 123, 112, 136, 109, 120, 104, 103, 128, 126, 133, 102, 114, 124, 100, 136, 121, 115, 133]\n"
     ]
    }
   ],
   "source": [
    "ind_size = 100  # try 1000\n",
    "input_set = [random.randrange(0,50) + 100 for _ in range(ind_size)] # ind_size random numbers between 100 and 150\n",
    "number = sum(input_set)//2\n",
    "\n",
    "total = sum(input_set)\n",
    "\n",
    "print(number, input_set)"
   ]
  },
  {
   "cell_type": "code",
   "execution_count": 9,
   "metadata": {},
   "outputs": [],
   "source": [
    "import numpy as np\n",
    "\n",
    "\n",
    "# You can also work with np.arrays and multiply the input_set with it\n",
    "def get_subset(ind):\n",
    "    return [input_set[i] for i, val in enumerate(ind) if val > 0.1]\n",
    "\n",
    "\n",
    "# or choose a different fitness, e.g. 1 / (diff + 1), squared error...\n",
    "def subset_sum_fitness(ind):\n",
    "    return total - objective(ind)\n",
    "\n",
    "# this is what we want to minimize\n",
    "def objective(ind):\n",
    "    return np.abs(sum(get_subset(ind)) - number)\n",
    "\n",
    "\n",
    "def get_overall_best(overall_best, fitness_best, population, fitnesses):\n",
    "    best_id = np.argmax(fitnesses)\n",
    "    best = population[best_id]\n",
    "    best_fit = fitnesses[best_id]\n",
    "    \n",
    "    if overall_best is None:\n",
    "        overall_best = best\n",
    "        fitness_best = best_fit\n",
    "    else:\n",
    "        overall_best = overall_best if best_fit <= fitness_best else best\n",
    "        fitness_best = fitness_best if best_fit <= fitness_best else best_fit\n",
    "\n",
    "    return overall_best, fitness_best\n",
    "\n",
    "\n",
    "def evolution(pop_size, ind_size, max_gen, fitness, cx_pb = 0.8, mut_pb=0.1, per_bit_pb = 0.2):\n",
    "    population = random_population(pop_size, ind_size)\n",
    "    log = []\n",
    "    \n",
    "    overall_log = []\n",
    "    fitness_best = None\n",
    "    overall_best = None\n",
    "    \n",
    "    for i in range(max_gen):\n",
    "        fit = [fitness(ind) for ind in population]\n",
    "        log.append(max(fit))\n",
    "        \n",
    "        # also log overall best individual\n",
    "        overall_best, fitness_best = get_overall_best(overall_best, fitness_best, population, fit)\n",
    "        overall_log.append(objective(overall_best))\n",
    "\n",
    "        mating_pool = selection(population, fit, pop_size)\n",
    "        offspring = crossover(mating_pool, cx_pb)\n",
    "        offspring = mutation(offspring, mut_pb, per_bit_pb)\n",
    "        population = offspring[:] # shallow copy\n",
    "    \n",
    "    fit = list(map(fitness, population))\n",
    "    best = population[np.argmax(fit)]\n",
    "    return best, population, log, overall_best, overall_log"
   ]
  },
  {
   "cell_type": "code",
   "execution_count": 11,
   "metadata": {},
   "outputs": [
    {
     "name": "stdout",
     "output_type": "stream",
     "text": [
      "best fitness:  12238\n",
      "best number:  6119 | given number:  6119\n",
      "best diff:  0\n"
     ]
    },
    {
     "data": {
      "image/png": "[encoded data removed]",
      "text/plain": [
       "<Figure size 432x288 with 1 Axes>"
      ]
     },
     "metadata": {
      "needs_background": "light"
     },
     "output_type": "display_data"
    },
    {
     "data": {
      "image/png": "[encoded data removed]",
      "text/plain": [
       "<Figure size 432x288 with 1 Axes>"
      ]
     },
     "metadata": {
      "needs_background": "light"
     },
     "output_type": "display_data"
    }
   ],
   "source": [
    "best, pop, log, overall, overall_log = evolution(pop_size = 100, ind_size = ind_size, max_gen = 50, fitness = subset_sum_fitness)\n",
    "\n",
    "print('best fitness: ', subset_sum_fitness(overall))\n",
    "print('best number: ', sum(get_subset(overall)), \"| given number: \", number)\n",
    "print('best diff: ', sum(get_subset(overall)) - number)\n",
    "\n",
    "\n",
    "%matplotlib inline\n",
    "import matplotlib.pyplot as plt\n",
    "\n",
    "plt.plot(log)\n",
    "plt.ylabel('Fitness')\n",
    "plt.xlabel('Generation')\n",
    "plt.title(\"Best fitness in a given generation\")\n",
    "plt.show()\n",
    "\n",
    "plt.plot(overall_log)\n",
    "plt.ylabel('Fitness')\n",
    "plt.xlabel('Generation')\n",
    "plt.title(\"Best objective total\")\n",
    "plt.xscale('log')\n",
    "plt.show()"
   ]
  },
  {
   "cell_type": "code",
   "execution_count": null,
   "metadata": {},
   "outputs": [],
   "source": [
    "# Questions\n",
    "# 1. why does it fluctuate?\n",
    "# 2. should I always save the individual with the best possible fitness?\n",
    "# 3. a different fitness?\n",
    "\n",
    "# brainstorming - different operators? what's better here - crossover, or bit flip?"
   ]
  },
  {
   "cell_type": "markdown",
   "metadata": {},
   "source": [
    "## Knihovna `deap`\n",
    "\n",
    "Viděli jsme, že implementace evolučního algoritmu je snadná. Často je ale dobré použít existující knihovnu pro zjednoduší implementace a vyhnutí s bugům. Jedna taková knihovna je `deap`. Má pěkné tutoriály, například ten, který se [zabývá stejným problémem, jako jsme řešili][1].\n",
    "\n",
    "Její další výhody jsou to, že má i pokročilejší metody - například genetické programování nebo vícekriteriální optimalizace.\n",
    "\n",
    "  [1]: https://deap.readthedocs.io/en/master/examples/ga_onemax.html"
   ]
  },
  {
   "cell_type": "code",
   "execution_count": null,
   "metadata": {},
   "outputs": [],
   "source": []
  }
 ],
 "metadata": {
  "kernelspec": {
   "display_name": "Python 3 (ipykernel)",
   "language": "python",
   "name": "python3"
  },
  "language_info": {
   "codemirror_mode": {
    "name": "ipython",
    "version": 3
   },
   "file_extension": ".py",
   "mimetype": "text/x-python",
   "name": "python",
   "nbconvert_exporter": "python",
   "pygments_lexer": "ipython3",
   "version": "3.8.10"
  }
 },
 "nbformat": 4,
 "nbformat_minor": 4
}
