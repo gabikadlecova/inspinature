{
 "cells": [
  {
   "cell_type": "markdown",
   "metadata": {},
   "source": [
    "# Základy Pythonu\n"
   ]
  },
  {
   "cell_type": "markdown",
   "metadata": {},
   "source": [
    "Python je moderní vysokoúrovňový programovací jazyk. Je populární v oblasti strojového učení, neuronových sítí a evolučních algoritmů, protože je jednoduchý a dobře čitelný. Existují 2 verze – Python 2 a Python 3. Používejte verzi Python 3 -- Python 2 je outdated a podporována jen pro backward compatibility. \n",
    "\n",
    "Lze ji stáhnout z: https://www.python.org/\n",
    "\n",
    "Na Linuxu by měl být python3 defaultně nainstalován.\n",
    "\n",
    "Úspěšnost své instalace si můžete ověřit pomocí jednoduchého příkazu *python --version* z příkazové řádky. Samotné skripty je také možno pouštět přímo z ní a to pomocí příkazu *python myscript.py*, který pak na konzoli vypíše výstup skriptu *myscript.py*. Případně je možné používat prostředí jako je Spyder, PyCharm nebo Jupyter Notebook.\n",
    "Dobrá alternativa k lokálním Jupyter Notebookům je Google Colab: https://colab.research.google.com/"
   ]
  },
  {
   "cell_type": "markdown",
   "metadata": {},
   "source": [
    "## Základní syntax"
   ]
  },
  {
   "cell_type": "code",
   "execution_count": 111,
   "metadata": {},
   "outputs": [
    {
     "name": "stdout",
     "output_type": "stream",
     "text": [
      "Hello, world!\n"
     ]
    }
   ],
   "source": [
    "# Toto je jednoradkový komentar.\n",
    "\n",
    "\"\"\"\n",
    "Toto je paradni\n",
    "viceradkový komentar, \n",
    "protoze vsichni urcite \n",
    "budete dukladne dokumentovat\n",
    "svuj kod.\n",
    "\"\"\"\n",
    "\n",
    "# Vypis na konzoli\n",
    "print(\"Hello, world!\")"
   ]
  },
  {
   "cell_type": "markdown",
   "metadata": {},
   "source": [
    "### Proměnné a datové typy"
   ]
  },
  {
   "cell_type": "markdown",
   "metadata": {},
   "source": [
    "Proměnná je vždy objekt a není třeba definovat její typ, narozdíl od jiných programovacích jazyků. Python má několik defaultně zabudovaných datových typů, nejdůležitější pro nás budou: *str, int, float, list, dict, bool*."
   ]
  },
  {
   "cell_type": "code",
   "execution_count": 112,
   "metadata": {},
   "outputs": [
    {
     "name": "stdout",
     "output_type": "stream",
     "text": [
      "1\n",
      "Hello, wordl!\n"
     ]
    }
   ],
   "source": [
    "x = 1\n",
    "y = 'Hello, wordl!'\n",
    "print(x)\n",
    "print(y)"
   ]
  },
  {
   "cell_type": "code",
   "execution_count": 113,
   "metadata": {},
   "outputs": [
    {
     "name": "stdout",
     "output_type": "stream",
     "text": [
      "<class 'int'>\n",
      "<class 'float'>\n"
     ]
    }
   ],
   "source": [
    "# Zjisteni typu promenne\n",
    "print(type(x))\n",
    "\n",
    "# Konverze mezi jednotlivymi typy promennych\n",
    "a = float(x)\n",
    "print(type(a))"
   ]
  },
  {
   "cell_type": "code",
   "execution_count": 114,
   "metadata": {},
   "outputs": [
    {
     "name": "stdout",
     "output_type": "stream",
     "text": [
      "2\n",
      "[2, 3]\n",
      "3\n"
     ]
    }
   ],
   "source": [
    "# Definice jednoducheho listu\n",
    "int_list = [1,2,3,4]\n",
    "string_list = ['a','b','c']\n",
    "\n",
    "# Indexovani do listu -- vypsani polozky na danem indexu\n",
    "print(int_list[1])\n",
    "\n",
    "# Vypsani podlistu urceneho danymi indexy\n",
    "print(int_list[1:-1])\n",
    "\n",
    "# Zjisteni int_list listu\n",
    "print(len(string_list))"
   ]
  },
  {
   "cell_type": "code",
   "execution_count": 115,
   "metadata": {},
   "outputs": [
    {
     "name": "stdout",
     "output_type": "stream",
     "text": [
      "['b', 'c', 'd']\n"
     ]
    }
   ],
   "source": [
    "# Pridani prvku do listu\n",
    "string_list.append('d')\n",
    "\n",
    "# Smazani prvku z listu\n",
    "string_list.remove('a')\n",
    "\n",
    "print(string_list)"
   ]
  },
  {
   "cell_type": "code",
   "execution_count": 116,
   "metadata": {},
   "outputs": [
    {
     "name": "stdout",
     "output_type": "stream",
     "text": [
      "[1, 2, 3, 4, 'b', 'c', 'd']\n"
     ]
    }
   ],
   "source": [
    "# Sjednoceni dvou listu\n",
    "new_list = int_list + string_list\n",
    "print(new_list)"
   ]
  },
  {
   "cell_type": "code",
   "execution_count": 117,
   "metadata": {},
   "outputs": [
    {
     "name": "stdout",
     "output_type": "stream",
     "text": [
      "[]\n"
     ]
    }
   ],
   "source": [
    "# Smazani listu vs vyprazdneni listu\n",
    "del int_list\n",
    "string_list.clear()\n",
    "\n",
    "print(string_list)\n",
    "#print(int_list)"
   ]
  },
  {
   "cell_type": "code",
   "execution_count": 118,
   "metadata": {},
   "outputs": [
    {
     "name": "stdout",
     "output_type": "stream",
     "text": [
      "1\n",
      "3\n",
      "{'a': 1, 'c': 3, 'd': 4}\n"
     ]
    }
   ],
   "source": [
    "# Definice jednoducheho dictionary\n",
    "my_dict = {'a':1,'b':2,'c':3}\n",
    "\n",
    "# Indexovani do dictionary\n",
    "print(my_dict['a'])\n",
    "\n",
    "# Velikost dictionary\n",
    "print(len(my_dict))\n",
    "\n",
    "# Pridani polozky\n",
    "my_dict['d'] = 4\n",
    "\n",
    "# Smazani polozky\n",
    "del my_dict['b']\n",
    "print(my_dict)\n"
   ]
  },
  {
   "cell_type": "markdown",
   "metadata": {},
   "source": [
    "### Operátory"
   ]
  },
  {
   "cell_type": "markdown",
   "metadata": {},
   "source": [
    "Mezi užitečné základní operátory patří: x+y, x–y, x*y, x/y, x%y (modulo) a x**y (exponent)\n",
    "\n",
    "Na porovnávání se budou hodit: x==y, x!=y, x>y, x<y, x<=y, x>=y.\n",
    "\n",
    "Logické operátory: x and y, y or y"
   ]
  },
  {
   "cell_type": "markdown",
   "metadata": {},
   "source": [
    "### Cykly"
   ]
  },
  {
   "cell_type": "code",
   "execution_count": 119,
   "metadata": {},
   "outputs": [
    {
     "name": "stdout",
     "output_type": "stream",
     "text": [
      "0\n",
      "1\n",
      "2\n"
     ]
    }
   ],
   "source": [
    "# For cyklus\n",
    "for i in range(0,3):\n",
    "  print(i)"
   ]
  },
  {
   "cell_type": "code",
   "execution_count": 120,
   "metadata": {},
   "outputs": [
    {
     "name": "stdout",
     "output_type": "stream",
     "text": [
      "1\n",
      "2\n",
      "3\n",
      "4\n"
     ]
    }
   ],
   "source": [
    "my_list = [1,2,3,4]\n",
    "# Iterace v listu\n",
    "for x in my_list:\n",
    "  print(x)"
   ]
  },
  {
   "cell_type": "code",
   "execution_count": 121,
   "metadata": {},
   "outputs": [
    {
     "name": "stdout",
     "output_type": "stream",
     "text": [
      "a 1\n",
      "b 2\n",
      "c 3\n"
     ]
    }
   ],
   "source": [
    "my_dict = {'a':1,'b':2,'c':3}\n",
    "# Iterace ve slovniku\n",
    "for key, value in my_dict.items():\n",
    "  print(key, value)"
   ]
  },
  {
   "cell_type": "code",
   "execution_count": 122,
   "metadata": {},
   "outputs": [
    {
     "name": "stdout",
     "output_type": "stream",
     "text": [
      "18 is equal to or smaller than 21\n"
     ]
    }
   ],
   "source": [
    "x = 18\n",
    "y = 21\n",
    "\n",
    "# If else podminka\n",
    "if x > y:\n",
    "  print(str(x) + \" is greater than \" + str(y))\n",
    "elif x<=y:\n",
    "  print(str(x) + \" is equal to or smaller than \" + str(y))\n",
    "else:\n",
    "  print(\"Wtf, this should never be printed!\")"
   ]
  },
  {
   "cell_type": "code",
   "execution_count": 123,
   "metadata": {},
   "outputs": [
    {
     "name": "stdout",
     "output_type": "stream",
     "text": [
      "0\n",
      "1\n",
      "2\n"
     ]
    }
   ],
   "source": [
    "# While cyklus\n",
    "i = 0\n",
    "while i < 3:\n",
    "  print(i)\n",
    "  i += 1"
   ]
  },
  {
   "cell_type": "markdown",
   "metadata": {},
   "source": [
    "### Funkce a třídy"
   ]
  },
  {
   "cell_type": "code",
   "execution_count": 124,
   "metadata": {},
   "outputs": [
    {
     "name": "stdout",
     "output_type": "stream",
     "text": [
      "Toto je velice uzitecna funkce.\n"
     ]
    }
   ],
   "source": [
    "# Jednoducha bezparametricka funkce\n",
    "def myfunction():\n",
    "  print(\"Toto je velice uzitecna funkce.\")\n",
    "\n",
    "# Zavolani funkce\n",
    "myfunction()"
   ]
  },
  {
   "cell_type": "code",
   "execution_count": 125,
   "metadata": {},
   "outputs": [
    {
     "name": "stdout",
     "output_type": "stream",
     "text": [
      "True\n"
     ]
    }
   ],
   "source": [
    "# Jednoducha trida s defaultni funkci\n",
    "class Myclass():\n",
    "  def __len__(self):\n",
    "    return 1\n",
    "\n",
    "# Vytvoreni instance a zavolani defaultni funkce\n",
    "useless_class = Myclass()\n",
    "print(bool(useless_class))"
   ]
  },
  {
   "cell_type": "code",
   "execution_count": 126,
   "metadata": {},
   "outputs": [
    {
     "name": "stdout",
     "output_type": "stream",
     "text": [
      "Hello, I am shark Teddy\n",
      "Wohoo, I am swimming!\n",
      "Hmm, something to eat?\n",
      "Yeah, what a yummy human!\n",
      "Hmm, something to eat?\n",
      "Blah, I wont eat that!\n",
      "['fish', 'human', 'meat', 'cow']\n"
     ]
    }
   ],
   "source": [
    "# Definice jednoduche tridy s par zakladnimi funkcemi\n",
    "class Shark():\n",
    "    yummy = ['fish', 'human', 'meat']  \n",
    "    def __init__(self, name):\n",
    "        self.name = name\n",
    "        print('Hello, I am shark ' + name)\n",
    "    def swim(self):\n",
    "        print('Wohoo, I am swimming!')\n",
    "    def eat(self, item):\n",
    "        print('Hmm, something to eat?')\n",
    "        if item in self.yummy:\n",
    "            print('Yeah, what a yummy ' + item + \"!\")\n",
    "        else:\n",
    "            print('Blah, I wont eat that!')\n",
    " \n",
    "# Vytvoreni instance tridy a volani jejich funkci\n",
    "my_shark = Shark('Teddy')\n",
    "my_shark.swim()\n",
    "x = 'human'\n",
    "my_shark.eat(x)\n",
    "x = 'salad'\n",
    "my_shark.eat(x)\n",
    "\n",
    "my_shark.yummy.append('cow')\n",
    "print(my_shark.yummy)"
   ]
  },
  {
   "cell_type": "markdown",
   "metadata": {},
   "source": [
    "### Cteni a zapis do souboru"
   ]
  },
  {
   "cell_type": "code",
   "execution_count": 127,
   "metadata": {},
   "outputs": [],
   "source": [
    "# Vytvoreni a zapis do souboru\n",
    "f = open(\"tmp_file.txt\", \"w\") \n",
    "f.write(\"Ted ma soubor aspon jednu radku. \\n\" )\n",
    "f.close()"
   ]
  },
  {
   "cell_type": "code",
   "execution_count": 128,
   "metadata": {},
   "outputs": [],
   "source": [
    "# Pridani radky do jiz existujiciho souboru\n",
    "f = open(\"tmp_file.txt\", \"a\") \n",
    "f.write(\"Ted ma soubor i druhou radku!\")\n",
    "f.close()"
   ]
  },
  {
   "cell_type": "code",
   "execution_count": 129,
   "metadata": {},
   "outputs": [
    {
     "name": "stdout",
     "output_type": "stream",
     "text": [
      "Ted ma soubor aspon jednu radku. \n",
      "\n",
      "Ted ma soubor i druhou radku!\n"
     ]
    }
   ],
   "source": [
    "# Otevreni souboru a vypsani radek\n",
    "f = open(\"tmp_file.txt\", \"r\")\n",
    "for x in f:\n",
    "  print(x)"
   ]
  },
  {
   "cell_type": "code",
   "execution_count": null,
   "metadata": {},
   "outputs": [],
   "source": [
    "# using \"with\", f.close() is called automatically\n",
    "with open(\"tmp_file.txt\", \"a\"):\n",
    "    f.write(\"Treti radka!\")"
   ]
  },
  {
   "cell_type": "markdown",
   "metadata": {},
   "source": [
    "## Knihovny"
   ]
  },
  {
   "cell_type": "markdown",
   "metadata": {},
   "source": [
    "Knihovna v Pythonu je kolekce funkcí a metod, které zjednodušují uživatelům práci, protože si je nemusí psát sami. Pro tento předmět se nám budou hodit například knihovny numpy, matplotlib, pandas a keras.\n",
    "\n",
    "Knihovny je třeba nejdříve nainstalovat a to pomocí příkazu *pip install jmeno_knihovny*."
   ]
  },
  {
   "cell_type": "markdown",
   "metadata": {},
   "source": [
    "### NumPy"
   ]
  },
  {
   "cell_type": "markdown",
   "metadata": {},
   "source": [
    "NumPy je základní knihovna pro analytické počítání v Pythonu. Implementuje hodně operací pro práci s maticemi a vektory, které se nám budou hodit."
   ]
  },
  {
   "cell_type": "code",
   "execution_count": 48,
   "metadata": {},
   "outputs": [
    {
     "name": "stdout",
     "output_type": "stream",
     "text": [
      "[1 2 3]\n",
      "[[1 2 3]\n",
      " [4 5 6]\n",
      " [7 8 9]]\n"
     ]
    }
   ],
   "source": [
    "# Import knihovny a definice jeji zkratky, abychom ji pokazde nemuseli psat celou\n",
    "import numpy as np \n",
    "\n",
    "# Vytvoreni jednorozmerneho a dvourozmerneho pole\n",
    "arr = np.array([1,2,3])\n",
    "arr2 = np.array([[1,2,3],[4,5,6],[7,8,9]])\n",
    "print(arr)\n",
    "print(arr2)"
   ]
  },
  {
   "cell_type": "code",
   "execution_count": 49,
   "metadata": {},
   "outputs": [
    {
     "name": "stdout",
     "output_type": "stream",
     "text": [
      "<class 'numpy.ndarray'>\n"
     ]
    }
   ],
   "source": [
    "# Zjisteni typu pole\n",
    "print(type(arr))   "
   ]
  },
  {
   "cell_type": "code",
   "execution_count": 50,
   "metadata": {},
   "outputs": [
    {
     "name": "stdout",
     "output_type": "stream",
     "text": [
      "(3,)\n",
      "(3, 3)\n"
     ]
    }
   ],
   "source": [
    "# Zjisteni dimenze obou poli\n",
    "print(arr.shape)\n",
    "print(arr2.shape)"
   ]
  },
  {
   "cell_type": "code",
   "execution_count": 78,
   "metadata": {},
   "outputs": [
    {
     "name": "stdout",
     "output_type": "stream",
     "text": [
      "[[[1 2 3]\n",
      "  [4 5 6]\n",
      "  [7 8 9]]]\n"
     ]
    },
    {
     "data": {
      "text/plain": [
       "(1, 3, 3)"
      ]
     },
     "execution_count": 78,
     "metadata": {},
     "output_type": "execute_result"
    }
   ],
   "source": [
    "# Dimenze jsou velmi dulezite pro debuggovani - tohle vypada skoro jako arr2, ale neni\n",
    "arr3 = np.array([[[1,2,3],[4,5,6],[7,8,9]]])\n",
    "print(arr3)\n",
    "arr3.shape"
   ]
  },
  {
   "cell_type": "code",
   "execution_count": 55,
   "metadata": {},
   "outputs": [
    {
     "name": "stdout",
     "output_type": "stream",
     "text": [
      "[[0. 0.]\n",
      " [0. 0.]]\n",
      "[[1. 1.]\n",
      " [1. 1.]]\n",
      "[[3 3 3]\n",
      " [3 3 3]\n",
      " [3 3 3]]\n",
      "[[1. 0. 0.]\n",
      " [0. 1. 0.]\n",
      " [0. 0. 1.]]\n"
     ]
    }
   ],
   "source": [
    "# Vytvoreni nulove matice o danych rozmerech\n",
    "zeros = np.zeros((2,2))\n",
    "print(zeros)\n",
    "\n",
    "# Vytvoreni jednickove matice o danych rozmerech\n",
    "ones = np.ones((2,2))  \n",
    "print(ones) \n",
    "\n",
    "# Vytvoreni matice s konstantnimi hodnotami o danych rozmerech\n",
    "const = np.full((3,3), 3)\n",
    "print(const)\n",
    "\n",
    "# Vytvoreni matice indentity\n",
    "ident = np.eye(3)\n",
    "print(ident)\n"
   ]
  },
  {
   "cell_type": "code",
   "execution_count": 56,
   "metadata": {},
   "outputs": [
    {
     "name": "stdout",
     "output_type": "stream",
     "text": [
      "[[0.35148219 0.09892538]\n",
      " [0.15724261 0.58520321]\n",
      " [0.0343602  0.10902377]]\n"
     ]
    }
   ],
   "source": [
    "# Vytvoreni matice s nahodnymi hodnotami (z intervalu <0,1>)\n",
    "rand = np.random.random((3,2)) \n",
    "print(rand) "
   ]
  },
  {
   "cell_type": "code",
   "execution_count": 59,
   "metadata": {},
   "outputs": [
    {
     "data": {
      "text/plain": [
       "array([[1.62925501, 2.37945709],\n",
       "       [1.62925501, 2.37945709],\n",
       "       [1.62925501, 2.37945709]])"
      ]
     },
     "execution_count": 59,
     "metadata": {},
     "output_type": "execute_result"
    }
   ],
   "source": [
    "# nasobeni matic\n",
    "const @ rand"
   ]
  },
  {
   "cell_type": "code",
   "execution_count": 76,
   "metadata": {},
   "outputs": [
    {
     "name": "stdout",
     "output_type": "stream",
     "text": [
      "[2 2]\n",
      "[2 4]\n",
      "[3 3]\n",
      "{2: 0.035, 3: 0.915, 4: 0.05}\n"
     ]
    }
   ],
   "source": [
    "# Nastaveni fixniho pocatecniho nahodneho stavu\n",
    "np.random.seed(43)\n",
    "\n",
    "# Nahodny vyber 2 prvku - s opakovanim\n",
    "a = np.random.choice([2, 3, 4], size=2)\n",
    "print(a)\n",
    "\n",
    "# Nahodny vyber 2 prvku - bez opakovani\n",
    "a = np.random.choice([2, 3, 4], size=2, replace=False)\n",
    "print(a)\n",
    "\n",
    "# Nahodny vyber 2 prvku - pravdepodobnost 2. prvku je 1\n",
    "b = np.random.choice([2, 3, 4], size=2, replace=True, p=[0, 1, 0])\n",
    "print(b)\n",
    "\n",
    "# Nahodny vyber 2 prvku\n",
    "# spocitame pocty vybrani\n",
    "n_b = {i: 0 for i in [2, 3, 4]}\n",
    "for _ in range(100):\n",
    "    b = np.random.choice([2, 3, 4], size=2, replace=True, p=[0.04, 0.9, 0.06])\n",
    "    n_b[b[0]] += 1\n",
    "    n_b[b[1]] += 1\n",
    "    \n",
    "print({i: v / 200 for i, v in n_b.items()})"
   ]
  },
  {
   "cell_type": "code",
   "execution_count": 26,
   "metadata": {},
   "outputs": [
    {
     "name": "stdout",
     "output_type": "stream",
     "text": [
      "1\n",
      "[1 2 3]\n",
      "1\n"
     ]
    }
   ],
   "source": [
    "# Indexovani do pole\n",
    "\n",
    "print(arr[0])\n",
    "print(arr2[0])\n",
    "print(arr2[0][0]) "
   ]
  },
  {
   "cell_type": "code",
   "execution_count": 136,
   "metadata": {},
   "outputs": [
    {
     "name": "stdout",
     "output_type": "stream",
     "text": [
      "[4 5 6]\n",
      "[[1 2 3]]\n",
      "[2 5 8]\n",
      "[[1]\n",
      " [4]\n",
      " [7]]\n"
     ]
    }
   ],
   "source": [
    "arr2 = np.array([[1,2,3],[4,5,6],[7,8,9]])\n",
    "\n",
    "# Vypise radku na indexu 1\n",
    "print(arr2[1,:])\n",
    "\n",
    "# Vypise radky az po index 1  (tedy pouze radku na indexu 0)\n",
    "print(arr2[:1,:])\n",
    "\n",
    "# Vypise sloupec na indexu 1\n",
    "print(arr2[:,1])\n",
    "\n",
    "# Vypise sloupce az po index 1 (tedy pouze sloupec na indexu 0)\n",
    "print(arr2[:,:1])"
   ]
  },
  {
   "cell_type": "code",
   "execution_count": 80,
   "metadata": {
    "scrolled": true
   },
   "outputs": [],
   "source": [
    "# Co asi vypise tohle?\n",
    "print(arr2[1:,:-1])"
   ]
  },
  {
   "cell_type": "code",
   "execution_count": 44,
   "metadata": {},
   "outputs": [
    {
     "name": "stdout",
     "output_type": "stream",
     "text": [
      "[0 3 6]\n"
     ]
    }
   ],
   "source": [
    "# Vytvoreni vektoru po sobe jdoucich cisel\n",
    "print(np.arange(0, 8, step=2)) "
   ]
  },
  {
   "cell_type": "code",
   "execution_count": 82,
   "metadata": {},
   "outputs": [
    {
     "name": "stdout",
     "output_type": "stream",
     "text": [
      "[[1. 2.]\n",
      " [3. 4.]]\n"
     ]
    }
   ],
   "source": [
    "# Explicitni nastaveni datoveho typu pole\n",
    "arr_float = np.array([[1,2],[3,4]], dtype=np.float64)\n",
    "print(arr_float)"
   ]
  },
  {
   "cell_type": "code",
   "execution_count": 83,
   "metadata": {},
   "outputs": [],
   "source": [
    "# Prevedeni typu existujiciho pole\n",
    "arr = arr.astype(np.float64)"
   ]
  },
  {
   "cell_type": "code",
   "execution_count": 84,
   "metadata": {},
   "outputs": [
    {
     "name": "stdout",
     "output_type": "stream",
     "text": [
      "[[1. 2. 3. 4.]]\n"
     ]
    }
   ],
   "source": [
    "# Reshape matice do jinych rozmeru\n",
    "print(np.reshape(arr_float,newshape=(1, 4)))"
   ]
  },
  {
   "cell_type": "code",
   "execution_count": 85,
   "metadata": {},
   "outputs": [
    {
     "data": {
      "text/plain": [
       "array([1., 2., 3., 4.])"
      ]
     },
     "execution_count": 85,
     "metadata": {},
     "output_type": "execute_result"
    }
   ],
   "source": [
    "# Zkratka pro reshape (4,)\n",
    "arr_float.flatten()"
   ]
  },
  {
   "cell_type": "code",
   "execution_count": 89,
   "metadata": {},
   "outputs": [
    {
     "name": "stdout",
     "output_type": "stream",
     "text": [
      "[[1. 1.]\n",
      " [1. 1.]\n",
      " [0. 0.]\n",
      " [0. 0.]]\n",
      "[[1. 1. 0. 0.]\n",
      " [1. 1. 0. 0.]]\n"
     ]
    }
   ],
   "source": [
    "# Slepovani matic ze sebe nebo vedle sebe\n",
    "print(np.vstack((ones, zeros)))\n",
    "print(np.hstack((ones, zeros)))"
   ]
  },
  {
   "cell_type": "code",
   "execution_count": 87,
   "metadata": {},
   "outputs": [
    {
     "data": {
      "text/plain": [
       "(1, 2, 2)"
      ]
     },
     "execution_count": 87,
     "metadata": {},
     "output_type": "execute_result"
    }
   ],
   "source": [
    "# Pridani dimenze\n",
    "ones[np.newaxis].shape"
   ]
  },
  {
   "cell_type": "code",
   "execution_count": 67,
   "metadata": {},
   "outputs": [
    {
     "data": {
      "text/plain": [
       "(2, 2, 2)"
      ]
     },
     "execution_count": 67,
     "metadata": {},
     "output_type": "execute_result"
    }
   ],
   "source": [
    "# Vstack - typicky postup pro vstupy neuronek\n",
    "np.vstack([ones[np.newaxis], zeros[np.newaxis]]).shape"
   ]
  },
  {
   "cell_type": "code",
   "execution_count": 91,
   "metadata": {},
   "outputs": [
    {
     "name": "stdout",
     "output_type": "stream",
     "text": [
      "[2. 2.]\n",
      "[2. 2.]\n",
      "4.0\n"
     ]
    }
   ],
   "source": [
    "# Secteni hodnot ve sloupci a v radku, a v celem poli\n",
    "print(np.sum(ones,axis=0))\n",
    "print(np.sum(ones,axis=1))\n",
    "print(np.sum(ones))"
   ]
  },
  {
   "cell_type": "code",
   "execution_count": 93,
   "metadata": {},
   "outputs": [
    {
     "name": "stdout",
     "output_type": "stream",
     "text": [
      "[1 1 1]\n",
      "[2 1 0]\n"
     ]
    }
   ],
   "source": [
    "# Užitečná funkce - argmax\n",
    "\n",
    "a = np.array([\n",
    "    [2, 1, 3],\n",
    "    [3, 5, 4],\n",
    "    [1, 0, 0]\n",
    "])\n",
    "\n",
    "# Index maxima v každém sloupci (axis=0) / řádku (axis=1)\n",
    "print(np.argmax(a, axis=0))\n",
    "print(np.argmax(a, axis=1))"
   ]
  },
  {
   "cell_type": "markdown",
   "metadata": {},
   "source": [
    "### Pandas"
   ]
  },
  {
   "cell_type": "markdown",
   "metadata": {},
   "source": [
    "Pandas je knihovna, která se používá pro analýzu dat, které lze reprezentovat 2D tabulkou. Jednoduše řečeno, co jde dělat v Excelu, jde dělat i v Pandas, který má ovšem funkce navíc a umí plno věcí automatizovat.\n",
    "\n",
    "V této části budeme pracovat s jedním ze základních datasetů -- Iris, který obsahuje soubor údajů o květinách rodu Iris, který byl zaveden již ve 30. letech 20. stotelí britským biologem Ronaldem Fisherem. Soubor se skládá z 50 vzorků od každého ze tří druhů Iris (Iris setosa, Iris virginica a Iris versicolor). U každého ze vzorků byly změřeny čtyři rysy: délka a šířka kalichu a okvětních lístků v centimetrech. Na základě kombinace těchto čtyř rysů Fisher vyvinul lineární diskriminační model, aby od sebe druhy odlišil."
   ]
  },
  {
   "cell_type": "code",
   "execution_count": 1,
   "metadata": {},
   "outputs": [
    {
     "data": {
      "text/html": [
       "<div>\n",
       "<style scoped>\n",
       "    .dataframe tbody tr th:only-of-type {\n",
       "        vertical-align: middle;\n",
       "    }\n",
       "\n",
       "    .dataframe tbody tr th {\n",
       "        vertical-align: top;\n",
       "    }\n",
       "\n",
       "    .dataframe thead th {\n",
       "        text-align: right;\n",
       "    }\n",
       "</style>\n",
       "<table border=\"1\" class=\"dataframe\">\n",
       "  <thead>\n",
       "    <tr style=\"text-align: right;\">\n",
       "      <th></th>\n",
       "      <th>sepal.length</th>\n",
       "      <th>sepal.width</th>\n",
       "      <th>petal.length</th>\n",
       "      <th>petal.width</th>\n",
       "      <th>variety</th>\n",
       "    </tr>\n",
       "  </thead>\n",
       "  <tbody>\n",
       "    <tr>\n",
       "      <th>0</th>\n",
       "      <td>5.1</td>\n",
       "      <td>3.5</td>\n",
       "      <td>1.4</td>\n",
       "      <td>0.2</td>\n",
       "      <td>Setosa</td>\n",
       "    </tr>\n",
       "    <tr>\n",
       "      <th>1</th>\n",
       "      <td>4.9</td>\n",
       "      <td>3.0</td>\n",
       "      <td>1.4</td>\n",
       "      <td>0.2</td>\n",
       "      <td>Setosa</td>\n",
       "    </tr>\n",
       "    <tr>\n",
       "      <th>2</th>\n",
       "      <td>4.7</td>\n",
       "      <td>3.2</td>\n",
       "      <td>1.3</td>\n",
       "      <td>0.2</td>\n",
       "      <td>Setosa</td>\n",
       "    </tr>\n",
       "    <tr>\n",
       "      <th>3</th>\n",
       "      <td>4.6</td>\n",
       "      <td>3.1</td>\n",
       "      <td>1.5</td>\n",
       "      <td>0.2</td>\n",
       "      <td>Setosa</td>\n",
       "    </tr>\n",
       "    <tr>\n",
       "      <th>4</th>\n",
       "      <td>5.0</td>\n",
       "      <td>3.6</td>\n",
       "      <td>1.4</td>\n",
       "      <td>0.2</td>\n",
       "      <td>Setosa</td>\n",
       "    </tr>\n",
       "  </tbody>\n",
       "</table>\n",
       "</div>"
      ],
      "text/plain": [
       "   sepal.length  sepal.width  petal.length  petal.width variety\n",
       "0           5.1          3.5           1.4          0.2  Setosa\n",
       "1           4.9          3.0           1.4          0.2  Setosa\n",
       "2           4.7          3.2           1.3          0.2  Setosa\n",
       "3           4.6          3.1           1.5          0.2  Setosa\n",
       "4           5.0          3.6           1.4          0.2  Setosa"
      ]
     },
     "execution_count": 1,
     "metadata": {},
     "output_type": "execute_result"
    }
   ],
   "source": [
    "import pandas as pd\n",
    "\n",
    "# Import iris dataset\n",
    "iris = pd.read_csv('iris.csv')\n",
    "\n",
    "# Vypsani prvnich par radku a statistickych informaci o datasetu\n",
    "iris.head()"
   ]
  },
  {
   "cell_type": "code",
   "execution_count": 2,
   "metadata": {},
   "outputs": [
    {
     "data": {
      "text/html": [
       "<div>\n",
       "<style scoped>\n",
       "    .dataframe tbody tr th:only-of-type {\n",
       "        vertical-align: middle;\n",
       "    }\n",
       "\n",
       "    .dataframe tbody tr th {\n",
       "        vertical-align: top;\n",
       "    }\n",
       "\n",
       "    .dataframe thead th {\n",
       "        text-align: right;\n",
       "    }\n",
       "</style>\n",
       "<table border=\"1\" class=\"dataframe\">\n",
       "  <thead>\n",
       "    <tr style=\"text-align: right;\">\n",
       "      <th></th>\n",
       "      <th>sepal.length</th>\n",
       "      <th>sepal.width</th>\n",
       "      <th>petal.length</th>\n",
       "      <th>petal.width</th>\n",
       "    </tr>\n",
       "  </thead>\n",
       "  <tbody>\n",
       "    <tr>\n",
       "      <th>count</th>\n",
       "      <td>150.000000</td>\n",
       "      <td>150.000000</td>\n",
       "      <td>150.000000</td>\n",
       "      <td>150.000000</td>\n",
       "    </tr>\n",
       "    <tr>\n",
       "      <th>mean</th>\n",
       "      <td>5.843333</td>\n",
       "      <td>3.057333</td>\n",
       "      <td>3.758000</td>\n",
       "      <td>1.199333</td>\n",
       "    </tr>\n",
       "    <tr>\n",
       "      <th>std</th>\n",
       "      <td>0.828066</td>\n",
       "      <td>0.435866</td>\n",
       "      <td>1.765298</td>\n",
       "      <td>0.762238</td>\n",
       "    </tr>\n",
       "    <tr>\n",
       "      <th>min</th>\n",
       "      <td>4.300000</td>\n",
       "      <td>2.000000</td>\n",
       "      <td>1.000000</td>\n",
       "      <td>0.100000</td>\n",
       "    </tr>\n",
       "    <tr>\n",
       "      <th>25%</th>\n",
       "      <td>5.100000</td>\n",
       "      <td>2.800000</td>\n",
       "      <td>1.600000</td>\n",
       "      <td>0.300000</td>\n",
       "    </tr>\n",
       "    <tr>\n",
       "      <th>50%</th>\n",
       "      <td>5.800000</td>\n",
       "      <td>3.000000</td>\n",
       "      <td>4.350000</td>\n",
       "      <td>1.300000</td>\n",
       "    </tr>\n",
       "    <tr>\n",
       "      <th>75%</th>\n",
       "      <td>6.400000</td>\n",
       "      <td>3.300000</td>\n",
       "      <td>5.100000</td>\n",
       "      <td>1.800000</td>\n",
       "    </tr>\n",
       "    <tr>\n",
       "      <th>max</th>\n",
       "      <td>7.900000</td>\n",
       "      <td>4.400000</td>\n",
       "      <td>6.900000</td>\n",
       "      <td>2.500000</td>\n",
       "    </tr>\n",
       "  </tbody>\n",
       "</table>\n",
       "</div>"
      ],
      "text/plain": [
       "       sepal.length  sepal.width  petal.length  petal.width\n",
       "count    150.000000   150.000000    150.000000   150.000000\n",
       "mean       5.843333     3.057333      3.758000     1.199333\n",
       "std        0.828066     0.435866      1.765298     0.762238\n",
       "min        4.300000     2.000000      1.000000     0.100000\n",
       "25%        5.100000     2.800000      1.600000     0.300000\n",
       "50%        5.800000     3.000000      4.350000     1.300000\n",
       "75%        6.400000     3.300000      5.100000     1.800000\n",
       "max        7.900000     4.400000      6.900000     2.500000"
      ]
     },
     "execution_count": 2,
     "metadata": {},
     "output_type": "execute_result"
    }
   ],
   "source": [
    "# Vypsani par statistickych informaci o datasetu\n",
    "iris.describe()"
   ]
  },
  {
   "cell_type": "code",
   "execution_count": 3,
   "metadata": {},
   "outputs": [
    {
     "data": {
      "text/html": [
       "<div>\n",
       "<style scoped>\n",
       "    .dataframe tbody tr th:only-of-type {\n",
       "        vertical-align: middle;\n",
       "    }\n",
       "\n",
       "    .dataframe tbody tr th {\n",
       "        vertical-align: top;\n",
       "    }\n",
       "\n",
       "    .dataframe thead th {\n",
       "        text-align: right;\n",
       "    }\n",
       "</style>\n",
       "<table border=\"1\" class=\"dataframe\">\n",
       "  <thead>\n",
       "    <tr style=\"text-align: right;\">\n",
       "      <th></th>\n",
       "      <th>sepal.length</th>\n",
       "      <th>sepal.width</th>\n",
       "      <th>petal.length</th>\n",
       "      <th>petal.width</th>\n",
       "      <th>variety</th>\n",
       "    </tr>\n",
       "  </thead>\n",
       "  <tbody>\n",
       "    <tr>\n",
       "      <th>8</th>\n",
       "      <td>4.4</td>\n",
       "      <td>2.9</td>\n",
       "      <td>1.4</td>\n",
       "      <td>0.2</td>\n",
       "      <td>Setosa</td>\n",
       "    </tr>\n",
       "    <tr>\n",
       "      <th>13</th>\n",
       "      <td>4.3</td>\n",
       "      <td>3.0</td>\n",
       "      <td>1.1</td>\n",
       "      <td>0.1</td>\n",
       "      <td>Setosa</td>\n",
       "    </tr>\n",
       "    <tr>\n",
       "      <th>38</th>\n",
       "      <td>4.4</td>\n",
       "      <td>3.0</td>\n",
       "      <td>1.3</td>\n",
       "      <td>0.2</td>\n",
       "      <td>Setosa</td>\n",
       "    </tr>\n",
       "    <tr>\n",
       "      <th>42</th>\n",
       "      <td>4.4</td>\n",
       "      <td>3.2</td>\n",
       "      <td>1.3</td>\n",
       "      <td>0.2</td>\n",
       "      <td>Setosa</td>\n",
       "    </tr>\n",
       "  </tbody>\n",
       "</table>\n",
       "</div>"
      ],
      "text/plain": [
       "    sepal.length  sepal.width  petal.length  petal.width variety\n",
       "8            4.4          2.9           1.4          0.2  Setosa\n",
       "13           4.3          3.0           1.1          0.1  Setosa\n",
       "38           4.4          3.0           1.3          0.2  Setosa\n",
       "42           4.4          3.2           1.3          0.2  Setosa"
      ]
     },
     "execution_count": 3,
     "metadata": {},
     "output_type": "execute_result"
    }
   ],
   "source": [
    "# Filtrovani radku podle hodnoty v danem sloupci\n",
    "iris[iris['sepal.length'] < 4.5]"
   ]
  },
  {
   "cell_type": "code",
   "execution_count": 4,
   "metadata": {},
   "outputs": [
    {
     "data": {
      "text/html": [
       "<div>\n",
       "<style scoped>\n",
       "    .dataframe tbody tr th:only-of-type {\n",
       "        vertical-align: middle;\n",
       "    }\n",
       "\n",
       "    .dataframe tbody tr th {\n",
       "        vertical-align: top;\n",
       "    }\n",
       "\n",
       "    .dataframe thead th {\n",
       "        text-align: right;\n",
       "    }\n",
       "</style>\n",
       "<table border=\"1\" class=\"dataframe\">\n",
       "  <thead>\n",
       "    <tr style=\"text-align: right;\">\n",
       "      <th></th>\n",
       "      <th>sepal.length</th>\n",
       "      <th>sepal.width</th>\n",
       "      <th>petal.length</th>\n",
       "      <th>petal.width</th>\n",
       "      <th>variety</th>\n",
       "    </tr>\n",
       "  </thead>\n",
       "  <tbody>\n",
       "    <tr>\n",
       "      <th>8</th>\n",
       "      <td>4.4</td>\n",
       "      <td>2.9</td>\n",
       "      <td>1.4</td>\n",
       "      <td>0.2</td>\n",
       "      <td>Setosa</td>\n",
       "    </tr>\n",
       "    <tr>\n",
       "      <th>38</th>\n",
       "      <td>4.4</td>\n",
       "      <td>3.0</td>\n",
       "      <td>1.3</td>\n",
       "      <td>0.2</td>\n",
       "      <td>Setosa</td>\n",
       "    </tr>\n",
       "    <tr>\n",
       "      <th>42</th>\n",
       "      <td>4.4</td>\n",
       "      <td>3.2</td>\n",
       "      <td>1.3</td>\n",
       "      <td>0.2</td>\n",
       "      <td>Setosa</td>\n",
       "    </tr>\n",
       "  </tbody>\n",
       "</table>\n",
       "</div>"
      ],
      "text/plain": [
       "    sepal.length  sepal.width  petal.length  petal.width variety\n",
       "8            4.4          2.9           1.4          0.2  Setosa\n",
       "38           4.4          3.0           1.3          0.2  Setosa\n",
       "42           4.4          3.2           1.3          0.2  Setosa"
      ]
     },
     "execution_count": 4,
     "metadata": {},
     "output_type": "execute_result"
    }
   ],
   "source": [
    "# Slozitejsi filtrovani - dve podminky naraz. Pouzivam & a | misto and a or, protoze to nejsou True a False ale sloupce boolu\n",
    "iris[(iris['sepal.length'] < 4.5) & (iris['petal.length'] > 1.2)]"
   ]
  },
  {
   "cell_type": "code",
   "execution_count": 99,
   "metadata": {},
   "outputs": [
    {
     "name": "stdout",
     "output_type": "stream",
     "text": [
      "0      False\n",
      "1      False\n",
      "2      False\n",
      "3      False\n",
      "4      False\n",
      "       ...  \n",
      "145    False\n",
      "146    False\n",
      "147    False\n",
      "148    False\n",
      "149    False\n",
      "Name: sepal.length, Length: 150, dtype: bool\n",
      "\n",
      "(array([False,  True]), array([146,   4]))\n"
     ]
    }
   ],
   "source": [
    "# Tohle myslim sloupcem boolu - pro kazdy radek se podminka vyhodnoti zvlast\n",
    "print(iris['sepal.length'] < 4.5)\n",
    "print()\n",
    "print(np.unique((iris['sepal.length'] < 4.5), return_counts=True))"
   ]
  },
  {
   "cell_type": "code",
   "execution_count": 100,
   "metadata": {},
   "outputs": [
    {
     "name": "stdout",
     "output_type": "stream",
     "text": [
      "Yep\n"
     ]
    }
   ],
   "source": [
    "# Mohu se pak podivat, jestli je splnena pro neco (any()) nebo pro vsechny (all())\n",
    "if (iris['sepal.length'] < 4.5).any():\n",
    "    print('Yep')"
   ]
  },
  {
   "cell_type": "code",
   "execution_count": 7,
   "metadata": {},
   "outputs": [
    {
     "data": {
      "text/html": [
       "<div>\n",
       "<style scoped>\n",
       "    .dataframe tbody tr th:only-of-type {\n",
       "        vertical-align: middle;\n",
       "    }\n",
       "\n",
       "    .dataframe tbody tr th {\n",
       "        vertical-align: top;\n",
       "    }\n",
       "\n",
       "    .dataframe thead th {\n",
       "        text-align: right;\n",
       "    }\n",
       "</style>\n",
       "<table border=\"1\" class=\"dataframe\">\n",
       "  <thead>\n",
       "    <tr style=\"text-align: right;\">\n",
       "      <th></th>\n",
       "      <th>sepal.length</th>\n",
       "      <th>sepal.width</th>\n",
       "      <th>petal.length</th>\n",
       "      <th>petal.width</th>\n",
       "      <th>variety</th>\n",
       "      <th>sepal_ratio</th>\n",
       "    </tr>\n",
       "  </thead>\n",
       "  <tbody>\n",
       "    <tr>\n",
       "      <th>0</th>\n",
       "      <td>5.1</td>\n",
       "      <td>3.5</td>\n",
       "      <td>1.4</td>\n",
       "      <td>0.2</td>\n",
       "      <td>Setosa</td>\n",
       "      <td>1.457143</td>\n",
       "    </tr>\n",
       "    <tr>\n",
       "      <th>1</th>\n",
       "      <td>4.9</td>\n",
       "      <td>3.0</td>\n",
       "      <td>1.4</td>\n",
       "      <td>0.2</td>\n",
       "      <td>Setosa</td>\n",
       "      <td>1.633333</td>\n",
       "    </tr>\n",
       "    <tr>\n",
       "      <th>2</th>\n",
       "      <td>4.7</td>\n",
       "      <td>3.2</td>\n",
       "      <td>1.3</td>\n",
       "      <td>0.2</td>\n",
       "      <td>Setosa</td>\n",
       "      <td>1.468750</td>\n",
       "    </tr>\n",
       "  </tbody>\n",
       "</table>\n",
       "</div>"
      ],
      "text/plain": [
       "   sepal.length  sepal.width  petal.length  petal.width variety  sepal_ratio\n",
       "0           5.1          3.5           1.4          0.2  Setosa     1.457143\n",
       "1           4.9          3.0           1.4          0.2  Setosa     1.633333\n",
       "2           4.7          3.2           1.3          0.2  Setosa     1.468750"
      ]
     },
     "execution_count": 7,
     "metadata": {},
     "output_type": "execute_result"
    }
   ],
   "source": [
    "# Pridani noveho sloupce\n",
    "iris['sepal_ratio'] = iris['sepal.length'] / iris['sepal.width']\n",
    "iris.head(3)  # prvni 3"
   ]
  },
  {
   "cell_type": "code",
   "execution_count": 8,
   "metadata": {},
   "outputs": [
    {
     "data": {
      "text/html": [
       "<div>\n",
       "<style scoped>\n",
       "    .dataframe tbody tr th:only-of-type {\n",
       "        vertical-align: middle;\n",
       "    }\n",
       "\n",
       "    .dataframe tbody tr th {\n",
       "        vertical-align: top;\n",
       "    }\n",
       "\n",
       "    .dataframe thead th {\n",
       "        text-align: right;\n",
       "    }\n",
       "</style>\n",
       "<table border=\"1\" class=\"dataframe\">\n",
       "  <thead>\n",
       "    <tr style=\"text-align: right;\">\n",
       "      <th></th>\n",
       "      <th>sepal.length</th>\n",
       "      <th>sepal.width</th>\n",
       "      <th>petal.length</th>\n",
       "      <th>petal.width</th>\n",
       "      <th>variety</th>\n",
       "    </tr>\n",
       "  </thead>\n",
       "  <tbody>\n",
       "    <tr>\n",
       "      <th>0</th>\n",
       "      <td>5.1</td>\n",
       "      <td>3.5</td>\n",
       "      <td>1.4</td>\n",
       "      <td>0.2</td>\n",
       "      <td>Setosa</td>\n",
       "    </tr>\n",
       "    <tr>\n",
       "      <th>1</th>\n",
       "      <td>4.9</td>\n",
       "      <td>3.0</td>\n",
       "      <td>1.4</td>\n",
       "      <td>0.2</td>\n",
       "      <td>Setosa</td>\n",
       "    </tr>\n",
       "    <tr>\n",
       "      <th>2</th>\n",
       "      <td>4.7</td>\n",
       "      <td>3.2</td>\n",
       "      <td>1.3</td>\n",
       "      <td>0.2</td>\n",
       "      <td>Setosa</td>\n",
       "    </tr>\n",
       "  </tbody>\n",
       "</table>\n",
       "</div>"
      ],
      "text/plain": [
       "   sepal.length  sepal.width  petal.length  petal.width variety\n",
       "0           5.1          3.5           1.4          0.2  Setosa\n",
       "1           4.9          3.0           1.4          0.2  Setosa\n",
       "2           4.7          3.2           1.3          0.2  Setosa"
      ]
     },
     "execution_count": 8,
     "metadata": {},
     "output_type": "execute_result"
    }
   ],
   "source": [
    "# smazani noveho sloupce\n",
    "del iris['sepal_ratio']\n",
    "iris.head(3)"
   ]
  },
  {
   "cell_type": "code",
   "execution_count": 9,
   "metadata": {},
   "outputs": [
    {
     "data": {
      "text/html": [
       "<div>\n",
       "<style scoped>\n",
       "    .dataframe tbody tr th:only-of-type {\n",
       "        vertical-align: middle;\n",
       "    }\n",
       "\n",
       "    .dataframe tbody tr th {\n",
       "        vertical-align: top;\n",
       "    }\n",
       "\n",
       "    .dataframe thead th {\n",
       "        text-align: right;\n",
       "    }\n",
       "</style>\n",
       "<table border=\"1\" class=\"dataframe\">\n",
       "  <thead>\n",
       "    <tr style=\"text-align: right;\">\n",
       "      <th></th>\n",
       "      <th>sepal.length</th>\n",
       "      <th>sepal.width</th>\n",
       "      <th>petal.length</th>\n",
       "      <th>petal.width</th>\n",
       "      <th>variety</th>\n",
       "    </tr>\n",
       "  </thead>\n",
       "  <tbody>\n",
       "    <tr>\n",
       "      <th>0</th>\n",
       "      <td>5.1</td>\n",
       "      <td>3.5</td>\n",
       "      <td>1.4</td>\n",
       "      <td>0.2</td>\n",
       "      <td>0</td>\n",
       "    </tr>\n",
       "    <tr>\n",
       "      <th>1</th>\n",
       "      <td>4.9</td>\n",
       "      <td>3.0</td>\n",
       "      <td>1.4</td>\n",
       "      <td>0.2</td>\n",
       "      <td>0</td>\n",
       "    </tr>\n",
       "    <tr>\n",
       "      <th>2</th>\n",
       "      <td>4.7</td>\n",
       "      <td>3.2</td>\n",
       "      <td>1.3</td>\n",
       "      <td>0.2</td>\n",
       "      <td>0</td>\n",
       "    </tr>\n",
       "    <tr>\n",
       "      <th>3</th>\n",
       "      <td>4.6</td>\n",
       "      <td>3.1</td>\n",
       "      <td>1.5</td>\n",
       "      <td>0.2</td>\n",
       "      <td>0</td>\n",
       "    </tr>\n",
       "    <tr>\n",
       "      <th>4</th>\n",
       "      <td>5.0</td>\n",
       "      <td>3.6</td>\n",
       "      <td>1.4</td>\n",
       "      <td>0.2</td>\n",
       "      <td>0</td>\n",
       "    </tr>\n",
       "  </tbody>\n",
       "</table>\n",
       "</div>"
      ],
      "text/plain": [
       "   sepal.length  sepal.width  petal.length  petal.width  variety\n",
       "0           5.1          3.5           1.4          0.2        0\n",
       "1           4.9          3.0           1.4          0.2        0\n",
       "2           4.7          3.2           1.3          0.2        0\n",
       "3           4.6          3.1           1.5          0.2        0\n",
       "4           5.0          3.6           1.4          0.2        0"
      ]
     },
     "execution_count": 9,
     "metadata": {},
     "output_type": "execute_result"
    }
   ],
   "source": [
    "# Vytvorime si novy sloupec, kam prevedeme hodnoty na kategorie\n",
    "labels = {'Setosa': 0, 'Virginica':1, 'Versicolor':2}\n",
    "iris = iris.replace({'variety': labels})\n",
    "iris.head()"
   ]
  },
  {
   "cell_type": "code",
   "execution_count": 10,
   "metadata": {},
   "outputs": [
    {
     "data": {
      "text/plain": [
       "0      3\n",
       "1      3\n",
       "2      3\n",
       "3      3\n",
       "4      3\n",
       "      ..\n",
       "145    3\n",
       "146    3\n",
       "147    3\n",
       "148    3\n",
       "149    3\n",
       "Name: sth, Length: 150, dtype: int64"
      ]
     },
     "execution_count": 10,
     "metadata": {},
     "output_type": "execute_result"
    }
   ],
   "source": [
    "# Takto si vytvorim sloupec konstantni hodnoty\n",
    "iris['sth'] = 3\n",
    "iris['sth2'] = 3\n",
    "\n",
    "iris['sth']"
   ]
  },
  {
   "cell_type": "code",
   "execution_count": 11,
   "metadata": {},
   "outputs": [],
   "source": [
    "# Takhle vyhodim nekolik sloupcu naraz. S inplace=True se prepisuje puvodni DataFrame\n",
    "iris.drop(columns=['sth', 'sth2'], inplace=True)"
   ]
  },
  {
   "cell_type": "code",
   "execution_count": 13,
   "metadata": {},
   "outputs": [
    {
     "data": {
      "text/plain": [
       "sepal.length    5.1\n",
       "sepal.width     3.5\n",
       "petal.length    1.4\n",
       "petal.width     0.2\n",
       "variety         0.0\n",
       "Name: 0, dtype: float64"
      ]
     },
     "execution_count": 13,
     "metadata": {},
     "output_type": "execute_result"
    }
   ],
   "source": [
    "# Indexovani pomoci cisel\n",
    "iris.iloc[0]"
   ]
  },
  {
   "cell_type": "code",
   "execution_count": 104,
   "metadata": {},
   "outputs": [
    {
     "data": {
      "text/html": [
       "<div>\n",
       "<style scoped>\n",
       "    .dataframe tbody tr th:only-of-type {\n",
       "        vertical-align: middle;\n",
       "    }\n",
       "\n",
       "    .dataframe tbody tr th {\n",
       "        vertical-align: top;\n",
       "    }\n",
       "\n",
       "    .dataframe thead th {\n",
       "        text-align: right;\n",
       "    }\n",
       "</style>\n",
       "<table border=\"1\" class=\"dataframe\">\n",
       "  <thead>\n",
       "    <tr style=\"text-align: right;\">\n",
       "      <th></th>\n",
       "      <th>sepal.length</th>\n",
       "      <th>sepal.width</th>\n",
       "      <th>petal.length</th>\n",
       "      <th>petal.width</th>\n",
       "      <th>variety</th>\n",
       "    </tr>\n",
       "    <tr>\n",
       "      <th>new_index</th>\n",
       "      <th></th>\n",
       "      <th></th>\n",
       "      <th></th>\n",
       "      <th></th>\n",
       "      <th></th>\n",
       "    </tr>\n",
       "  </thead>\n",
       "  <tbody>\n",
       "    <tr>\n",
       "      <th>Index 0</th>\n",
       "      <td>5.1</td>\n",
       "      <td>3.5</td>\n",
       "      <td>1.4</td>\n",
       "      <td>0.2</td>\n",
       "      <td>0</td>\n",
       "    </tr>\n",
       "    <tr>\n",
       "      <th>Index 1</th>\n",
       "      <td>4.9</td>\n",
       "      <td>3.0</td>\n",
       "      <td>1.4</td>\n",
       "      <td>0.2</td>\n",
       "      <td>0</td>\n",
       "    </tr>\n",
       "    <tr>\n",
       "      <th>Index 2</th>\n",
       "      <td>4.7</td>\n",
       "      <td>3.2</td>\n",
       "      <td>1.3</td>\n",
       "      <td>0.2</td>\n",
       "      <td>0</td>\n",
       "    </tr>\n",
       "    <tr>\n",
       "      <th>Index 3</th>\n",
       "      <td>4.6</td>\n",
       "      <td>3.1</td>\n",
       "      <td>1.5</td>\n",
       "      <td>0.2</td>\n",
       "      <td>0</td>\n",
       "    </tr>\n",
       "    <tr>\n",
       "      <th>Index 4</th>\n",
       "      <td>5.0</td>\n",
       "      <td>3.6</td>\n",
       "      <td>1.4</td>\n",
       "      <td>0.2</td>\n",
       "      <td>0</td>\n",
       "    </tr>\n",
       "    <tr>\n",
       "      <th>...</th>\n",
       "      <td>...</td>\n",
       "      <td>...</td>\n",
       "      <td>...</td>\n",
       "      <td>...</td>\n",
       "      <td>...</td>\n",
       "    </tr>\n",
       "    <tr>\n",
       "      <th>Index 145</th>\n",
       "      <td>6.7</td>\n",
       "      <td>3.0</td>\n",
       "      <td>5.2</td>\n",
       "      <td>2.3</td>\n",
       "      <td>1</td>\n",
       "    </tr>\n",
       "    <tr>\n",
       "      <th>Index 146</th>\n",
       "      <td>6.3</td>\n",
       "      <td>2.5</td>\n",
       "      <td>5.0</td>\n",
       "      <td>1.9</td>\n",
       "      <td>1</td>\n",
       "    </tr>\n",
       "    <tr>\n",
       "      <th>Index 147</th>\n",
       "      <td>6.5</td>\n",
       "      <td>3.0</td>\n",
       "      <td>5.2</td>\n",
       "      <td>2.0</td>\n",
       "      <td>1</td>\n",
       "    </tr>\n",
       "    <tr>\n",
       "      <th>Index 148</th>\n",
       "      <td>6.2</td>\n",
       "      <td>3.4</td>\n",
       "      <td>5.4</td>\n",
       "      <td>2.3</td>\n",
       "      <td>1</td>\n",
       "    </tr>\n",
       "    <tr>\n",
       "      <th>Index 149</th>\n",
       "      <td>5.9</td>\n",
       "      <td>3.0</td>\n",
       "      <td>5.1</td>\n",
       "      <td>1.8</td>\n",
       "      <td>1</td>\n",
       "    </tr>\n",
       "  </tbody>\n",
       "</table>\n",
       "<p>150 rows × 5 columns</p>\n",
       "</div>"
      ],
      "text/plain": [
       "           sepal.length  sepal.width  petal.length  petal.width  variety\n",
       "new_index                                                               \n",
       "Index 0             5.1          3.5           1.4          0.2        0\n",
       "Index 1             4.9          3.0           1.4          0.2        0\n",
       "Index 2             4.7          3.2           1.3          0.2        0\n",
       "Index 3             4.6          3.1           1.5          0.2        0\n",
       "Index 4             5.0          3.6           1.4          0.2        0\n",
       "...                 ...          ...           ...          ...      ...\n",
       "Index 145           6.7          3.0           5.2          2.3        1\n",
       "Index 146           6.3          2.5           5.0          1.9        1\n",
       "Index 147           6.5          3.0           5.2          2.0        1\n",
       "Index 148           6.2          3.4           5.4          2.3        1\n",
       "Index 149           5.9          3.0           5.1          1.8        1\n",
       "\n",
       "[150 rows x 5 columns]"
      ]
     },
     "execution_count": 104,
     "metadata": {},
     "output_type": "execute_result"
    }
   ],
   "source": [
    "# Nastaveni sloupce jako indexu\n",
    "\n",
    "complex_index = [f\"Index {i}\" for i in iris.index]\n",
    "iris['new_index'] = complex_index\n",
    "\n",
    "iris.set_index('new_index', inplace=True)\n",
    "iris"
   ]
  },
  {
   "cell_type": "code",
   "execution_count": 110,
   "metadata": {},
   "outputs": [],
   "source": [
    "# Ruzne druhy indexovani - trochu jine nez v numpy, pouze prehled pro rozsireni"
   ]
  },
  {
   "cell_type": "code",
   "execution_count": 109,
   "metadata": {},
   "outputs": [
    {
     "name": "stdout",
     "output_type": "stream",
     "text": [
      "new_index\n",
      "Index 0      0\n",
      "Index 1      0\n",
      "Index 2      0\n",
      "Index 3      0\n",
      "Index 4      0\n",
      "            ..\n",
      "Index 145    1\n",
      "Index 146    1\n",
      "Index 147    1\n",
      "Index 148    1\n",
      "Index 149    1\n",
      "Name: variety, Length: 150, dtype: int64\n"
     ]
    }
   ],
   "source": [
    "print(iris['variety']) # jenom slozene zavorky je sloupec"
   ]
  },
  {
   "cell_type": "code",
   "execution_count": 112,
   "metadata": {},
   "outputs": [
    {
     "name": "stdout",
     "output_type": "stream",
     "text": [
      "sepal.length    5.1\n",
      "sepal.width     3.5\n",
      "petal.length    1.4\n",
      "petal.width     0.2\n",
      "variety         0.0\n",
      "Name: Index 0, dtype: float64\n",
      "sepal.length    4.9\n",
      "sepal.width     3.0\n",
      "petal.length    1.4\n",
      "petal.width     0.2\n",
      "variety         0.0\n",
      "Name: Index 1, dtype: float64\n"
     ]
    }
   ],
   "source": [
    "print(iris.iloc[0])  # N-ty radek\n",
    "print(iris.loc['Index 1'])  # Indexovani jmenama radku"
   ]
  },
  {
   "cell_type": "code",
   "execution_count": 113,
   "metadata": {
    "scrolled": true
   },
   "outputs": [
    {
     "ename": "KeyError",
     "evalue": "0",
     "output_type": "error",
     "traceback": [
      "\u001b[0;31m---------------------------------------------------------------------------\u001b[0m",
      "\u001b[0;31mKeyError\u001b[0m                                  Traceback (most recent call last)",
      "\u001b[0;32m~/.env/lib/python3.8/site-packages/pandas/core/indexes/base.py\u001b[0m in \u001b[0;36mget_loc\u001b[0;34m(self, key)\u001b[0m\n\u001b[1;32m   3652\u001b[0m         \u001b[0;32mtry\u001b[0m\u001b[0;34m:\u001b[0m\u001b[0;34m\u001b[0m\u001b[0;34m\u001b[0m\u001b[0m\n\u001b[0;32m-> 3653\u001b[0;31m             \u001b[0;32mreturn\u001b[0m \u001b[0mself\u001b[0m\u001b[0;34m.\u001b[0m\u001b[0m_engine\u001b[0m\u001b[0;34m.\u001b[0m\u001b[0mget_loc\u001b[0m\u001b[0;34m(\u001b[0m\u001b[0mcasted_key\u001b[0m\u001b[0;34m)\u001b[0m\u001b[0;34m\u001b[0m\u001b[0;34m\u001b[0m\u001b[0m\n\u001b[0m\u001b[1;32m   3654\u001b[0m         \u001b[0;32mexcept\u001b[0m \u001b[0mKeyError\u001b[0m \u001b[0;32mas\u001b[0m \u001b[0merr\u001b[0m\u001b[0;34m:\u001b[0m\u001b[0;34m\u001b[0m\u001b[0;34m\u001b[0m\u001b[0m\n",
      "\u001b[0;32m~/.env/lib/python3.8/site-packages/pandas/_libs/index.pyx\u001b[0m in \u001b[0;36mpandas._libs.index.IndexEngine.get_loc\u001b[0;34m()\u001b[0m\n",
      "\u001b[0;32m~/.env/lib/python3.8/site-packages/pandas/_libs/index.pyx\u001b[0m in \u001b[0;36mpandas._libs.index.IndexEngine.get_loc\u001b[0;34m()\u001b[0m\n",
      "\u001b[0;32mpandas/_libs/hashtable_class_helper.pxi\u001b[0m in \u001b[0;36mpandas._libs.hashtable.PyObjectHashTable.get_item\u001b[0;34m()\u001b[0m\n",
      "\u001b[0;32mpandas/_libs/hashtable_class_helper.pxi\u001b[0m in \u001b[0;36mpandas._libs.hashtable.PyObjectHashTable.get_item\u001b[0;34m()\u001b[0m\n",
      "\u001b[0;31mKeyError\u001b[0m: 0",
      "\nThe above exception was the direct cause of the following exception:\n",
      "\u001b[0;31mKeyError\u001b[0m                                  Traceback (most recent call last)",
      "\u001b[0;32m/tmp/ipykernel_7033/3591468113.py\u001b[0m in \u001b[0;36m<module>\u001b[0;34m\u001b[0m\n\u001b[0;32m----> 1\u001b[0;31m \u001b[0mprint\u001b[0m\u001b[0;34m(\u001b[0m\u001b[0miris\u001b[0m\u001b[0;34m.\u001b[0m\u001b[0mloc\u001b[0m\u001b[0;34m[\u001b[0m\u001b[0;36m0\u001b[0m\u001b[0;34m]\u001b[0m\u001b[0;34m)\u001b[0m  \u001b[0;31m# Tohle spadne, protoze 0 uz neni v indexu\u001b[0m\u001b[0;34m\u001b[0m\u001b[0;34m\u001b[0m\u001b[0m\n\u001b[0m",
      "\u001b[0;32m~/.env/lib/python3.8/site-packages/pandas/core/indexing.py\u001b[0m in \u001b[0;36m__getitem__\u001b[0;34m(self, key)\u001b[0m\n\u001b[1;32m   1101\u001b[0m \u001b[0;34m\u001b[0m\u001b[0m\n\u001b[1;32m   1102\u001b[0m             \u001b[0mmaybe_callable\u001b[0m \u001b[0;34m=\u001b[0m \u001b[0mcom\u001b[0m\u001b[0;34m.\u001b[0m\u001b[0mapply_if_callable\u001b[0m\u001b[0;34m(\u001b[0m\u001b[0mkey\u001b[0m\u001b[0;34m,\u001b[0m \u001b[0mself\u001b[0m\u001b[0;34m.\u001b[0m\u001b[0mobj\u001b[0m\u001b[0;34m)\u001b[0m\u001b[0;34m\u001b[0m\u001b[0;34m\u001b[0m\u001b[0m\n\u001b[0;32m-> 1103\u001b[0;31m             \u001b[0;32mreturn\u001b[0m \u001b[0mself\u001b[0m\u001b[0;34m.\u001b[0m\u001b[0m_getitem_axis\u001b[0m\u001b[0;34m(\u001b[0m\u001b[0mmaybe_callable\u001b[0m\u001b[0;34m,\u001b[0m \u001b[0maxis\u001b[0m\u001b[0;34m=\u001b[0m\u001b[0maxis\u001b[0m\u001b[0;34m)\u001b[0m\u001b[0;34m\u001b[0m\u001b[0;34m\u001b[0m\u001b[0m\n\u001b[0m\u001b[1;32m   1104\u001b[0m \u001b[0;34m\u001b[0m\u001b[0m\n\u001b[1;32m   1105\u001b[0m     \u001b[0;32mdef\u001b[0m \u001b[0m_is_scalar_access\u001b[0m\u001b[0;34m(\u001b[0m\u001b[0mself\u001b[0m\u001b[0;34m,\u001b[0m \u001b[0mkey\u001b[0m\u001b[0;34m:\u001b[0m \u001b[0mtuple\u001b[0m\u001b[0;34m)\u001b[0m\u001b[0;34m:\u001b[0m\u001b[0;34m\u001b[0m\u001b[0;34m\u001b[0m\u001b[0m\n",
      "\u001b[0;32m~/.env/lib/python3.8/site-packages/pandas/core/indexing.py\u001b[0m in \u001b[0;36m_getitem_axis\u001b[0;34m(self, key, axis)\u001b[0m\n\u001b[1;32m   1341\u001b[0m         \u001b[0;31m# fall thru to straight lookup\u001b[0m\u001b[0;34m\u001b[0m\u001b[0;34m\u001b[0m\u001b[0;34m\u001b[0m\u001b[0m\n\u001b[1;32m   1342\u001b[0m         \u001b[0mself\u001b[0m\u001b[0;34m.\u001b[0m\u001b[0m_validate_key\u001b[0m\u001b[0;34m(\u001b[0m\u001b[0mkey\u001b[0m\u001b[0;34m,\u001b[0m \u001b[0maxis\u001b[0m\u001b[0;34m)\u001b[0m\u001b[0;34m\u001b[0m\u001b[0;34m\u001b[0m\u001b[0m\n\u001b[0;32m-> 1343\u001b[0;31m         \u001b[0;32mreturn\u001b[0m \u001b[0mself\u001b[0m\u001b[0;34m.\u001b[0m\u001b[0m_get_label\u001b[0m\u001b[0;34m(\u001b[0m\u001b[0mkey\u001b[0m\u001b[0;34m,\u001b[0m \u001b[0maxis\u001b[0m\u001b[0;34m=\u001b[0m\u001b[0maxis\u001b[0m\u001b[0;34m)\u001b[0m\u001b[0;34m\u001b[0m\u001b[0;34m\u001b[0m\u001b[0m\n\u001b[0m\u001b[1;32m   1344\u001b[0m \u001b[0;34m\u001b[0m\u001b[0m\n\u001b[1;32m   1345\u001b[0m     \u001b[0;32mdef\u001b[0m \u001b[0m_get_slice_axis\u001b[0m\u001b[0;34m(\u001b[0m\u001b[0mself\u001b[0m\u001b[0;34m,\u001b[0m \u001b[0mslice_obj\u001b[0m\u001b[0;34m:\u001b[0m \u001b[0mslice\u001b[0m\u001b[0;34m,\u001b[0m \u001b[0maxis\u001b[0m\u001b[0;34m:\u001b[0m \u001b[0mAxisInt\u001b[0m\u001b[0;34m)\u001b[0m\u001b[0;34m:\u001b[0m\u001b[0;34m\u001b[0m\u001b[0;34m\u001b[0m\u001b[0m\n",
      "\u001b[0;32m~/.env/lib/python3.8/site-packages/pandas/core/indexing.py\u001b[0m in \u001b[0;36m_get_label\u001b[0;34m(self, label, axis)\u001b[0m\n\u001b[1;32m   1291\u001b[0m     \u001b[0;32mdef\u001b[0m \u001b[0m_get_label\u001b[0m\u001b[0;34m(\u001b[0m\u001b[0mself\u001b[0m\u001b[0;34m,\u001b[0m \u001b[0mlabel\u001b[0m\u001b[0;34m,\u001b[0m \u001b[0maxis\u001b[0m\u001b[0;34m:\u001b[0m \u001b[0mAxisInt\u001b[0m\u001b[0;34m)\u001b[0m\u001b[0;34m:\u001b[0m\u001b[0;34m\u001b[0m\u001b[0;34m\u001b[0m\u001b[0m\n\u001b[1;32m   1292\u001b[0m         \u001b[0;31m# GH#5567 this will fail if the label is not present in the axis.\u001b[0m\u001b[0;34m\u001b[0m\u001b[0;34m\u001b[0m\u001b[0;34m\u001b[0m\u001b[0m\n\u001b[0;32m-> 1293\u001b[0;31m         \u001b[0;32mreturn\u001b[0m \u001b[0mself\u001b[0m\u001b[0;34m.\u001b[0m\u001b[0mobj\u001b[0m\u001b[0;34m.\u001b[0m\u001b[0mxs\u001b[0m\u001b[0;34m(\u001b[0m\u001b[0mlabel\u001b[0m\u001b[0;34m,\u001b[0m \u001b[0maxis\u001b[0m\u001b[0;34m=\u001b[0m\u001b[0maxis\u001b[0m\u001b[0;34m)\u001b[0m\u001b[0;34m\u001b[0m\u001b[0;34m\u001b[0m\u001b[0m\n\u001b[0m\u001b[1;32m   1294\u001b[0m \u001b[0;34m\u001b[0m\u001b[0m\n\u001b[1;32m   1295\u001b[0m     \u001b[0;32mdef\u001b[0m \u001b[0m_handle_lowerdim_multi_index_axis0\u001b[0m\u001b[0;34m(\u001b[0m\u001b[0mself\u001b[0m\u001b[0;34m,\u001b[0m \u001b[0mtup\u001b[0m\u001b[0;34m:\u001b[0m \u001b[0mtuple\u001b[0m\u001b[0;34m)\u001b[0m\u001b[0;34m:\u001b[0m\u001b[0;34m\u001b[0m\u001b[0;34m\u001b[0m\u001b[0m\n",
      "\u001b[0;32m~/.env/lib/python3.8/site-packages/pandas/core/generic.py\u001b[0m in \u001b[0;36mxs\u001b[0;34m(self, key, axis, level, drop_level)\u001b[0m\n\u001b[1;32m   4093\u001b[0m                     \u001b[0mnew_index\u001b[0m \u001b[0;34m=\u001b[0m \u001b[0mindex\u001b[0m\u001b[0;34m[\u001b[0m\u001b[0mloc\u001b[0m\u001b[0;34m]\u001b[0m\u001b[0;34m\u001b[0m\u001b[0;34m\u001b[0m\u001b[0m\n\u001b[1;32m   4094\u001b[0m         \u001b[0;32melse\u001b[0m\u001b[0;34m:\u001b[0m\u001b[0;34m\u001b[0m\u001b[0;34m\u001b[0m\u001b[0m\n\u001b[0;32m-> 4095\u001b[0;31m             \u001b[0mloc\u001b[0m \u001b[0;34m=\u001b[0m \u001b[0mindex\u001b[0m\u001b[0;34m.\u001b[0m\u001b[0mget_loc\u001b[0m\u001b[0;34m(\u001b[0m\u001b[0mkey\u001b[0m\u001b[0;34m)\u001b[0m\u001b[0;34m\u001b[0m\u001b[0;34m\u001b[0m\u001b[0m\n\u001b[0m\u001b[1;32m   4096\u001b[0m \u001b[0;34m\u001b[0m\u001b[0m\n\u001b[1;32m   4097\u001b[0m             \u001b[0;32mif\u001b[0m \u001b[0misinstance\u001b[0m\u001b[0;34m(\u001b[0m\u001b[0mloc\u001b[0m\u001b[0;34m,\u001b[0m \u001b[0mnp\u001b[0m\u001b[0;34m.\u001b[0m\u001b[0mndarray\u001b[0m\u001b[0;34m)\u001b[0m\u001b[0;34m:\u001b[0m\u001b[0;34m\u001b[0m\u001b[0;34m\u001b[0m\u001b[0m\n",
      "\u001b[0;32m~/.env/lib/python3.8/site-packages/pandas/core/indexes/base.py\u001b[0m in \u001b[0;36mget_loc\u001b[0;34m(self, key)\u001b[0m\n\u001b[1;32m   3653\u001b[0m             \u001b[0;32mreturn\u001b[0m \u001b[0mself\u001b[0m\u001b[0;34m.\u001b[0m\u001b[0m_engine\u001b[0m\u001b[0;34m.\u001b[0m\u001b[0mget_loc\u001b[0m\u001b[0;34m(\u001b[0m\u001b[0mcasted_key\u001b[0m\u001b[0;34m)\u001b[0m\u001b[0;34m\u001b[0m\u001b[0;34m\u001b[0m\u001b[0m\n\u001b[1;32m   3654\u001b[0m         \u001b[0;32mexcept\u001b[0m \u001b[0mKeyError\u001b[0m \u001b[0;32mas\u001b[0m \u001b[0merr\u001b[0m\u001b[0;34m:\u001b[0m\u001b[0;34m\u001b[0m\u001b[0;34m\u001b[0m\u001b[0m\n\u001b[0;32m-> 3655\u001b[0;31m             \u001b[0;32mraise\u001b[0m \u001b[0mKeyError\u001b[0m\u001b[0;34m(\u001b[0m\u001b[0mkey\u001b[0m\u001b[0;34m)\u001b[0m \u001b[0;32mfrom\u001b[0m \u001b[0merr\u001b[0m\u001b[0;34m\u001b[0m\u001b[0;34m\u001b[0m\u001b[0m\n\u001b[0m\u001b[1;32m   3656\u001b[0m         \u001b[0;32mexcept\u001b[0m \u001b[0mTypeError\u001b[0m\u001b[0;34m:\u001b[0m\u001b[0;34m\u001b[0m\u001b[0;34m\u001b[0m\u001b[0m\n\u001b[1;32m   3657\u001b[0m             \u001b[0;31m# If we have a listlike key, _check_indexing_error will raise\u001b[0m\u001b[0;34m\u001b[0m\u001b[0;34m\u001b[0m\u001b[0;34m\u001b[0m\u001b[0m\n",
      "\u001b[0;31mKeyError\u001b[0m: 0"
     ]
    }
   ],
   "source": [
    "print(iris.loc[0])  # Tohle spadne, protoze 0 uz neni v indexu"
   ]
  },
  {
   "cell_type": "markdown",
   "metadata": {},
   "source": [
    "### Matplotlib"
   ]
  },
  {
   "cell_type": "markdown",
   "metadata": {},
   "source": [
    "Matplotlib je knihovna, která slouží ke zobrazování 2D grafů na základě zadaných dat. Ukážeme si použití několika základních typů grafů, které se muhou hodit."
   ]
  },
  {
   "cell_type": "code",
   "execution_count": 114,
   "metadata": {},
   "outputs": [],
   "source": [
    "# Pro hezci ploty (vetsinou), take je casto vic user friendly\n",
    "import seaborn as sns"
   ]
  },
  {
   "cell_type": "code",
   "execution_count": 115,
   "metadata": {},
   "outputs": [
    {
     "data": {
      "image/png": "[encoded data removed]",
      "text/plain": [
       "<Figure size 432x288 with 1 Axes>"
      ]
     },
     "metadata": {
      "needs_background": "light"
     },
     "output_type": "display_data"
    }
   ],
   "source": [
    "import matplotlib.pyplot as plt\n",
    "\n",
    "\n",
    "plt.scatter(iris['sepal.width'], iris['sepal.length'], c=iris['variety'])\n",
    "plt.title('Iris dataset')\n",
    "plt.xlabel('Sepal width')\n",
    "plt.ylabel('Sepal length') \n",
    "plt.show()\n",
    "#plt.savefig('iris.png')  # lze i iris.pdf"
   ]
  },
  {
   "cell_type": "code",
   "execution_count": 116,
   "metadata": {},
   "outputs": [],
   "source": [
    "# Dalsi druhy grafu\n",
    "mean_sep_len=iris['sepal.length'].sum() / len(iris['sepal.length'])\n",
    "mean_sep_wid=iris['sepal.width'].sum() / len(iris['sepal.width'])\n",
    "mean_pet_len=iris['petal.length'].sum() / len(iris['petal.length'])\n",
    "mean_pet_wid=iris['petal.width'].sum() / len(iris['petal.width'])"
   ]
  },
  {
   "cell_type": "code",
   "execution_count": 117,
   "metadata": {},
   "outputs": [
    {
     "data": {
      "image/png": "[encoded data removed]",
      "text/plain": [
       "<Figure size 432x288 with 1 Axes>"
      ]
     },
     "metadata": {
      "needs_background": "light"
     },
     "output_type": "display_data"
    }
   ],
   "source": [
    "import numpy as np\n",
    "\n",
    "# Sloupcovy\n",
    "data = [mean_sep_len,mean_sep_wid,mean_pet_len,mean_pet_wid]\n",
    "labels = ['sep_length','sep_width','pet_length','pet_width']\n",
    "y_pos = np.arange(len(data))\n",
    "plt.bar(y_pos, data)\n",
    "plt.title('Mean width and height')\n",
    "plt.xticks(y_pos, labels)\n",
    "plt.show()"
   ]
  },
  {
   "cell_type": "code",
   "execution_count": 118,
   "metadata": {},
   "outputs": [
    {
     "data": {
      "image/png": "[encoded data removed]",
      "text/plain": [
       "<Figure size 432x288 with 1 Axes>"
      ]
     },
     "metadata": {
      "needs_background": "light"
     },
     "output_type": "display_data"
    }
   ],
   "source": [
    "# Klasicky graf\n",
    "plt.plot(data,'ro--')\n",
    "plt.title('Mean width and height')\n",
    "plt.xticks(y_pos, labels)\n",
    "plt.show()"
   ]
  },
  {
   "cell_type": "markdown",
   "metadata": {},
   "source": [
    "## Příklad - lineární regrese"
   ]
  },
  {
   "cell_type": "markdown",
   "metadata": {},
   "source": [
    "Nyní jsme si vysvětliti základní syntax jazyka Python a ukázali pár užitečných knihoven. Zkusíme si tedy vytvořit jeden ze základních algoritmů strojového učení - lineární regresi. Lineární regrese je metoda používaná k proložení souboru bodů v grafu přímkou tak, aby vzdálenost všech bodů od této přímky byla co nejmenší. K tomu bude potřeba si vyrobit nějaký dataset, rozdělit data na trénovací a testovací, natrénovat a ohodnotit model a následně zobrazit data i s výslednou přímkou."
   ]
  },
  {
   "cell_type": "code",
   "execution_count": 119,
   "metadata": {},
   "outputs": [
    {
     "data": {
      "text/plain": [
       "<matplotlib.collections.PathCollection at 0x7f3294a5bf40>"
      ]
     },
     "execution_count": 119,
     "metadata": {},
     "output_type": "execute_result"
    },
    {
     "data": {
      "image/png": "[encoded data removed]",
      "text/plain": [
       "<Figure size 432x288 with 1 Axes>"
      ]
     },
     "metadata": {
      "needs_background": "light"
     },
     "output_type": "display_data"
    }
   ],
   "source": [
    "# Vytvorime si 100 nahodnych bodu pomoci linearni funkce\n",
    "x = np.arange(100)\n",
    "delta = np.random.uniform(0,20, size=(100))\n",
    "y = 0.5 * x + delta\n",
    "plt.scatter(x,y)"
   ]
  },
  {
   "cell_type": "code",
   "execution_count": 120,
   "metadata": {},
   "outputs": [
    {
     "data": {
      "text/plain": [
       "array([0.69566663, 1.07136255, 1.07040304, 0.43936954, 1.25478662,\n",
       "       0.02263384, 0.47418547, 0.61236438, 1.07334275, 1.25701717])"
      ]
     },
     "execution_count": 120,
     "metadata": {},
     "output_type": "execute_result"
    }
   ],
   "source": [
    "# krome uniform muzeme pouzit treba i normalni rozdeleni\n",
    "delta2 = np.random.normal(loc=1, scale=0.5, size=(10))\n",
    "delta2"
   ]
  },
  {
   "cell_type": "code",
   "execution_count": 126,
   "metadata": {},
   "outputs": [
    {
     "data": {
      "text/plain": [
       "<matplotlib.legend.Legend at 0x7f329411bac0>"
      ]
     },
     "execution_count": 126,
     "metadata": {},
     "output_type": "execute_result"
    },
    {
     "data": {
      "image/png": "[encoded data removed]",
      "text/plain": [
       "<Figure size 432x288 with 1 Axes>"
      ]
     },
     "metadata": {
      "needs_background": "light"
     },
     "output_type": "display_data"
    }
   ],
   "source": [
    "# Rozdelime si data na trenovaci a testovaci v pomeru 80:20\n",
    "permutation = np.random.permutation(100)\n",
    "train_idx = permutation[:80]\n",
    "test_idx = permutation[80:]\n",
    "train_x, test_x = x[train_idx], x[test_idx]\n",
    "train_y, test_y = y[train_idx], y[test_idx]\n",
    "\n",
    "# Zobrazime si rozlozeni trenovacich a testovacich dat\n",
    "plt.scatter(train_x, train_y, label='Train')\n",
    "plt.scatter(test_x, test_y, label='Test')\n",
    "plt.legend()"
   ]
  },
  {
   "cell_type": "code",
   "execution_count": 127,
   "metadata": {},
   "outputs": [
    {
     "data": {
      "text/plain": [
       "array([70, 40, 44])"
      ]
     },
     "execution_count": 127,
     "metadata": {},
     "output_type": "execute_result"
    }
   ],
   "source": [
    "# Sila numpy poli - muzu vybrat vic prvku naraz\n",
    "permutation[[0, 4, 5]]"
   ]
  },
  {
   "cell_type": "code",
   "execution_count": 128,
   "metadata": {},
   "outputs": [],
   "source": [
    "# Definujeme si tridu, ktera bude pocitat linearni regresi \n",
    "class LinearRegression:\n",
    "    def fit(self, x, y): \n",
    "\n",
    "        # Spocitame si velikost dat a prumer pres oba sloupce\n",
    "        n = np.size(x) \n",
    "        mean_x = np.mean(x)\n",
    "        mean_y = np.mean(y) \n",
    "\n",
    "        # Podle vzorecku pro linearni regresi spocitame theta0 a theta1\n",
    "        # spoctem si cross-deviation a deviation od x \n",
    "        SS_xy = np.sum(y * x) - n * mean_y * mean_x \n",
    "        SS_xx = np.sum(x * x) - n * mean_x * mean_x \n",
    "\n",
    "        # Dopocitame parametry theta0 a theta1 \n",
    "        self.theta1 = SS_xy / SS_xx \n",
    "        self.theta0 = mean_y - self.theta1 * mean_x \n",
    "        print(\"Estimated coefficients:\\ntheta0 = {}  \\ntheta1 = {}\".format(self.theta0, self.theta1 ))\n",
    "\n",
    "    def predict(self, x):\n",
    "        return x * self.theta1 + self.theta0"
   ]
  },
  {
   "cell_type": "code",
   "execution_count": 129,
   "metadata": {},
   "outputs": [
    {
     "name": "stdout",
     "output_type": "stream",
     "text": [
      "Estimated coefficients:\n",
      "theta0 = 9.97142938376393  \n",
      "theta1 = 0.4925351714149037\n"
     ]
    },
    {
     "data": {
      "text/plain": [
       "<matplotlib.legend.Legend at 0x7f329497e400>"
      ]
     },
     "execution_count": 129,
     "metadata": {},
     "output_type": "execute_result"
    },
    {
     "data": {
      "image/png": "[encoded data removed]",
      "text/plain": [
       "<Figure size 432x288 with 1 Axes>"
      ]
     },
     "metadata": {
      "needs_background": "light"
     },
     "output_type": "display_data"
    }
   ],
   "source": [
    "linreg = LinearRegression()\n",
    "\n",
    "# Natrenujeme parametry modelu na trenovacich datech\n",
    "linreg.fit(train_x, train_y)  \n",
    "\n",
    "# Predikujeme vysledky na testovacich datech\n",
    "pred_y = linreg.predict(test_x)\n",
    "\n",
    "# Zobrazime vysledne hodoty\n",
    "#plt.figure(figsize=(12,8))\n",
    "plt.scatter(train_x, train_y, label='Train')\n",
    "plt.scatter(test_x, test_y, label='Test')\n",
    "plt.plot(test_x, pred_y, label='Predicted',c='m')\n",
    "plt.legend()"
   ]
  },
  {
   "cell_type": "markdown",
   "metadata": {},
   "source": [
    "## Advanced stuff\n",
    "Náhodné věci které se mohou hodit :-) A přijde mi důležité je znát"
   ]
  },
  {
   "cell_type": "markdown",
   "metadata": {},
   "source": [
    "### Comprehensions"
   ]
  },
  {
   "cell_type": "code",
   "execution_count": 1,
   "metadata": {},
   "outputs": [
    {
     "data": {
      "text/plain": [
       "[0, 1, 2, 3, 4, 5, 6, 7, 8, 9]"
      ]
     },
     "execution_count": 1,
     "metadata": {},
     "output_type": "execute_result"
    }
   ],
   "source": [
    "# List comprehensions ... je to čitelné a elegantní. Alternativa jsou funkce map(), filter()\n",
    "nums = [i for i in range(10)]\n",
    "nums"
   ]
  },
  {
   "cell_type": "code",
   "execution_count": null,
   "metadata": {},
   "outputs": [],
   "source": [
    "nums = []\n",
    "for i in range(10):\n",
    "    nums.append(i)"
   ]
  },
  {
   "cell_type": "code",
   "execution_count": 46,
   "metadata": {},
   "outputs": [
    {
     "data": {
      "text/plain": [
       "['Na', 'Malostranskem', 'namesti', 'neklid', 'hlavinka']"
      ]
     },
     "execution_count": 46,
     "metadata": {},
     "output_type": "execute_result"
    }
   ],
   "source": [
    "nums = [w for w in \"Na Malostranskem namesti je neklid a boli me hlavinka\".split(' ') if 'n' in w or 'N' in w]\n",
    "nums"
   ]
  },
  {
   "cell_type": "code",
   "execution_count": 47,
   "metadata": {},
   "outputs": [
    {
     "data": {
      "text/plain": [
       "{'Malostranskem': 13, 'hlavinka': 8}"
      ]
     },
     "execution_count": 47,
     "metadata": {},
     "output_type": "execute_result"
    }
   ],
   "source": [
    "# lze i dict comprehensions - velmi užitečné, když se zpracovávají data\n",
    "nums = {w: len(w) for w in nums if len(w) > 7}\n",
    "nums"
   ]
  },
  {
   "cell_type": "markdown",
   "metadata": {},
   "source": [
    "### Virtuální prostředí - samostudium\n",
    "\n",
    "Když pracuju s pythonem, je možné, že pro různé projekty potřebuju různé verze knihoven. Pokud bych je instalovala jen tak, může dojít ke konfliktům v pipu (např. knihovna A vyžaduje B verzi 2, ale knihovna C vyžaduje B verzi 1). Proto je dobré používat virtuální prostředí - pro každý projekt si založím nové prostředí, do kterého nainstaluji správné verze knihoven.\n",
    "\n",
    "Nejčasteji se používá virtualenv, venv anebo Conda. První dva zmíněné jsou více lightweight, Conda je silnější - umožňuje například nainstalovat různé verze knihovny CUDA pro GPU computing - velmi užitečné u deep learning aplikací.\n",
    "\n",
    "Více info zde:\n",
    "\n",
    "- virtualenv\n",
    "https://virtualenv.pypa.io/en/latest/\n",
    "- (mini)Conda\n",
    "https://docs.anaconda.com/free/miniconda/index.html\n",
    "\n",
    "Donutit jupyter notebook použít váš env může být trochu pain, vždycky googlím nějakou guide (například zde https://janakiev.com/blog/jupyter-virtual-envs/ )"
   ]
  },
  {
   "cell_type": "markdown",
   "metadata": {},
   "source": [
    "### WSL\n",
    "Pokud používáte Windows, velmi doporučuji Windows Subsystem for Linux (WSL)\n",
    "https://learn.microsoft.com/en-us/windows/wsl/install\n",
    "\n",
    "Díky němu můžete mít (téměř) plnohodnotný Linux a spousta věcí je jednodušších - např. instalace balíčků. Neříkám, že to na Windows nejde, ale :-)\n",
    "\n",
    "Z Linuxu se dostanete k Windows filům např. `/mnt/c/Users/<user>/`. Pokud napíšete `explorer.exe .`, otevře se vám aktivní directory ve windowsím exploreru."
   ]
  }
 ],
 "metadata": {
  "kernelspec": {
   "display_name": "Python 3 (ipykernel)",
   "language": "python",
   "name": "python3"
  },
  "language_info": {
   "codemirror_mode": {
    "name": "ipython",
    "version": 3
   },
   "file_extension": ".py",
   "mimetype": "text/x-python",
   "name": "python",
   "nbconvert_exporter": "python",
   "pygments_lexer": "ipython3",
   "version": "3.8.10"
  }
 },
 "nbformat": 4,
 "nbformat_minor": 2
}
