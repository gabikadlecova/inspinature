{
 "cells": [
  {
   "cell_type": "markdown",
   "metadata": {},
   "source": [
    "## Tensorboard\n",
    "\n",
    "Tensorboard is a very useful tool for understanding, tracking and logging any calculations in tensorflow. Tensorflow can log the values of everything that is calculated in it, and tensorboard is then used to display them. If we want to use tensorboard, we have save the logs. After that, all you have to do is start tensorboard (it works in the browser)."
   ]
  },
  {
   "cell_type": "code",
   "execution_count": 15,
   "metadata": {},
   "outputs": [
    {
     "name": "stderr",
     "output_type": "stream",
     "text": [
      "\u001b[34m\u001b[1mwandb\u001b[0m: \u001b[33mWARNING\u001b[0m When using several event log directories, please call `wandb.tensorboard.patch(root_logdir=\"...\")` before `wandb.init`\n"
     ]
    },
    {
     "name": "stdout",
     "output_type": "stream",
     "text": [
      "Epoch 1/10\n",
      "\u001b[1m1875/1875\u001b[0m \u001b[32m━━━━━━━━━━━━━━━━━━━━\u001b[0m\u001b[37m\u001b[0m \u001b[1m0s\u001b[0m 13ms/step - accuracy: 0.7128 - loss: 0.9624"
     ]
    },
    {
     "name": "stderr",
     "output_type": "stream",
     "text": [
      "\u001b[34m\u001b[1mwandb\u001b[0m: \u001b[33mWARNING\u001b[0m When using several event log directories, please call `wandb.tensorboard.patch(root_logdir=\"...\")` before `wandb.init`\n"
     ]
    },
    {
     "name": "stdout",
     "output_type": "stream",
     "text": [
      "\u001b[1m1875/1875\u001b[0m \u001b[32m━━━━━━━━━━━━━━━━━━━━\u001b[0m\u001b[37m\u001b[0m \u001b[1m29s\u001b[0m 14ms/step - accuracy: 0.7128 - loss: 0.9621 - val_accuracy: 0.9563 - val_loss: 0.1464\n",
      "Epoch 2/10\n",
      "\u001b[1m1875/1875\u001b[0m \u001b[32m━━━━━━━━━━━━━━━━━━━━\u001b[0m\u001b[37m\u001b[0m \u001b[1m24s\u001b[0m 13ms/step - accuracy: 0.9592 - loss: 0.1371 - val_accuracy: 0.9755 - val_loss: 0.0834\n",
      "Epoch 3/10\n",
      "\u001b[1m1875/1875\u001b[0m \u001b[32m━━━━━━━━━━━━━━━━━━━━\u001b[0m\u001b[37m\u001b[0m \u001b[1m24s\u001b[0m 13ms/step - accuracy: 0.9719 - loss: 0.0960 - val_accuracy: 0.9780 - val_loss: 0.0708\n",
      "Epoch 4/10\n",
      "\u001b[1m1875/1875\u001b[0m \u001b[32m━━━━━━━━━━━━━━━━━━━━\u001b[0m\u001b[37m\u001b[0m \u001b[1m24s\u001b[0m 13ms/step - accuracy: 0.9779 - loss: 0.0736 - val_accuracy: 0.9814 - val_loss: 0.0581\n",
      "Epoch 5/10\n",
      "\u001b[1m1875/1875\u001b[0m \u001b[32m━━━━━━━━━━━━━━━━━━━━\u001b[0m\u001b[37m\u001b[0m \u001b[1m22s\u001b[0m 12ms/step - accuracy: 0.9803 - loss: 0.0629 - val_accuracy: 0.9842 - val_loss: 0.0504\n",
      "Epoch 6/10\n",
      "\u001b[1m1875/1875\u001b[0m \u001b[32m━━━━━━━━━━━━━━━━━━━━\u001b[0m\u001b[37m\u001b[0m \u001b[1m16s\u001b[0m 9ms/step - accuracy: 0.9837 - loss: 0.0532 - val_accuracy: 0.9849 - val_loss: 0.0488\n",
      "Epoch 7/10\n",
      "\u001b[1m1875/1875\u001b[0m \u001b[32m━━━━━━━━━━━━━━━━━━━━\u001b[0m\u001b[37m\u001b[0m \u001b[1m16s\u001b[0m 9ms/step - accuracy: 0.9851 - loss: 0.0487 - val_accuracy: 0.9868 - val_loss: 0.0416\n",
      "Epoch 8/10\n",
      "\u001b[1m1875/1875\u001b[0m \u001b[32m━━━━━━━━━━━━━━━━━━━━\u001b[0m\u001b[37m\u001b[0m \u001b[1m18s\u001b[0m 10ms/step - accuracy: 0.9866 - loss: 0.0434 - val_accuracy: 0.9847 - val_loss: 0.0470\n",
      "Epoch 9/10\n",
      "\u001b[1m1875/1875\u001b[0m \u001b[32m━━━━━━━━━━━━━━━━━━━━\u001b[0m\u001b[37m\u001b[0m \u001b[1m19s\u001b[0m 10ms/step - accuracy: 0.9885 - loss: 0.0385 - val_accuracy: 0.9866 - val_loss: 0.0420\n",
      "Epoch 10/10\n",
      "\u001b[1m1875/1875\u001b[0m \u001b[32m━━━━━━━━━━━━━━━━━━━━\u001b[0m\u001b[37m\u001b[0m \u001b[1m20s\u001b[0m 11ms/step - accuracy: 0.9899 - loss: 0.0350 - val_accuracy: 0.9865 - val_loss: 0.0424\n"
     ]
    },
    {
     "data": {
      "text/plain": [
       "<keras.src.callbacks.history.History at 0x7f1a9c204150>"
      ]
     },
     "execution_count": 15,
     "metadata": {},
     "output_type": "execute_result"
    }
   ],
   "source": [
    "import tensorflow as tf\n",
    "import matplotlib.pyplot as plt\n",
    "%matplotlib inline\n",
    "\n",
    "import os\n",
    "\n",
    "try:\n",
    "    run_id += 1\n",
    "except:\n",
    "    run_id = 0\n",
    "\n",
    "nb_classes = 10\n",
    "input_shape = (28, 28, 1)\n",
    "\n",
    "(x_train, y_train), (x_test, y_test) = tf.keras.datasets.mnist.load_data()\n",
    "x_train = x_train.astype('float32')\n",
    "x_test = x_test.astype('float32')\n",
    "\n",
    "x_train = x_train.reshape((-1,) + input_shape)/255\n",
    "x_test = x_test.reshape((-1,) + input_shape)/255\n",
    "\n",
    "with tf.name_scope('model'):\n",
    "\n",
    "    model = tf.keras.models.Sequential([\n",
    "        tf.keras.layers.InputLayer(input_shape = input_shape, name='input'),\n",
    "        tf.keras.layers.Conv2D(filters=32, kernel_size=(5,5), name='conv_1'),\n",
    "        tf.keras.layers.MaxPool2D(strides=2, pool_size=(2,2), name='maxpool_1'),\n",
    "        tf.keras.layers.Conv2D(filters=64, kernel_size=5, activation=tf.nn.relu, name='conv_2'),\n",
    "        tf.keras.layers.MaxPool2D(strides=2, pool_size=(2, 2), name='maxpool_2'),\n",
    "        tf.keras.layers.Flatten(name='Flatten'),\n",
    "        tf.keras.layers.Dense(units=30, activation=tf.keras.activations.relu, name='dense_1'),\n",
    "        tf.keras.layers.Dense(units=nb_classes, activation=tf.keras.activations.linear, name='dense_2'),\n",
    "        tf.keras.layers.Activation(activation=tf.nn.softmax)\n",
    "        ]\n",
    "    )\n",
    "\n",
    "    model.compile(loss='sparse_categorical_crossentropy', optimizer='sgd', metrics=['accuracy'])\n",
    "\n",
    "tb_callbacks = tf.keras.callbacks.TensorBoard(log_dir = os.path.join('logs', str(run_id)), histogram_freq=1, write_images=True)\n",
    "\n",
    "\n",
    "# OPTIONAL - sync to wandb!\n",
    "#import wandb\n",
    "\n",
    "# Start a wandb run with `sync_tensorboard=True`\n",
    "#with open('/home/gabi/.wandb_key', 'r') as f:\n",
    "#    key = next(iter(f)).strip()\n",
    "\n",
    "#wandb.login(key=key)\n",
    "#wandb.init(project=\"inspinature\", sync_tensorboard=True)\n",
    "\n",
    "model.fit(x_train, y_train, epochs=10, validation_data=(x_test, y_test), callbacks=[tb_callbacks])\n",
    "\n",
    "#wandb.finish()"
   ]
  },
  {
   "cell_type": "markdown",
   "metadata": {},
   "source": [
    "If you now start tensorboard with `tensorboard --logdir=logs`, you can check the information about the training."
   ]
  }
 ],
 "metadata": {
  "kernelspec": {
   "display_name": "Python 3 (ipykernel)",
   "language": "python",
   "name": "python3"
  },
  "language_info": {
   "codemirror_mode": {
    "name": "ipython",
    "version": 3
   },
   "file_extension": ".py",
   "mimetype": "text/x-python",
   "name": "python",
   "nbconvert_exporter": "python",
   "pygments_lexer": "ipython3",
   "version": "3.11.8"
  }
 },
 "nbformat": 4,
 "nbformat_minor": 4
}
