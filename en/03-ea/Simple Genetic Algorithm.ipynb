{
 "cells": [
  {
   "cell_type": "markdown",
   "metadata": {},
   "source": [
    "In the lecture, we discussed the simple genetic algorithm. Now, we will try to use it to solve two simple problems - OneMAX and subset sum.\n",
    "\n",
    "In the end, we will discuss the `deap` library, that can be used for implementation of more complex evolutionary algorithms.\n",
    "\n",
    "The implementation is very simple, we will start by writing the high-level version of the algorithm (it is almost a pseudo-code)."
   ]
  },
  {
   "cell_type": "code",
   "execution_count": 2,
   "metadata": {},
   "outputs": [],
   "source": [
    "import numpy as np\n",
    "\n",
    "def evolution(pop_size, ind_size, max_gen, fitness, cx_pb = 0.8, mut_pb=0.1, per_bit_pb = 0.2):\n",
    "    population = random_population(pop_size, ind_size)\n",
    "    log = []\n",
    "    for i in range(max_gen):\n",
    "        fit = [fitness(ind) for ind in population]\n",
    "        log.append(max(fit))\n",
    "        mating_pool = selection(population, fit, pop_size)\n",
    "        offspring = crossover(mating_pool, cx_pb)\n",
    "        offspring = mutation(offspring, mut_pb, per_bit_pb)\n",
    "        population = offspring[:] # shallow copy\n",
    "    \n",
    "    fit = list(map(fitness, population))\n",
    "    best = population[np.argmax(fit)]\n",
    "    return best, population, log"
   ]
  },
  {
   "cell_type": "markdown",
   "metadata": {},
   "source": [
    "Now we need to write implementations of the functions used above. We start by initializing a random population - we will only consider individuals that are lists of 1's and 0's."
   ]
  },
  {
   "cell_type": "code",
   "execution_count": 3,
   "metadata": {},
   "outputs": [
    {
     "data": {
      "text/plain": [
       "[[1, 1, 1, 1, 0, 0, 0, 1, 0, 1],\n",
       " [1, 1, 0, 1, 0, 0, 1, 0, 0, 1],\n",
       " [0, 1, 0, 0, 1, 0, 0, 1, 0, 1],\n",
       " [1, 1, 1, 1, 1, 1, 0, 1, 0, 1],\n",
       " [0, 1, 0, 1, 0, 1, 0, 0, 0, 0]]"
      ]
     },
     "execution_count": 3,
     "metadata": {},
     "output_type": "execute_result"
    }
   ],
   "source": [
    "import random\n",
    "\n",
    "def random_population(pop_size, ind_size):\n",
    "    pop = []\n",
    "    for _ in range(pop_size):\n",
    "        ind = [0 if random.random() < 0.5 else 1 for _ in range(ind_size)]\n",
    "        pop.append(ind)\n",
    "    \n",
    "    return pop\n",
    "\n",
    "random_population(5, 10)"
   ]
  },
  {
   "cell_type": "markdown",
   "metadata": {},
   "source": [
    "Next, we implemnt the roulette-wheel selection - it's simple, the `random` module contains the `choices` function, which does exactly what we need."
   ]
  },
  {
   "cell_type": "code",
   "execution_count": 4,
   "metadata": {},
   "outputs": [],
   "source": [
    "import copy\n",
    "\n",
    "def selection(pop, fit, N):\n",
    "    return copy.deepcopy(random.choices(pop, weights=fit, k=N)) # make a deep copy so that\n",
    "                                                                # we have unique indivduals"
   ]
  },
  {
   "cell_type": "markdown",
   "metadata": {},
   "source": [
    "Now we implement the one-point crossover and a mutation that changes random bits (bit flip mutation). For both operators, we expect to receive the entire population."
   ]
  },
  {
   "cell_type": "code",
   "execution_count": 6,
   "metadata": {},
   "outputs": [
    {
     "name": "stdout",
     "output_type": "stream",
     "text": [
      "population\n",
      "[[0, 0, 1, 1, 1, 1, 1, 0, 1, 1],\n",
      " [1, 1, 0, 0, 1, 0, 0, 0, 0, 1],\n",
      " [1, 1, 1, 1, 1, 0, 0, 1, 1, 1],\n",
      " [0, 1, 0, 1, 1, 1, 1, 1, 0, 1],\n",
      " [1, 1, 1, 1, 1, 0, 0, 0, 1, 0],\n",
      " [0, 0, 1, 0, 1, 1, 0, 0, 0, 1]]\n",
      "after crossover\n",
      "[[1, 1, 0, 0, 1, 0, 0, 0, 1, 1],\n",
      " [0, 0, 1, 1, 1, 1, 1, 0, 0, 1],\n",
      " [0, 1, 0, 1, 1, 0, 0, 1, 1, 1],\n",
      " [1, 1, 1, 1, 1, 1, 1, 1, 0, 1],\n",
      " [0, 0, 1, 0, 1, 1, 0, 0, 0, 0],\n",
      " [1, 1, 1, 1, 1, 0, 0, 0, 1, 1]]\n",
      "after mutation\n",
      "[[0, 0, 1, 1, 0, 1, 1, 0, 1, 1],\n",
      " [1, 0, 0, 1, 1, 1, 1, 0, 0, 1],\n",
      " [1, 1, 1, 0, 1, 0, 1, 1, 1, 0],\n",
      " [0, 1, 0, 1, 1, 1, 0, 1, 0, 1],\n",
      " [1, 1, 1, 1, 0, 0, 0, 1, 1, 0],\n",
      " [0, 0, 1, 0, 1, 1, 0, 0, 0, 1]]\n"
     ]
    }
   ],
   "source": [
    "def crossover(pop, cx_pb = 0.8):\n",
    "    new_pop = []\n",
    "    for i in range(len(pop)//2):\n",
    "        \n",
    "        o1 = copy.deepcopy(pop[2*i])\n",
    "        o2 = copy.deepcopy(pop[2*i + 1])\n",
    "        \n",
    "        if random.random() < cx_pb: # crossover probability\n",
    "            point = random.randrange(0, len(o1))\n",
    "            o2_start = o2[:point]\n",
    "            o2[:point] = o1[:point]\n",
    "            o1[:point] = o2_start[:]\n",
    "        \n",
    "        new_pop.append(o1)\n",
    "        new_pop.append(o2)\n",
    "    \n",
    "    return new_pop\n",
    "\n",
    "def mutation(pop, mut_pb = 0.1, per_bit_pb = 0.2):\n",
    "    new_pop = []\n",
    "    for ind in pop:\n",
    "        \n",
    "        o = copy.deepcopy(ind)\n",
    "        \n",
    "        if random.random() < mut_pb: # mutation probability\n",
    "            o = [1-x if random.random() < per_bit_pb else x for x in o] # change the bit to the othex value with per_bit_pb probability\n",
    "        \n",
    "        new_pop.append(o)\n",
    "    \n",
    "    return new_pop\n",
    "\n",
    "import pprint\n",
    "pop = random_population(6, 10)\n",
    "print('population')\n",
    "pprint.pprint(pop)\n",
    "print('after crossover')\n",
    "pprint.pprint(crossover(pop))\n",
    "print('after mutation')\n",
    "pprint.pprint(mutation(pop, mut_pb=1.0))"
   ]
  },
  {
   "cell_type": "markdown",
   "metadata": {},
   "source": [
    "And that completes the algorithm. We only need to write a fitness function. We want to solve the OneMAX problem - fitness will therefore be the number of 1s in an individual."
   ]
  },
  {
   "cell_type": "code",
   "execution_count": 7,
   "metadata": {},
   "outputs": [
    {
     "name": "stdout",
     "output_type": "stream",
     "text": [
      "([0, 1, 1, 0, 0, 1, 0, 0, 0, 0], 3)\n",
      "([0, 0, 0, 1, 0, 0, 0, 1, 0, 0], 2)\n",
      "([0, 0, 1, 1, 0, 1, 1, 1, 0, 1], 6)\n",
      "([1, 0, 0, 1, 0, 0, 0, 1, 0, 0], 3)\n",
      "([0, 1, 0, 0, 0, 0, 0, 1, 1, 1], 4)\n",
      "([1, 0, 0, 0, 0, 0, 0, 0, 1, 0], 2)\n"
     ]
    }
   ],
   "source": [
    "def onemax(ind):\n",
    "    return sum(ind)\n",
    "\n",
    "pop = random_population(6, 10)\n",
    "fit = [onemax(ind) for ind in pop]\n",
    "for i,f in zip(pop, fit):\n",
    "    print((i, f))"
   ]
  },
  {
   "cell_type": "markdown",
   "metadata": {},
   "source": [
    "Let's start our algorithm and see how it works."
   ]
  },
  {
   "cell_type": "code",
   "execution_count": 8,
   "metadata": {},
   "outputs": [],
   "source": [
    "best, pop, log = evolution(pop_size = 100, ind_size = 50, max_gen = 50, fitness = onemax)"
   ]
  },
  {
   "cell_type": "code",
   "execution_count": 9,
   "metadata": {},
   "outputs": [
    {
     "name": "stdout",
     "output_type": "stream",
     "text": [
      "best fitness:  40\n",
      "best:  [0, 1, 1, 1, 1, 1, 1, 1, 0, 1, 1, 1, 1, 1, 1, 1, 1, 1, 1, 1, 0, 0, 1, 1, 1, 1, 1, 1, 1, 1, 0, 0, 1, 1, 1, 1, 1, 1, 0, 1, 1, 1, 0, 0, 0, 1, 1, 1, 1, 1]\n"
     ]
    },
    {
     "data": {
      "image/png": "[encoded data removed]",
      "text/plain": [
       "<Figure size 432x288 with 1 Axes>"
      ]
     },
     "metadata": {
      "needs_background": "light"
     },
     "output_type": "display_data"
    }
   ],
   "source": [
    "print('best fitness: ', onemax(best))\n",
    "print('best: ', best)\n",
    "\n",
    "\n",
    "%matplotlib inline\n",
    "import matplotlib.pyplot as plt\n",
    "\n",
    "plt.plot(log)\n",
    "plt.ylabel('Fitness')\n",
    "plt.xlabel('Generation')\n",
    "plt.show()"
   ]
  },
  {
   "cell_type": "markdown",
   "metadata": {},
   "source": [
    "## Exercise\n",
    "\n",
    "Try to adapt the algorithm above so that it solves the subset sum problem, i.e. find a subset of a givet set, such that its sum is exactly a given number. In the optimization version of this problem, we aim to minimize the difference between the sum of the subset and the given value.\n",
    "\n",
    "You can generate the input randomly."
   ]
  },
  {
   "cell_type": "code",
   "execution_count": 10,
   "metadata": {},
   "outputs": [
    {
     "name": "stdout",
     "output_type": "stream",
     "text": [
      "6266 [113, 148, 115, 118, 144, 147, 105, 145, 111, 146, 145, 110, 127, 145, 104, 149, 143, 147, 147, 133, 147, 125, 133, 119, 136, 129, 123, 137, 110, 101, 119, 105, 120, 144, 110, 120, 126, 104, 101, 109, 125, 140, 138, 143, 138, 101, 141, 148, 140, 128, 149, 102, 113, 131, 120, 137, 102, 149, 140, 136, 121, 108, 125, 125, 108, 112, 135, 110, 124, 132, 115, 141, 105, 126, 116, 115, 108, 146, 100, 127, 133, 102, 136, 118, 139, 113, 130, 107, 112, 142, 117, 148, 106, 141, 140, 114, 117, 128, 101, 108]\n"
     ]
    }
   ],
   "source": [
    "input_set = [random.randrange(0,50) + 100 for _ in range(100)] # 100 random numbers between 100 and 150\n",
    "number = sum(input_set)//2\n",
    "print(number, input_set)"
   ]
  },
  {
   "cell_type": "markdown",
   "metadata": {},
   "source": [
    "## `deap`library \n",
    "\n",
    "We saw that implementing an evolutionary algorithms is simple, however, very often it is better to use an existing library to simplify the implementation (and avoid bugs). One of the most popular libraries is `deap`. Its tutorial is well-written and - [contains the same problem we solved above][1].\n",
    "\n",
    "  [1]: https://deap.readthedocs.io/en/master/examples/ga_onemax.html"
   ]
  }
 ],
 "metadata": {
  "kernelspec": {
   "display_name": "Python 3",
   "language": "python",
   "name": "python3"
  },
  "language_info": {
   "codemirror_mode": {
    "name": "ipython",
    "version": 3
   },
   "file_extension": ".py",
   "mimetype": "text/x-python",
   "name": "python",
   "nbconvert_exporter": "python",
   "pygments_lexer": "ipython3",
   "version": "3.8.3"
  }
 },
 "nbformat": 4,
 "nbformat_minor": 4
}
