{
 "cells": [
  {
   "cell_type": "markdown",
   "metadata": {},
   "source": [
    "In the lecture, we discussed the simple genetic algorithm. Now, we will try to use it to solve two simple problems - OneMAX and subset sum.\n",
    "\n",
    "In the end, we will discuss the `deap` library, that can be used for implementation of more complex evolutionary algorithms.\n",
    "\n",
    "The implementation is very simple, we will start by writing the high-level version of the algorithm (it is almost a pseudo-code)."
   ]
  },
  {
   "cell_type": "code",
   "execution_count": 3,
   "metadata": {},
   "outputs": [],
   "source": [
    "import numpy as np\n",
    "\n",
    "def evolution(pop_size, ind_size, max_gen, fitness, cx_pb = 0.8, mut_pb=0.1, per_bit_pb = 0.2):\n",
    "    population = random_population(pop_size, ind_size)\n",
    "    log = []\n",
    "\n",
    "    for i in range(max_gen):\n",
    "        fit = [fitness(ind) for ind in population]\n",
    "        log.append(max(fit))\n",
    "        mating_pool = selection(population, fit, pop_size)\n",
    "        offspring = crossover(mating_pool, cx_pb)\n",
    "        offspring = mutation(offspring, mut_pb, per_bit_pb)\n",
    "        population = offspring[:] # shallow copy\n",
    "    \n",
    "    fit = list(map(fitness, population))\n",
    "    best = population[np.argmax(fit)]\n",
    "    return best, population, log"
   ]
  },
  {
   "cell_type": "markdown",
   "metadata": {},
   "source": [
    "Now we need to write implementations of the functions used above. We start by initializing a random population - we will only consider individuals that are lists of 1's and 0's."
   ]
  },
  {
   "cell_type": "code",
   "execution_count": 4,
   "metadata": {},
   "outputs": [
    {
     "data": {
      "text/plain": [
       "[[0, 1, 0, 0, 0, 1, 1, 0, 0, 1],\n",
       " [0, 0, 1, 1, 0, 0, 1, 1, 1, 1],\n",
       " [1, 0, 1, 1, 0, 0, 1, 1, 1, 1],\n",
       " [0, 1, 1, 1, 1, 0, 1, 1, 0, 0],\n",
       " [0, 1, 0, 0, 1, 1, 0, 1, 1, 0]]"
      ]
     },
     "execution_count": 4,
     "metadata": {},
     "output_type": "execute_result"
    }
   ],
   "source": [
    "import random\n",
    "\n",
    "def random_population(pop_size, ind_size):\n",
    "    pop = []\n",
    "    for _ in range(pop_size):\n",
    "        ind = [0 if random.random() < 0.5 else 1 for _ in range(ind_size)]\n",
    "        pop.append(ind)\n",
    "    \n",
    "    return pop\n",
    "\n",
    "random_population(5, 10)"
   ]
  },
  {
   "cell_type": "markdown",
   "metadata": {},
   "source": [
    "Next, we implement the roulette-wheel selection - it's simple, the `random` module contains the `choices` function, which does exactly what we need."
   ]
  },
  {
   "cell_type": "code",
   "execution_count": 5,
   "metadata": {},
   "outputs": [],
   "source": [
    "import copy\n",
    "\n",
    "def selection(pop, fit, N):\n",
    "    return copy.deepcopy(random.choices(pop, weights=fit, k=N)) # make a deep copy so that\n",
    "                                                                # we have unique indivduals"
   ]
  },
  {
   "cell_type": "markdown",
   "metadata": {},
   "source": [
    "Now we implement the one-point crossover and a mutation that changes random bits (bit flip mutation). For both operators, we expect to receive the entire population."
   ]
  },
  {
   "cell_type": "code",
   "execution_count": 6,
   "metadata": {},
   "outputs": [
    {
     "name": "stdout",
     "output_type": "stream",
     "text": [
      "population\n",
      "[[0, 1, 0, 0, 0, 0, 1, 0, 1, 0],\n",
      " [0, 0, 0, 1, 1, 0, 0, 0, 1, 0],\n",
      " [0, 1, 0, 0, 1, 1, 0, 1, 1, 0],\n",
      " [0, 1, 1, 1, 0, 1, 1, 1, 0, 0],\n",
      " [0, 0, 1, 1, 0, 0, 0, 1, 1, 0],\n",
      " [0, 0, 0, 0, 0, 0, 0, 0, 1, 1]]\n",
      "after crossover\n",
      "[[0, 1, 0, 0, 0, 0, 1, 0, 1, 0],\n",
      " [0, 0, 0, 1, 1, 0, 0, 0, 1, 0],\n",
      " [0, 1, 0, 0, 1, 1, 0, 1, 1, 0],\n",
      " [0, 1, 1, 1, 0, 1, 1, 1, 0, 0],\n",
      " [0, 0, 1, 1, 0, 0, 0, 1, 1, 0],\n",
      " [0, 0, 0, 0, 0, 0, 0, 0, 1, 1]]\n",
      "after mutation\n",
      "[[0, 1, 0, 0, 0, 0, 1, 0, 1, 0],\n",
      " [0, 0, 0, 0, 1, 1, 0, 0, 1, 0],\n",
      " [0, 1, 0, 0, 1, 1, 0, 1, 1, 0],\n",
      " [1, 0, 0, 1, 0, 1, 1, 1, 0, 0],\n",
      " [0, 0, 1, 1, 0, 0, 0, 1, 1, 0],\n",
      " [0, 1, 0, 0, 1, 1, 0, 1, 1, 1]]\n"
     ]
    }
   ],
   "source": [
    "def crossover(pop, cx_pb = 0.8):\n",
    "    new_pop = []\n",
    "    for i in range(len(pop)//2):\n",
    "        \n",
    "        o1 = copy.deepcopy(pop[2*i])\n",
    "        o2 = copy.deepcopy(pop[2*i + 1])\n",
    "        \n",
    "        if random.random() < cx_pb: # crossover probability\n",
    "            point = random.randrange(0, len(o1))\n",
    "            o2_start = o2[:point]\n",
    "            o2[:point] = o1[:point]\n",
    "            o1[:point] = o2_start[:]\n",
    "        \n",
    "        new_pop.append(o1)\n",
    "        new_pop.append(o2)\n",
    "    \n",
    "    return new_pop\n",
    "\n",
    "def mutation(pop, mut_pb = 0.1, per_bit_pb = 0.2):\n",
    "    new_pop = []\n",
    "    for ind in pop:\n",
    "        \n",
    "        o = copy.deepcopy(ind)\n",
    "        \n",
    "        if random.random() < mut_pb: # mutation probability\n",
    "            o = [1-x if random.random() < per_bit_pb else x for x in o] # change the bit to the othex value with per_bit_pb probability\n",
    "        \n",
    "        new_pop.append(o)\n",
    "    \n",
    "    return new_pop\n",
    "\n",
    "import pprint\n",
    "pop = random_population(6, 10)\n",
    "print('population')\n",
    "pprint.pprint(pop)\n",
    "print('after crossover')\n",
    "pprint.pprint(crossover(pop))\n",
    "print('after mutation')\n",
    "pprint.pprint(mutation(pop, mut_pb=1.0))"
   ]
  },
  {
   "cell_type": "markdown",
   "metadata": {},
   "source": [
    "And that completes the algorithm. We only need to write a fitness function. We want to solve the OneMAX problem - fitness will therefore be the number of 1s in an individual."
   ]
  },
  {
   "cell_type": "code",
   "execution_count": 7,
   "metadata": {},
   "outputs": [
    {
     "name": "stdout",
     "output_type": "stream",
     "text": [
      "([0, 0, 0, 0, 0, 0, 0, 0, 1, 1], 2)\n",
      "([1, 1, 1, 0, 1, 1, 1, 1, 1, 1], 9)\n",
      "([0, 0, 1, 1, 1, 1, 0, 0, 0, 0], 4)\n",
      "([1, 1, 0, 0, 0, 1, 0, 1, 1, 1], 6)\n",
      "([1, 0, 1, 1, 1, 1, 1, 0, 0, 1], 7)\n",
      "([1, 0, 1, 1, 1, 0, 0, 1, 1, 0], 6)\n"
     ]
    }
   ],
   "source": [
    "def onemax(ind):\n",
    "    return sum(ind)\n",
    "\n",
    "pop = random_population(6, 10)\n",
    "fit = [onemax(ind) for ind in pop]\n",
    "for i,f in zip(pop, fit):\n",
    "    print((i, f))"
   ]
  },
  {
   "cell_type": "markdown",
   "metadata": {},
   "source": [
    "Let's start our algorithm and see how it works."
   ]
  },
  {
   "cell_type": "code",
   "execution_count": 8,
   "metadata": {},
   "outputs": [],
   "source": [
    "best, pop, log = evolution(pop_size = 100, ind_size = 50, max_gen = 50, fitness = onemax)"
   ]
  },
  {
   "cell_type": "code",
   "execution_count": 9,
   "metadata": {},
   "outputs": [
    {
     "name": "stdout",
     "output_type": "stream",
     "text": [
      "best fitness:  42\n",
      "best:  [1, 1, 1, 1, 0, 0, 1, 1, 1, 1, 1, 1, 1, 1, 0, 0, 1, 1, 1, 0, 1, 1, 1, 1, 1, 1, 1, 1, 1, 0, 1, 1, 1, 1, 1, 1, 0, 1, 1, 1, 1, 0, 1, 1, 1, 1, 1, 1, 1, 1]\n"
     ]
    },
    {
     "data": {
      "image/png": "[encoded data removed]",
      "text/plain": [
       "<Figure size 432x288 with 1 Axes>"
      ]
     },
     "metadata": {
      "needs_background": "light"
     },
     "output_type": "display_data"
    }
   ],
   "source": [
    "print('best fitness: ', onemax(best))\n",
    "print('best: ', best)\n",
    "\n",
    "\n",
    "%matplotlib inline\n",
    "import matplotlib.pyplot as plt\n",
    "\n",
    "plt.plot(log)\n",
    "plt.ylabel('Fitness')\n",
    "plt.xlabel('Generation')\n",
    "plt.show()"
   ]
  },
  {
   "cell_type": "markdown",
   "metadata": {},
   "source": [
    "## Exercise\n",
    "\n",
    "Try to adapt the algorithm above so that it solves the subset sum problem, i.e. find a subset of a givet set, such that its sum is exactly a given number. In the optimization version of this problem, we aim to minimize the difference between the sum of the subset and the given value.\n",
    "\n",
    "You can generate the input randomly."
   ]
  },
  {
   "cell_type": "code",
   "execution_count": 50,
   "metadata": {},
   "outputs": [
    {
     "name": "stdout",
     "output_type": "stream",
     "text": [
      "6226 [130, 100, 117, 132, 124, 147, 109, 106, 100, 147, 138, 134, 103, 141, 137, 126, 119, 142, 141, 112, 126, 109, 149, 128, 139, 103, 133, 149, 142, 107, 142, 133, 110, 106, 113, 147, 108, 104, 131, 128, 120, 144, 149, 101, 125, 114, 149, 113, 118, 141, 112, 119, 144, 120, 111, 143, 110, 107, 124, 129, 130, 138, 101, 132, 105, 142, 116, 128, 102, 109, 145, 132, 129, 103, 126, 134, 115, 116, 137, 121, 118, 103, 119, 140, 112, 138, 132, 111, 147, 126, 119, 134, 124, 130, 139, 138, 123, 105, 117, 112]\n"
     ]
    }
   ],
   "source": [
    "ind_size = 100  # try 1000\n",
    "input_set = [random.randrange(0,50) + 100 for _ in range(ind_size)] # ind_size random numbers between 100 and 150\n",
    "number = sum(input_set)//2\n",
    "\n",
    "total = sum(input_set)\n",
    "\n",
    "print(number, input_set)"
   ]
  },
  {
   "cell_type": "code",
   "execution_count": 53,
   "metadata": {},
   "outputs": [],
   "source": [
    "import numpy as np\n",
    "\n",
    "\n",
    "# You can also work with np.arrays and multiply the input_set with it\n",
    "def get_subset(ind):\n",
    "    return [input_set[i] for i, val in enumerate(ind) if val > 0.1]\n",
    "\n",
    "\n",
    "# or choose a different fitness, e.g. 1 / (diff + 1), squared error...\n",
    "def subset_sum_fitness(ind):\n",
    "    return total - objective(ind)\n",
    "\n",
    "# this is what we want to minimize\n",
    "def objective(ind):\n",
    "    return np.abs(sum(get_subset(ind)) - number)\n",
    "\n",
    "\n",
    "def get_overall_best(overall_best, fitness_best, population, fitnesses):\n",
    "    best_id = np.argmax(fitnesses)\n",
    "    best = population[best_id]\n",
    "    best_fit = fitnesses[best_id]\n",
    "    \n",
    "    if overall_best is None:\n",
    "        overall_best = best\n",
    "        fitness_best = best_fit\n",
    "    else:\n",
    "        overall_best = overall_best if best_fit <= fitness_best else best\n",
    "        fitness_best = fitness_best if best_fit <= fitness_best else best_fit\n",
    "\n",
    "    return overall_best, fitness_best\n",
    "\n",
    "\n",
    "def evolution(pop_size, ind_size, max_gen, fitness, cx_pb = 0.8, mut_pb=0.1, per_bit_pb = 0.2):\n",
    "    population = random_population(pop_size, ind_size)\n",
    "    log = []\n",
    "    \n",
    "    overall_log = []\n",
    "    fitness_best = None\n",
    "    overall_best = None\n",
    "    \n",
    "    for i in range(max_gen):\n",
    "        fit = [fitness(ind) for ind in population]\n",
    "        log.append(max(fit))\n",
    "        \n",
    "        # also log overall best individual\n",
    "        overall_best, fitness_best = get_overall_best(overall_best, fitness_best, population, fit)\n",
    "        overall_log.append(objective(overall_best))\n",
    "\n",
    "        mating_pool = selection(population, fit, pop_size)\n",
    "        offspring = crossover(mating_pool, cx_pb)\n",
    "        offspring = mutation(offspring, mut_pb, per_bit_pb)\n",
    "        population = offspring[:] # shallow copy\n",
    "    \n",
    "    fit = list(map(fitness, population))\n",
    "    best = population[np.argmax(fit)]\n",
    "    return best, population, log, overall_best, overall_log"
   ]
  },
  {
   "cell_type": "code",
   "execution_count": 55,
   "metadata": {},
   "outputs": [
    {
     "name": "stdout",
     "output_type": "stream",
     "text": [
      "best fitness:  12452\n",
      "best number:  6227 | given number:  6226\n",
      "best diff:  1\n"
     ]
    },
    {
     "data": {
      "image/png": "[encoded data removed]",
      "text/plain": [
       "<Figure size 432x288 with 1 Axes>"
      ]
     },
     "metadata": {
      "needs_background": "light"
     },
     "output_type": "display_data"
    },
    {
     "data": {
      "image/png": "[encoded data removed]",
      "text/plain": [
       "<Figure size 432x288 with 1 Axes>"
      ]
     },
     "metadata": {
      "needs_background": "light"
     },
     "output_type": "display_data"
    }
   ],
   "source": [
    "best, pop, log, overall, overall_log = evolution(pop_size = 100, ind_size = ind_size, max_gen = 50, fitness = subset_sum_fitness)\n",
    "\n",
    "print('best fitness: ', subset_sum_fitness(overall))\n",
    "print('best number: ', sum(get_subset(overall)), \"| given number: \", number)\n",
    "print('best diff: ', sum(get_subset(overall)) - number)\n",
    "\n",
    "\n",
    "%matplotlib inline\n",
    "import matplotlib.pyplot as plt\n",
    "\n",
    "plt.plot(log)\n",
    "plt.ylabel('Fitness')\n",
    "plt.xlabel('Generation')\n",
    "plt.title(\"Best fitness in a given generation\")\n",
    "plt.show()\n",
    "\n",
    "plt.plot(overall_log)\n",
    "plt.ylabel('Fitness')\n",
    "plt.xlabel('Generation')\n",
    "plt.title(\"Best objective total\")\n",
    "plt.xscale('log')\n",
    "plt.show()"
   ]
  },
  {
   "cell_type": "markdown",
   "metadata": {},
   "source": [
    "## `deap`library \n",
    "\n",
    "We saw that implementing an evolutionary algorithms is simple, however, very often it is better to use an existing library to simplify the implementation (and avoid bugs). One of the most popular libraries is `deap`. Its tutorial is well-written and - [contains the same problem we solved above][1].\n",
    "\n",
    "  [1]: https://deap.readthedocs.io/en/master/examples/ga_onemax.html"
   ]
  }
 ],
 "metadata": {
  "kernelspec": {
   "display_name": "Python 3 (ipykernel)",
   "language": "python",
   "name": "python3"
  },
  "language_info": {
   "codemirror_mode": {
    "name": "ipython",
    "version": 3
   },
   "file_extension": ".py",
   "mimetype": "text/x-python",
   "name": "python",
   "nbconvert_exporter": "python",
   "pygments_lexer": "ipython3",
   "version": "3.8.10"
  }
 },
 "nbformat": 4,
 "nbformat_minor": 4
}
