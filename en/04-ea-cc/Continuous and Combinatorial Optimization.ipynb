{
 "cells": [
  {
   "cell_type": "markdown",
   "metadata": {},
   "source": [
    "# Continuous Optimization\n",
    "\n",
    "This time, we will use the `deap` library to try some evolutionary algorithms for continuous and combinatorial optimizatioin. The main advantage of using `deap` is that many of the genetic operators we will need are already implemented in the library.\n",
    "\n",
    "Let's start with the continuous optimization. We will implement an algorithm that optimizes a given function - for our example, we will use so called Rastrigin function that is commonly used to evaluate optimization algorithms."
   ]
  },
  {
   "cell_type": "code",
   "execution_count": 2,
   "metadata": {},
   "outputs": [],
   "source": [
    "import random\n",
    "\n",
    "from deap import base\n",
    "from deap import creator\n",
    "from deap import tools\n",
    "\n",
    "IND_DIM = 20\n",
    "LOWER_BOUND = -5.12\n",
    "UPPER_BOUND = 5.12\n",
    "\n",
    "creator.create(\"FitnessMin\", base.Fitness, weights=(-1.0,))     # fitness for minimization - notice the negative weight\n",
    "creator.create(\"Individual\", list, fitness=creator.FitnessMin)  # create class for individuals - derived from list and uses the fitness defined above\n",
    "\n",
    "toolbox = base.Toolbox()\n",
    "toolbox.register(\"attr_val\", random.uniform, LOWER_BOUND, UPPER_BOUND)             # generates a single random number between 0 and 1\n",
    "toolbox.register(\"individual\", tools.initRepeat, creator.Individual, toolbox.attr_val, IND_DIM)\n",
    "toolbox.register(\"population\", tools.initRepeat, list, toolbox.individual)"
   ]
  },
  {
   "cell_type": "markdown",
   "metadata": {},
   "source": [
    "Let's now test the function we just defined in the toolbox."
   ]
  },
  {
   "cell_type": "code",
   "execution_count": 3,
   "metadata": {},
   "outputs": [
    {
     "name": "stdout",
     "output_type": "stream",
     "text": [
      "attr_val: 2.5313859280627806\n",
      "individual: [3.3958435570328964, -0.43091755855763925, -0.9981144732815004, 1.454041346101719, 2.62130031959206]\n",
      "individual length:  20\n",
      "\n",
      "population(5): [[-0.9822416205313287, 2.774339908159611, 1.254755534726593, 1.4601608440758618, 0.30106173443679385, 1.6824121405604204, -3.632877853595961, 2.962581463345619, -4.0922218871395435, -4.695032661784085, 3.1379127380001917, 2.7247419539968227, -3.679363932811672, -2.7251280378445553, 1.2222219562726533, 4.353324781877492, -1.7983917546344377, -2.921028947527949, -4.023971624140287, -1.48367091274705], [3.5043286701548544, 2.5431354911472726, 0.6512256781839376, 1.0367523177031615, -2.03567438913847, -1.8865010938576168, -3.321854536500548, -1.3667890912193057, -0.01897708154672184, 3.842970340611479, -2.8254529631093432, -0.8800335587627481, -4.307037793408498, -1.7584220949115368, -2.5626765290100333, 4.71804206292203, 1.029476075494121, 3.4125726113968478, -1.0104440456855093, 4.6039462440315875], [3.277988275074841, -2.992677226371609, 4.778353183459891, 4.849927438691238, -2.1863495366608086, 3.2415244414110598, -1.7701348000102382, -3.211186718924082, -4.846180323368962, 3.9469539258005453, 2.577047949837696, -2.5584972673291837, 0.4737885202002543, 4.79621521567423, 4.042111039369998, -0.5333635302940776, 4.718648307427261, 4.3490092433676635, -0.764412531354143, 2.4137912571500735], [-4.308055634913018, 3.6633060185886945, 0.2546861641792644, 4.572471465351106, 0.5851506099316897, 3.265073555132642, 0.9110832069412833, -2.4408363089200624, 0.6423078750518005, 2.722421610062069, 1.8815282966972724, 2.7894387737905326, 3.0869465648837044, -0.97565898909943, 0.8195666636506669, 0.4125062416897425, -3.6438586940080713, 4.7833593884488, 2.247657411935376, 0.3380568646083999], [-4.714076857612025, 0.9150319472902, 3.2220220368014916, -4.39612216738891, 2.0669994407185657, -1.0463967010676098, -0.5370100927163559, 3.6045314458781297, 0.21202061716286025, 4.0972917485232605, 3.437568578573484, 3.082438234055261, -4.049369543081076, -2.2860268887811412, -0.6582075315742193, 1.1442859221277812, 3.625509290670588, 0.5452395284919218, -4.20144752725742, -1.5743571499977542]]\n"
     ]
    }
   ],
   "source": [
    "print(\"attr_val:\", toolbox.attr_val())\n",
    "print(\"individual:\", toolbox.individual()[:5]) # plot first 5 elements of the individual\n",
    "print(\"individual length: \", len(toolbox.individual()))\n",
    "print()\n",
    "print(\"population(5):\", toolbox.population(5))  # list of lists"
   ]
  },
  {
   "cell_type": "markdown",
   "metadata": {},
   "source": [
    "Next, we need to define the genetic operators we will use in the algorithm."
   ]
  },
  {
   "cell_type": "code",
   "execution_count": 3,
   "metadata": {},
   "outputs": [],
   "source": [
    "toolbox.register(\"mate\", tools.cxTwoPoint)\n",
    "toolbox.register(\"mutate\", tools.mutGaussian, mu=0, sigma=0.1, indpb=0.05)\n",
    "toolbox.register(\"select\", tools.selTournament, tournsize=2)"
   ]
  },
  {
   "cell_type": "markdown",
   "metadata": {},
   "source": [
    "And finally, we define the fitness function"
   ]
  },
  {
   "cell_type": "code",
   "execution_count": 4,
   "metadata": {},
   "outputs": [],
   "source": [
    "import math\n",
    "def rastrigin(ind):\n",
    "    return 10*len(ind) + sum([(x**2 - 10 * math.cos(2 * math.pi * x)) for x in ind]),\n",
    "\n",
    "toolbox.register(\"evaluate\", rastrigin)"
   ]
  },
  {
   "cell_type": "markdown",
   "metadata": {},
   "source": [
    "We can now combine everything together and run the algorithm."
   ]
  },
  {
   "cell_type": "code",
   "execution_count": 5,
   "metadata": {},
   "outputs": [
    {
     "name": "stdout",
     "output_type": "stream",
     "text": [
      "[[-1.9861133926593866, 2.9849344579039983, 0.9969809913127585, -1.9904015851636674, 1.99010256894486, -0.9951646021909609, 0.9948427430626958, -3.9760545734902792, 1.9904849617159877, 0.0012627261607297945, 0.9952733137704773, -0.9878402148178979, -0.9959751787569291, -0.9948954890660278, -0.9975360420115232, -0.9940918434054125, -1.9913841608628584, 1.9844282216056595, 3.9779507049890284, 0.002519280943508541]] 73.65358886628937\n"
     ]
    }
   ],
   "source": [
    "from deap import algorithms\n",
    "import numpy as np\n",
    "\n",
    "s = tools.Statistics(lambda x: x.fitness.values[0])\n",
    "s.register(\"mean\", np.mean)\n",
    "s.register(\"max\", max)\n",
    "s.register(\"min\", min)\n",
    "\n",
    "hof = tools.HallOfFame(1)\n",
    "\n",
    "pop = toolbox.population(100)\n",
    "pop, log = algorithms.eaMuPlusLambda(pop, toolbox, mu=100, lambda_=100, cxpb=0.8, mutpb=0.2, ngen=500, stats=s, halloffame=hof, verbose=False)\n",
    "\n",
    "print(hof, hof[0].fitness.values[0])"
   ]
  },
  {
   "cell_type": "markdown",
   "metadata": {},
   "source": [
    "### Side quest 1\n",
    "- plot min/max/mean fitness values using `log` and matplotlib"
   ]
  },
  {
   "cell_type": "code",
   "execution_count": null,
   "metadata": {},
   "outputs": [],
   "source": []
  },
  {
   "cell_type": "markdown",
   "metadata": {},
   "source": [
    "## Task 1\n",
    "- try to play with parameters of the algorithm (cx, mut pbs, mu/lambda, mutation/crossover types)\n",
    "- Check the `deap` documentation for possible types of genetic operators/evolutionary algorithms.\n",
    "    - specifically [library reference](https://deap.readthedocs.io/en/master/api/index.html)\n",
    "\n",
    "The optimum of the function should be 0 and the best individual should contain only 0s.\n"
   ]
  },
  {
   "cell_type": "code",
   "execution_count": null,
   "metadata": {},
   "outputs": [],
   "source": []
  },
  {
   "cell_type": "code",
   "execution_count": null,
   "metadata": {},
   "outputs": [],
   "source": []
  },
  {
   "cell_type": "markdown",
   "metadata": {},
   "source": [
    "### Side quest 2 - logging\n",
    "Instead of just toggling different values in the notebook and remembering the results, you can use the code below to log the results. **Always define results = [] or results = {} at the top of the jupyter notebook**\n",
    "\n",
    "These are only examples that will probably crash, you should include them into your code"
   ]
  },
  {
   "cell_type": "code",
   "execution_count": null,
   "metadata": {},
   "outputs": [],
   "source": [
    "# ********************** VARIANT 1 **********************\n",
    "# Example 1 how to track results in a jupyter ntb\n",
    "results = {}\n",
    "\n",
    "# one result per setting, log as dict keys\n",
    "results[f\"cxpb-{cxpb}_mutpb-{mutpb}\"] = hof[0].fitness.values[0]"
   ]
  },
  {
   "cell_type": "code",
   "execution_count": null,
   "metadata": {},
   "outputs": [],
   "source": [
    "# ********************** VARIANT 2 **********************\n",
    "# Example 2 how to track results in a jupyter ntb\n",
    "\n",
    "results = []\n",
    "\n",
    "# **** do EA here, log results ****\n",
    "results.append({'seed': random_seed, \"cxpb\": cxpb, \"mutpb\": mutpb, \"result\": result})\n",
    "\n",
    "# I can also create a pandas dataframe and save it to csv!\n",
    "import pandas as pd\n",
    "\n",
    "results = pd.DataFrame(results)\n",
    "results.to_csv('res.csv')"
   ]
  },
  {
   "cell_type": "markdown",
   "metadata": {},
   "source": [
    "In case you also want to log functions (like mutation types), you can do it like this: "
   ]
  },
  {
   "cell_type": "code",
   "execution_count": null,
   "metadata": {},
   "outputs": [],
   "source": [
    "# illustration how to log function choices\n",
    "cx_zoo = {\"twopoint\": tools.cxTwoPoint, \"dummy\": lambda x, y: x}\n",
    "\n",
    "toolbox.register(\"mate\", cxzoo[\"twopoint\"])\n",
    "\n",
    "# then in logging...\n",
    "# results.append({'cx': 'twopoint', \"result\": result})"
   ]
  },
  {
   "cell_type": "code",
   "execution_count": 6,
   "metadata": {},
   "outputs": [
    {
     "data": {
      "text/plain": [
       "['cx_0.25.json', 'cx_0.3.json']"
      ]
     },
     "execution_count": 6,
     "metadata": {},
     "output_type": "execute_result"
    }
   ],
   "source": [
    "# ********************** VARIANT 3 **********************\n",
    "# Use experimental_design.py to generate .json files with results. Then, use the following code to process them:\n",
    "\n",
    "import os\n",
    "import json\n",
    "import pandas as pd\n",
    "\n",
    "os.listdir('results')"
   ]
  },
  {
   "cell_type": "code",
   "execution_count": 7,
   "metadata": {},
   "outputs": [
    {
     "data": {
      "text/html": [
       "<div>\n",
       "<style scoped>\n",
       "    .dataframe tbody tr th:only-of-type {\n",
       "        vertical-align: middle;\n",
       "    }\n",
       "\n",
       "    .dataframe tbody tr th {\n",
       "        vertical-align: top;\n",
       "    }\n",
       "\n",
       "    .dataframe thead th {\n",
       "        text-align: right;\n",
       "    }\n",
       "</style>\n",
       "<table border=\"1\" class=\"dataframe\">\n",
       "  <thead>\n",
       "    <tr style=\"text-align: right;\">\n",
       "      <th></th>\n",
       "      <th>name</th>\n",
       "      <th>pop_size</th>\n",
       "      <th>cxpb</th>\n",
       "      <th>result</th>\n",
       "    </tr>\n",
       "  </thead>\n",
       "  <tbody>\n",
       "    <tr>\n",
       "      <th>0</th>\n",
       "      <td>cx_0.25</td>\n",
       "      <td>100</td>\n",
       "      <td>0.25</td>\n",
       "      <td>74.676997</td>\n",
       "    </tr>\n",
       "    <tr>\n",
       "      <th>1</th>\n",
       "      <td>cx_0.3</td>\n",
       "      <td>100</td>\n",
       "      <td>0.30</td>\n",
       "      <td>58.742042</td>\n",
       "    </tr>\n",
       "  </tbody>\n",
       "</table>\n",
       "</div>"
      ],
      "text/plain": [
       "      name  pop_size  cxpb     result\n",
       "0  cx_0.25       100  0.25  74.676997\n",
       "1   cx_0.3       100  0.30  58.742042"
      ]
     },
     "execution_count": 7,
     "metadata": {},
     "output_type": "execute_result"
    }
   ],
   "source": [
    "run_df = []\n",
    "\n",
    "for fname in os.listdir('results'):\n",
    "    with open(os.path.join('results', fname), 'r') as f:\n",
    "        run_data = json.load(f)\n",
    "    \n",
    "    name = os.path.splitext(fname)[0]\n",
    "    run_data = {'name': name, **run_data}  # so that name is the first column\n",
    "    run_df.append(run_data)\n",
    "    \n",
    "run_df = pd.DataFrame(run_df)\n",
    "run_df"
   ]
  },
  {
   "cell_type": "markdown",
   "metadata": {},
   "source": [
    "\n",
    "# Combinatorial Optimization (Travelling Salesman Problem)\n",
    "\n",
    "Next, let's try to use evolutionary algorithms to solve the travelling salesman problem. We will again use the `deap` library to implement the algorithm. \n",
    "\n",
    "We will first generate random points in a plane, we will than search for the shortest cycle visiting all of them."
   ]
  },
  {
   "cell_type": "code",
   "execution_count": 6,
   "metadata": {},
   "outputs": [
    {
     "data": {
      "image/png": "[encoded data removed]",
      "text/plain": [
       "<Figure size 640x480 with 1 Axes>"
      ]
     },
     "metadata": {},
     "output_type": "display_data"
    }
   ],
   "source": [
    "NUM_CITIES = 20\n",
    "\n",
    "points = np.random.uniform(size=(NUM_CITIES, 2))\n",
    "\n",
    "import matplotlib.pyplot as plt\n",
    "plt.scatter(points[:,0], points[:,1])\n",
    "\n",
    "creator.create(\"FitnessMinTSP\", base.Fitness, weights=(-1.0,))     # fitness for minimization - notice the negative weight\n",
    "creator.create(\"IndividualTSP\", list, fitness=creator.FitnessMinTSP)  # create class for individuals - derived from list and uses the fitness defined above\n",
    "\n",
    "toolboxTSP = base.Toolbox()\n",
    "toolboxTSP.register(\"indices\", random.sample, range(NUM_CITIES), NUM_CITIES)\n",
    "toolboxTSP.register(\"individual\", tools.initIterate, creator.Individual, toolboxTSP.indices) # initIterate can be used to initialize individual from any iterable object\n",
    "toolboxTSP.register(\"population\", tools.initRepeat, list, toolboxTSP.individual)"
   ]
  },
  {
   "cell_type": "markdown",
   "metadata": {},
   "source": [
    "Let's again see, what the functions we defined in the toolbox do:"
   ]
  },
  {
   "cell_type": "code",
   "execution_count": 7,
   "metadata": {},
   "outputs": [
    {
     "name": "stdout",
     "output_type": "stream",
     "text": [
      "indices: [8, 0, 2, 6, 11, 18, 9, 4, 3, 10, 14, 19, 1, 7, 13, 12, 16, 5, 15, 17]\n",
      "individual: [2, 17, 12, 10, 13, 8, 5, 11, 3, 18, 16, 1, 4, 19, 9, 6, 7, 15, 14, 0]\n"
     ]
    }
   ],
   "source": [
    "print(\"indices:\", toolboxTSP.indices())\n",
    "print(\"individual:\", toolboxTSP.individual())"
   ]
  },
  {
   "cell_type": "markdown",
   "metadata": {},
   "source": [
    "We will now implement the fitness function -- sum of Euclidean distances between consecutive points."
   ]
  },
  {
   "cell_type": "code",
   "execution_count": 8,
   "metadata": {},
   "outputs": [],
   "source": [
    "def fitness(ind, points):\n",
    "    ordered = points[ind]\n",
    "    fit = 0\n",
    "    for s, e in zip(ordered, ordered[1:]):\n",
    "        fit += np.linalg.norm(s - e)\n",
    "    fit += np.linalg.norm(ordered[0] - ordered[-1])\n",
    "    return fit,\n",
    "\n",
    "toolboxTSP.register(\"evaluate\", fitness, points=points)\n",
    "toolboxTSP.register(\"mate\", tools.cxOrdered)\n",
    "toolboxTSP.register(\"mutate\", tools.mutShuffleIndexes, indpb=0.05)\n",
    "toolboxTSP.register(\"select\", tools.selTournament, tournsize=2)"
   ]
  },
  {
   "cell_type": "markdown",
   "metadata": {},
   "source": [
    "We can now run the algorithm"
   ]
  },
  {
   "cell_type": "code",
   "execution_count": 9,
   "metadata": {},
   "outputs": [],
   "source": [
    "pop = toolboxTSP.population(n=100)\n",
    "hof = tools.HallOfFame(1)\n",
    "stats = tools.Statistics(lambda ind: ind.fitness.values)\n",
    "stats.register(\"avg\", np.mean)\n",
    "stats.register(\"std\", np.std)\n",
    "stats.register(\"min\", np.min)\n",
    "stats.register(\"max\", np.max)\n",
    "    \n",
    "pop, log = algorithms.eaMuPlusLambda(pop, toolboxTSP, mu=100, lambda_=100, cxpb=0.8, mutpb=0.2, ngen=500, stats=stats, halloffame=hof, verbose=False)"
   ]
  },
  {
   "cell_type": "markdown",
   "metadata": {},
   "source": [
    "Let's now plot the best solution (the simple plot does not show the edge from the first to the last node, but it is computed correctly in the individual)."
   ]
  },
  {
   "cell_type": "code",
   "execution_count": 10,
   "metadata": {},
   "outputs": [
    {
     "data": {
      "text/plain": [
       "[<matplotlib.lines.Line2D at 0x1983ed80160>]"
      ]
     },
     "execution_count": 10,
     "metadata": {},
     "output_type": "execute_result"
    },
    {
     "data": {
      "image/png": "[encoded data removed]",
      "text/plain": [
       "<Figure size 640x480 with 1 Axes>"
      ]
     },
     "metadata": {},
     "output_type": "display_data"
    }
   ],
   "source": [
    "plt.scatter(points[:,0], points[:,1])\n",
    "plt.plot(points[hof[0]][:,0], points[hof[0]][:,1])"
   ]
  },
  {
   "cell_type": "markdown",
   "metadata": {},
   "source": [
    "## Task 2\n",
    "\n",
    "You can now try experimenting with the solution to the TSP - what will happen, if we increase the number of points? Try changing the genetic operators to other ones from `deap`."
   ]
  },
  {
   "cell_type": "code",
   "execution_count": null,
   "metadata": {},
   "outputs": [],
   "source": []
  }
 ],
 "metadata": {
  "kernelspec": {
   "display_name": "Python 3 (ipykernel)",
   "language": "python",
   "name": "python3"
  },
  "language_info": {
   "codemirror_mode": {
    "name": "ipython",
    "version": 3
   },
   "file_extension": ".py",
   "mimetype": "text/x-python",
   "name": "python",
   "nbconvert_exporter": "python",
   "pygments_lexer": "ipython3",
   "version": "3.8.10"
  }
 },
 "nbformat": 4,
 "nbformat_minor": 4
}
